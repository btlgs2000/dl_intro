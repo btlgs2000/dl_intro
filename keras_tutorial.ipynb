{
  "nbformat": 4,
  "nbformat_minor": 0,
  "metadata": {
    "language_info": {
      "codemirror_mode": {
        "name": "ipython",
        "version": 3
      },
      "file_extension": ".py",
      "mimetype": "text/x-python",
      "name": "python",
      "nbconvert_exporter": "python",
      "pygments_lexer": "ipython3",
      "version": "3.7.7-final"
    },
    "orig_nbformat": 2,
    "kernelspec": {
      "name": "python37764bittensorflowconda4a11e7685c9d4f77b472bc84de9da134",
      "display_name": "Python 3.7.7 64-bit ('tensorflow': conda)"
    },
    "colab": {
      "name": "keras_tutorial.ipynb",
      "provenance": [],
      "toc_visible": true
    }
  },
  "cells": [
    {
      "cell_type": "markdown",
      "metadata": {
        "id": "hVyo2zf7nU-s",
        "colab_type": "text"
      },
      "source": [
        "# Keras tutorial"
      ]
    },
    {
      "cell_type": "code",
      "metadata": {
        "id": "XVY0g-kXnZOr",
        "colab_type": "code",
        "colab": {}
      },
      "source": [
        "! git clone https://github.com/btlgs2000/dl_intro"
      ],
      "execution_count": null,
      "outputs": []
    },
    {
      "cell_type": "code",
      "metadata": {
        "id": "PwswSgounU-u",
        "colab_type": "code",
        "colab": {}
      },
      "source": [
        "import random\n",
        "\n",
        "import tensorflow as tf\n",
        "import tensorflow.keras as keras\n",
        "from tensorflow.keras import Input\n",
        "from tensorflow.keras.layers import Dense, Flatten\n",
        "import matplotlib.pyplot as plt\n",
        "import numpy as np\n",
        "\n",
        "from dl_intro.utils import display_samples, take_test_samples_idxs"
      ],
      "execution_count": null,
      "outputs": []
    },
    {
      "cell_type": "markdown",
      "metadata": {
        "id": "xsY7wPwinU-1",
        "colab_type": "text"
      },
      "source": [
        "## MNIST Dataset"
      ]
    },
    {
      "cell_type": "code",
      "metadata": {
        "id": "ZmmnHiJLnU-2",
        "colab_type": "code",
        "colab": {}
      },
      "source": [
        "(x_train, y_train), (x_test, y_test) = keras.datasets.mnist.load_data()"
      ],
      "execution_count": null,
      "outputs": []
    },
    {
      "cell_type": "code",
      "metadata": {
        "id": "Nlr_GSk1nU-6",
        "colab_type": "code",
        "colab": {}
      },
      "source": [
        "x_train[0].shape"
      ],
      "execution_count": null,
      "outputs": []
    },
    {
      "cell_type": "code",
      "metadata": {
        "tags": [],
        "id": "ez5v06mVnU-_",
        "colab_type": "code",
        "colab": {}
      },
      "source": [
        "display_samples(x_train, y_train, n_rows=5, n_cols=8, label=6)"
      ],
      "execution_count": null,
      "outputs": []
    },
    {
      "cell_type": "markdown",
      "metadata": {
        "id": "bThu6EbhnU_E",
        "colab_type": "text"
      },
      "source": [
        "## MLP con modello sequenziale"
      ]
    },
    {
      "cell_type": "markdown",
      "metadata": {
        "id": "NCRxxZtBnU_F",
        "colab_type": "text"
      },
      "source": [
        "### lista di strati passati al costruttore"
      ]
    },
    {
      "cell_type": "code",
      "metadata": {
        "id": "fwwbAnrYnU_F",
        "colab_type": "code",
        "colab": {}
      },
      "source": [
        "model = keras.Sequential([\n",
        "    Input(shape=(28, 28)),\n",
        "    Flatten(),\n",
        "    Dense(100, activation='relu'),\n",
        "    Dense(10, activation='softmax')\n",
        "]\n",
        ")"
      ],
      "execution_count": null,
      "outputs": []
    },
    {
      "cell_type": "code",
      "metadata": {
        "tags": [],
        "id": "HDfrF0IMnU_I",
        "colab_type": "code",
        "colab": {}
      },
      "source": [
        "model.summary()"
      ],
      "execution_count": null,
      "outputs": []
    },
    {
      "cell_type": "markdown",
      "metadata": {
        "id": "KrWR6tJqnU_M",
        "colab_type": "text"
      },
      "source": [
        "### Costruzione con il metodo add"
      ]
    },
    {
      "cell_type": "code",
      "metadata": {
        "id": "DRqF6UopnU_M",
        "colab_type": "code",
        "colab": {}
      },
      "source": [
        "model = keras.Sequential()\n",
        "model.add(Input(shape=(28, 28)))\n",
        "model.add(Flatten())\n",
        "model.add(Dense(100, activation='relu'))\n",
        "model.add(Dense(10, activation='softmax'))"
      ],
      "execution_count": null,
      "outputs": []
    },
    {
      "cell_type": "markdown",
      "metadata": {
        "id": "qx8F0rx1nU_Q",
        "colab_type": "text"
      },
      "source": [
        "### sommario"
      ]
    },
    {
      "cell_type": "code",
      "metadata": {
        "tags": [],
        "id": "ny6RBPUPnU_Q",
        "colab_type": "code",
        "colab": {}
      },
      "source": [
        "model.summary()"
      ],
      "execution_count": null,
      "outputs": []
    },
    {
      "cell_type": "markdown",
      "metadata": {
        "id": "ikeQMQhFnU_T",
        "colab_type": "text"
      },
      "source": [
        "### plot"
      ]
    },
    {
      "cell_type": "code",
      "metadata": {
        "id": "kqF8lTNXnU_T",
        "colab_type": "code",
        "colab": {}
      },
      "source": [
        "keras.utils.plot_model(model)"
      ],
      "execution_count": null,
      "outputs": []
    },
    {
      "cell_type": "markdown",
      "metadata": {
        "id": "U583CCzDnU_W",
        "colab_type": "text"
      },
      "source": [
        "### compilazione\n",
        "\n",
        "La compilazione prepara il modello per l'addestramento.\n",
        "Vengono definiti:\n",
        "* il metodo di ottimizzazione\n",
        "* la funzione di loss\n",
        "* eventuali metriche"
      ]
    },
    {
      "cell_type": "code",
      "metadata": {
        "id": "lwTFocjznU_W",
        "colab_type": "code",
        "colab": {}
      },
      "source": [
        "sgd = keras.optimizers.SGD(learning_rate=1e-3)\n",
        "model.compile(optimizer=sgd, loss='categorical_crossentropy', metrics=['accuracy'])"
      ],
      "execution_count": null,
      "outputs": []
    },
    {
      "cell_type": "markdown",
      "metadata": {
        "id": "7oujyXMmnU_Z",
        "colab_type": "text"
      },
      "source": [
        "### addestramento"
      ]
    },
    {
      "cell_type": "code",
      "metadata": {
        "id": "bV2WsnBRnU_Z",
        "colab_type": "code",
        "colab": {}
      },
      "source": [
        "callbacks = [\n",
        "    tf.keras.callbacks.TensorBoard(log_dir='tensorboard_logs', histogram_freq=1, write_graph=True, write_images=True),\n",
        "    tf.keras.callbacks.ModelCheckpoint('tensorboard_logs/weights.{epoch:02d}-{val_loss:.2f}.tf', monitor='val_loss', verbose=0, save_best_only=False, save_weights_only=True),\n",
        "    tf.keras.callbacks.EarlyStopping(monitor='val_loss', patience=5, restore_best_weights=True)\n",
        "]"
      ],
      "execution_count": null,
      "outputs": []
    },
    {
      "cell_type": "code",
      "metadata": {
        "tags": [],
        "id": "TMfPCdennU_b",
        "colab_type": "code",
        "colab": {}
      },
      "source": [
        "h = model.fit(x=x_train, y=tf.one_hot(y_train, 10), batch_size=32, epochs=10, validation_split=0.1, callbacks=callbacks)"
      ],
      "execution_count": null,
      "outputs": []
    },
    {
      "cell_type": "markdown",
      "metadata": {
        "id": "zV32tiocnU_e",
        "colab_type": "text"
      },
      "source": [
        "### test"
      ]
    },
    {
      "cell_type": "code",
      "metadata": {
        "id": "kw97J0MgnU_e",
        "colab_type": "code",
        "colab": {}
      },
      "source": [
        "model.metrics_names"
      ],
      "execution_count": null,
      "outputs": []
    },
    {
      "cell_type": "code",
      "metadata": {
        "tags": [],
        "id": "d5_82YwTnU_h",
        "colab_type": "code",
        "colab": {}
      },
      "source": [
        "val_loss, val_accuracy = model.evaluate(x=x_test, y=tf.one_hot(y_test, 10), batch_size=32)"
      ],
      "execution_count": null,
      "outputs": []
    },
    {
      "cell_type": "markdown",
      "metadata": {
        "id": "PxBqYkRZnU_j",
        "colab_type": "text"
      },
      "source": [
        "### predizione"
      ]
    },
    {
      "cell_type": "code",
      "metadata": {
        "tags": [],
        "id": "d2kI6-ARnU_k",
        "colab_type": "code",
        "colab": {}
      },
      "source": [
        "y_prob = model.predict(x=x_test)"
      ],
      "execution_count": null,
      "outputs": []
    },
    {
      "cell_type": "code",
      "metadata": {
        "id": "QKOFI2WKnU_l",
        "colab_type": "code",
        "colab": {}
      },
      "source": [
        "y_hat = np.argmax(y_prob, axis=1)"
      ],
      "execution_count": null,
      "outputs": []
    },
    {
      "cell_type": "markdown",
      "metadata": {
        "id": "ZICxVlf9nU_p",
        "colab_type": "text"
      },
      "source": [
        "## esame della predizione"
      ]
    },
    {
      "cell_type": "markdown",
      "metadata": {
        "id": "ZdiwTn8dnU_p",
        "colab_type": "text"
      },
      "source": [
        "### predizioni corrette con maggiore confidenza"
      ]
    },
    {
      "cell_type": "code",
      "metadata": {
        "id": "q5q_pkXanU_q",
        "colab_type": "code",
        "colab": {}
      },
      "source": [
        "idxs = take_test_samples_idxs(y_prob, y_test, is_correct=True, most_confident=True, k=5*4)\n",
        "display_samples(x_test[idxs], y_test[idxs], y_hat[idxs], y_prob[idxs], n_rows=5, n_cols=4)"
      ],
      "execution_count": null,
      "outputs": []
    },
    {
      "cell_type": "markdown",
      "metadata": {
        "id": "xgNhlSkjnU_s",
        "colab_type": "text"
      },
      "source": [
        "### predizioni corrette con minore confidenza"
      ]
    },
    {
      "cell_type": "code",
      "metadata": {
        "id": "UnvBtuSUnU_s",
        "colab_type": "code",
        "colab": {}
      },
      "source": [
        "idxs = take_test_samples_idxs(y_prob, y_test, is_correct=True, most_confident=False, k=5*4)\n",
        "display_samples(x_test[idxs], y_test[idxs], y_hat[idxs], y_prob[idxs], n_rows=5, n_cols=4)"
      ],
      "execution_count": null,
      "outputs": []
    },
    {
      "cell_type": "markdown",
      "metadata": {
        "id": "BiPXHbmEnU_u",
        "colab_type": "text"
      },
      "source": [
        "### predizioni errate con maggiore confidenza"
      ]
    },
    {
      "cell_type": "code",
      "metadata": {
        "id": "19CGD-fsnU_v",
        "colab_type": "code",
        "colab": {}
      },
      "source": [
        "idxs = take_test_samples_idxs(y_prob, y_test, is_correct=False, most_confident=True, k=5*4)\n",
        "display_samples(x_test[idxs], y_test[idxs], y_hat[idxs], y_prob[idxs], n_rows=5, n_cols=4)"
      ],
      "execution_count": null,
      "outputs": []
    },
    {
      "cell_type": "markdown",
      "metadata": {
        "id": "fs9gXwQfnU_w",
        "colab_type": "text"
      },
      "source": [
        "### predizioni errate con minore confidenza"
      ]
    },
    {
      "cell_type": "code",
      "metadata": {
        "id": "-0zktH4snU_x",
        "colab_type": "code",
        "colab": {}
      },
      "source": [
        "idxs = take_test_samples_idxs(y_prob, y_test, is_correct=False, most_confident=False, k=5*4)\n",
        "display_samples(x_test[idxs], y_test[idxs], y_hat[idxs], y_prob[idxs], n_rows=5, n_cols=4)"
      ],
      "execution_count": null,
      "outputs": []
    },
    {
      "cell_type": "code",
      "metadata": {
        "id": "3y9Rq2q0oLd6",
        "colab_type": "code",
        "colab": {}
      },
      "source": [
        ""
      ],
      "execution_count": null,
      "outputs": []
    }
  ]
}