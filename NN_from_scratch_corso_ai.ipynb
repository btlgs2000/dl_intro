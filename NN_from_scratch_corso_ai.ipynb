{
  "nbformat": 4,
  "nbformat_minor": 0,
  "metadata": {
    "colab": {
      "name": "NN_from_scratch_corso_ai.ipynb",
      "provenance": [],
      "authorship_tag": "ABX9TyM3c27jP14reZ3KCC+FP2SE",
      "include_colab_link": true
    },
    "kernelspec": {
      "name": "python3",
      "display_name": "Python 3"
    }
  },
  "cells": [
    {
      "cell_type": "markdown",
      "metadata": {
        "id": "view-in-github",
        "colab_type": "text"
      },
      "source": [
        "<a href=\"https://colab.research.google.com/github/btlgs2000/dl_intro/blob/master/NN_from_scratch_corso_ai.ipynb\" target=\"_parent\"><img src=\"https://colab.research.google.com/assets/colab-badge.svg\" alt=\"Open In Colab\"/></a>"
      ]
    },
    {
      "cell_type": "code",
      "metadata": {
        "id": "TaILMw2h6SAi",
        "colab_type": "code",
        "colab": {}
      },
      "source": [
        "class LinearLayer:\n",
        "    def __init__(self, n_in, n_out):\n",
        "        # inizializzare con distribuzione normale standard\n",
        "        self.W = None\n",
        "        # inizializzare a 0\n",
        "        self.b = None\n",
        "\n",
        "        # hanno le stesse dimensioni di W e di b\n",
        "        self.dW = None\n",
        "        self.db = None\n",
        "\n",
        "    def forward(self, x):\n",
        "        ''' restituisce y = Wx + b\n",
        "\n",
        "        args\n",
        "        ----\n",
        "        x (np.array): x.shape = (n_in, 1)\n",
        "\n",
        "        ret\n",
        "        ---\n",
        "        y (np.array): y.shape = (n_out, 1)\n",
        "        '''\n",
        "        pass\n",
        "\n",
        "    def backward(self, dy):\n",
        "        ''' restituisce dx (dl/dx) e valorizza\n",
        "        gli attributi dW e db\n",
        "        \n",
        "        args\n",
        "        ----\n",
        "        dy (np.array): dy.shape (n_out, 1)\n",
        "\n",
        "        ret\n",
        "        ---\n",
        "        dx (np.array): dx.shape = (n_in, 1)\n",
        "        '''\n",
        "        pass\n",
        "    "
      ],
      "execution_count": null,
      "outputs": []
    }
  ]
}