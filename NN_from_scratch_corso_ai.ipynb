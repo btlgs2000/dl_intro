{
  "nbformat": 4,
  "nbformat_minor": 0,
  "metadata": {
    "colab": {
      "name": "NN_from_scratch_corso_ai.ipynb",
      "provenance": [],
      "collapsed_sections": [],
      "authorship_tag": "ABX9TyPDuBOOfDbibqSj/pDpr5Ew",
      "include_colab_link": true
    },
    "kernelspec": {
      "name": "python3",
      "display_name": "Python 3"
    }
  },
  "cells": [
    {
      "cell_type": "markdown",
      "metadata": {
        "id": "view-in-github",
        "colab_type": "text"
      },
      "source": [
        "<a href=\"https://colab.research.google.com/github/btlgs2000/dl_intro/blob/master/NN_from_scratch_corso_ai.ipynb\" target=\"_parent\"><img src=\"https://colab.research.google.com/assets/colab-badge.svg\" alt=\"Open In Colab\"/></a>"
      ]
    },
    {
      "cell_type": "code",
      "metadata": {
        "id": "fuTb8fIQANRM",
        "colab_type": "code",
        "colab": {}
      },
      "source": [
        "import numpy as np"
      ],
      "execution_count": null,
      "outputs": []
    },
    {
      "cell_type": "code",
      "metadata": {
        "id": "TaILMw2h6SAi",
        "colab_type": "code",
        "colab": {}
      },
      "source": [
        "class LinearLayer:\n",
        "    def __init__(self, n_in, n_out):\n",
        "        self.n_in = n_in\n",
        "        self.n_out = n_out\n",
        "        # inizializzare con distribuzione normale standard\n",
        "        self.W = np.random.rand(n_out, n_in)\n",
        "        # inizializzare a 0\n",
        "        self.b = np.zeros(shape=(n_out, 1))\n",
        "\n",
        "        # hanno le stesse dimensioni di W e di b\n",
        "        self.dW = None\n",
        "        self.db = None\n",
        "\n",
        "    def forward(self, x):\n",
        "        ''' restituisce y = Wx + b\n",
        "\n",
        "        args\n",
        "        ----\n",
        "        x (np.array): x.shape = (n_in, 1)\n",
        "\n",
        "        ret\n",
        "        ---\n",
        "        y (np.array): y.shape = (n_out, 1)\n",
        "        '''\n",
        "        assert x.shape == (self.n_in, 1)\n",
        "        self.x = x\n",
        "        y = self.W@x + self.b\n",
        "        assert y.shape ==(self.n_out, 1)\n",
        "        return y\n",
        "\n",
        "    def backward(self, dy):\n",
        "        ''' restituisce dx (dl/dx) e valorizza\n",
        "        gli attributi dW e db\n",
        "        \n",
        "        args\n",
        "        ----\n",
        "        dy (np.array): dy.shape (n_out, 1)\n",
        "\n",
        "        ret\n",
        "        ---\n",
        "        dx (np.array): dx.shape = (n_in, 1)\n",
        "        '''\n",
        "        assert dy.shape ==(self.n_out, 1)\n",
        "\n",
        "        self.db = dy\n",
        "        self.dW = dy@self.x.T\n",
        "        assert self.dW.shape == (self.n_out, self.n_in)\n",
        "        dx = self.W.T@dy\n",
        "        assert dx.shape == (self.n_in, 1)\n",
        "        return dx"
      ],
      "execution_count": null,
      "outputs": []
    },
    {
      "cell_type": "code",
      "metadata": {
        "id": "Ar9-Cq7KC-3R",
        "colab_type": "code",
        "colab": {}
      },
      "source": [
        "class Sigmoid:\n",
        "    def forward(self, x):\n",
        "        ''' restituisce y = sigma(x)\n",
        "\n",
        "        args\n",
        "        ----\n",
        "        x (np.array): x.shape = (n, 1)\n",
        "\n",
        "        ret\n",
        "        ---\n",
        "        y (np.array): x.shape = (n, 1)\n",
        "        '''\n",
        "        self.y = 1 / (1+np.exp(-x))\n",
        "        return self.y\n",
        "\n",
        "    def backward(self, dy):\n",
        "        ''' \n",
        "        args\n",
        "        ----\n",
        "        dy (np.array): dy.shape = (n, 1)\n",
        "\n",
        "        ret\n",
        "        ---\n",
        "        dx (np.array): dx.shape = (n, 1)\n",
        "\n",
        "        '''\n",
        "        return self.y * (1-self.y) * dy"
      ],
      "execution_count": 14,
      "outputs": []
    },
    {
      "cell_type": "code",
      "metadata": {
        "id": "YlgEHem4K4wV",
        "colab_type": "code",
        "colab": {}
      },
      "source": [
        "class Softmax:\n",
        "    def forward(self, x):\n",
        "        # traslazione per stabilità numerica\n",
        "        x_max = np.max(x)\n",
        "        x_reg = x - x_max\n",
        "\n",
        "        self.x_exp = np.exp(x_reg)\n",
        "        self.s = np.sum(self.x_exp)\n",
        "        assert self.s.ndim == 0\n",
        "        y = self.x_exp / self.s # normalizzazione\n",
        "        assert y.shape == x.shape\n",
        "        return y\n",
        "\n",
        "    def backward(self, dy):\n",
        "        n = dy.shape[0]\n",
        "        return (self.x_exp * (np.eye(n)*self.s - self.x_exp.T) / self.s**2).T @ dy"
      ],
      "execution_count": 47,
      "outputs": []
    },
    {
      "cell_type": "code",
      "metadata": {
        "id": "w6LdCkRwLKox",
        "colab_type": "code",
        "colab": {}
      },
      "source": [
        "class CrossEntropyLoss:\n",
        "    def forward(self, y_true, y_pred):\n",
        "        ''' calcola la CE\n",
        "\n",
        "        args\n",
        "        ----\n",
        "        y_true (np.array): one-hot y_true.shape=(C, 1)\n",
        "        y_pred (np.array): è l'output della Softmax y_pred.shape=(C, 1)\n",
        "\n",
        "        ret\n",
        "        ---\n",
        "        L (np.array): L.shape=(1, 1)\n",
        "        '''\n",
        "        self.y_pred = y_pred\n",
        "        self.y_true = y_true\n",
        "        L = - np.log(y_pred[np.argmax(y_true)])\n",
        "        return L\n",
        "\n",
        "    def backward(self):\n",
        "        '''\n",
        "\n",
        "        ret\n",
        "        ---\n",
        "        dy_pred (np.array): dy_pred.shape=(C, 1)\n",
        "        '''\n",
        "        dy_pred = -y_true * (1/y_pred)\n",
        "        return dy_pred"
      ],
      "execution_count": 30,
      "outputs": []
    }
  ]
}