{
  "nbformat": 4,
  "nbformat_minor": 0,
  "metadata": {
    "colab": {
      "name": "NN_from_scratch_corso_ai_svolto.ipynb",
      "provenance": [],
      "collapsed_sections": [],
      "authorship_tag": "ABX9TyN7Y387ZHxNTSFvsDHBU9zQ",
      "include_colab_link": true
    },
    "kernelspec": {
      "name": "python3",
      "display_name": "Python 3"
    }
  },
  "cells": [
    {
      "cell_type": "markdown",
      "metadata": {
        "id": "view-in-github",
        "colab_type": "text"
      },
      "source": [
        "<a href=\"https://colab.research.google.com/github/btlgs2000/dl_intro/blob/master/NN_from_scratch_corso_ai_svolto.ipynb\" target=\"_parent\"><img src=\"https://colab.research.google.com/assets/colab-badge.svg\" alt=\"Open In Colab\"/></a>"
      ]
    },
    {
      "cell_type": "code",
      "metadata": {
        "id": "fuTb8fIQANRM",
        "colab_type": "code",
        "colab": {}
      },
      "source": [
        "import numpy as np"
      ],
      "execution_count": 2,
      "outputs": []
    },
    {
      "cell_type": "code",
      "metadata": {
        "id": "TaILMw2h6SAi",
        "colab_type": "code",
        "colab": {}
      },
      "source": [
        "class LinearLayer:\n",
        "    def __init__(self, n_in, n_out):\n",
        "        self.n_in = n_in\n",
        "        self.n_out = n_out\n",
        "        # inizializzare con distribuzione normale standard\n",
        "        self.W = np.random.rand(n_out, n_in)\n",
        "        # inizializzare a 0\n",
        "        self.b = np.zeros(shape=(n_out, 1))\n",
        "\n",
        "        # hanno le stesse dimensioni di W e di b\n",
        "        self.dW = None\n",
        "        self.db = None\n",
        "\n",
        "    def forward(self, x):\n",
        "        ''' restituisce y = Wx + b\n",
        "\n",
        "        args\n",
        "        ----\n",
        "        x (np.array): x.shape = (n_in, 1)\n",
        "\n",
        "        ret\n",
        "        ---\n",
        "        y (np.array): y.shape = (n_out, 1)\n",
        "        '''\n",
        "        assert x.shape == (self.n_in, 1)\n",
        "        self.x = x\n",
        "        y = self.W@x + self.b\n",
        "        assert y.shape ==(self.n_out, 1)\n",
        "        return y\n",
        "\n",
        "    def backward(self, dy):\n",
        "        ''' restituisce dx (dl/dx) e valorizza\n",
        "        gli attributi dW e db\n",
        "        \n",
        "        args\n",
        "        ----\n",
        "        dy (np.array): dy.shape (n_out, 1)\n",
        "\n",
        "        ret\n",
        "        ---\n",
        "        dx (np.array): dx.shape = (n_in, 1)\n",
        "        '''\n",
        "        assert dy.shape ==(self.n_out, 1)\n",
        "\n",
        "        self.db = dy\n",
        "        self.dW = dy@self.x.T\n",
        "        assert self.dW.shape == (self.n_out, self.n_in)\n",
        "        dx = self.W.T@dy\n",
        "        assert dx.shape == (self.n_in, 1)\n",
        "        return dx"
      ],
      "execution_count": 10,
      "outputs": []
    },
    {
      "cell_type": "code",
      "metadata": {
        "id": "rzm2lZL-CXhv",
        "colab_type": "code",
        "colab": {}
      },
      "source": [
        "lin_layer = LinearLayer(n_in=5, n_out=10)"
      ],
      "execution_count": 11,
      "outputs": []
    },
    {
      "cell_type": "code",
      "metadata": {
        "id": "2XxCGkB2Cf3i",
        "colab_type": "code",
        "colab": {
          "base_uri": "https://localhost:8080/",
          "height": 185
        },
        "outputId": "227dd276-c097-4b14-878d-c8760fb2308c"
      },
      "source": [
        "lin_layer.forward(np.array([1, 2, 3, 4, 5]).reshape(5, -1))"
      ],
      "execution_count": 12,
      "outputs": [
        {
          "output_type": "execute_result",
          "data": {
            "text/plain": [
              "array([[ 6.21573891],\n",
              "       [ 6.41667052],\n",
              "       [ 2.91306504],\n",
              "       [ 7.97501037],\n",
              "       [ 4.76269786],\n",
              "       [ 9.37037881],\n",
              "       [ 6.62342555],\n",
              "       [ 3.71799854],\n",
              "       [ 8.12956895],\n",
              "       [10.44720623]])"
            ]
          },
          "metadata": {
            "tags": []
          },
          "execution_count": 12
        }
      ]
    },
    {
      "cell_type": "code",
      "metadata": {
        "id": "mkLQsNnWCmF3",
        "colab_type": "code",
        "colab": {
          "base_uri": "https://localhost:8080/",
          "height": 101
        },
        "outputId": "79bb30cc-4e48-4c8a-bb43-9c04fbaabf75"
      },
      "source": [
        "lin_layer.backward(_)"
      ],
      "execution_count": 13,
      "outputs": [
        {
          "output_type": "execute_result",
          "data": {
            "text/plain": [
              "array([[37.75590779],\n",
              "       [32.05521815],\n",
              "       [29.72988315],\n",
              "       [33.29617194],\n",
              "       [34.21394128]])"
            ]
          },
          "metadata": {
            "tags": []
          },
          "execution_count": 13
        }
      ]
    },
    {
      "cell_type": "code",
      "metadata": {
        "id": "Ar9-Cq7KC-3R",
        "colab_type": "code",
        "colab": {}
      },
      "source": [
        ""
      ],
      "execution_count": null,
      "outputs": []
    }
  ]
}