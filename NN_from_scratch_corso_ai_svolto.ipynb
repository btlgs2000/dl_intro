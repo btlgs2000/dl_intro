{
  "nbformat": 4,
  "nbformat_minor": 0,
  "metadata": {
    "colab": {
      "name": "NN_from_scratch_corso_ai_svolto.ipynb",
      "provenance": [],
      "collapsed_sections": [],
      "authorship_tag": "ABX9TyOCTVFmvSTpMN8OJeTdpKWc",
      "include_colab_link": true
    },
    "kernelspec": {
      "name": "python3",
      "display_name": "Python 3"
    }
  },
  "cells": [
    {
      "cell_type": "markdown",
      "metadata": {
        "id": "view-in-github",
        "colab_type": "text"
      },
      "source": [
        "<a href=\"https://colab.research.google.com/github/btlgs2000/dl_intro/blob/master/NN_from_scratch_corso_ai_svolto.ipynb\" target=\"_parent\"><img src=\"https://colab.research.google.com/assets/colab-badge.svg\" alt=\"Open In Colab\"/></a>"
      ]
    },
    {
      "cell_type": "code",
      "metadata": {
        "id": "fuTb8fIQANRM",
        "colab_type": "code",
        "colab": {}
      },
      "source": [
        "import numpy as np"
      ],
      "execution_count": 1,
      "outputs": []
    },
    {
      "cell_type": "code",
      "metadata": {
        "id": "TaILMw2h6SAi",
        "colab_type": "code",
        "colab": {}
      },
      "source": [
        "class LinearLayer:\n",
        "    def __init__(self, n_in, n_out):\n",
        "        self.n_in = n_in\n",
        "        self.n_out = n_out\n",
        "        # inizializzare con distribuzione normale standard\n",
        "        self.W = np.random.rand(n_out, n_in)\n",
        "        # inizializzare a 0\n",
        "        self.b = np.zeros(n_out, 1)\n",
        "\n",
        "        # hanno le stesse dimensioni di W e di b\n",
        "        self.dW = None\n",
        "        self.db = None\n",
        "\n",
        "    def forward(self, x):\n",
        "        ''' restituisce y = Wx + b\n",
        "\n",
        "        args\n",
        "        ----\n",
        "        x (np.array): x.shape = (n_in, 1)\n",
        "\n",
        "        ret\n",
        "        ---\n",
        "        y (np.array): y.shape = (n_out, 1)\n",
        "        '''\n",
        "        assert x.shape == (self.n_in, 1)\n",
        "        y = W@X + b\n",
        "        assert y.shape ==(self.n_out, 1)\n",
        "        return y\n",
        "\n",
        "    def backward(self, dy):\n",
        "        ''' restituisce dx (dl/dx) e valorizza\n",
        "        gli attributi dW e db\n",
        "        \n",
        "        args\n",
        "        ----\n",
        "        dy (np.array): dy.shape (n_out, 1)\n",
        "\n",
        "        ret\n",
        "        ---\n",
        "        dx (np.array): dx.shape = (n_in, 1)\n",
        "        '''\n",
        "        assert dy.shape ==(self.n_out, 1)\n",
        "\n",
        "        self.db = dy\n",
        "\n",
        "        assert dx.shape == (self.n_in, 1)\n",
        "        return dx"
      ],
      "execution_count": null,
      "outputs": []
    }
  ]
}