{
  "nbformat": 4,
  "nbformat_minor": 0,
  "metadata": {
    "colab": {
      "name": "transfer_learning.ipynb",
      "provenance": [],
      "collapsed_sections": [],
      "authorship_tag": "ABX9TyN6TIHRQ7ltys/p1SStR4qv",
      "include_colab_link": true
    },
    "kernelspec": {
      "name": "python3",
      "display_name": "Python 3"
    }
  },
  "cells": [
    {
      "cell_type": "markdown",
      "metadata": {
        "id": "view-in-github",
        "colab_type": "text"
      },
      "source": [
        "<a href=\"https://colab.research.google.com/github/btlgs2000/dl_intro/blob/master/transfer_learning.ipynb\" target=\"_parent\"><img src=\"https://colab.research.google.com/assets/colab-badge.svg\" alt=\"Open In Colab\"/></a>"
      ]
    },
    {
      "cell_type": "markdown",
      "metadata": {
        "id": "DX91QsZZ-TTb",
        "colab_type": "text"
      },
      "source": [
        "# Transfer learning"
      ]
    },
    {
      "cell_type": "code",
      "metadata": {
        "id": "Xl59qXv-9yqk",
        "colab_type": "code",
        "colab": {}
      },
      "source": [
        "from tensorflow import keras"
      ],
      "execution_count": 5,
      "outputs": []
    },
    {
      "cell_type": "code",
      "metadata": {
        "id": "yuEgJrhD8uZQ",
        "colab_type": "code",
        "colab": {
          "base_uri": "https://localhost:8080/",
          "height": 117
        },
        "outputId": "1b345045-3988-4bfa-bf1b-f46295027c1f"
      },
      "source": [
        "! git clone https://github.com/btlgs2000/dl_intro"
      ],
      "execution_count": 1,
      "outputs": [
        {
          "output_type": "stream",
          "text": [
            "Cloning into 'dl_intro'...\n",
            "remote: Enumerating objects: 41, done.\u001b[K\n",
            "remote: Counting objects: 100% (41/41), done.\u001b[K\n",
            "remote: Compressing objects: 100% (25/25), done.\u001b[K\n",
            "remote: Total 41 (delta 17), reused 31 (delta 11), pack-reused 0\u001b[K\n",
            "Unpacking objects: 100% (41/41), done.\n"
          ],
          "name": "stdout"
        }
      ]
    },
    {
      "cell_type": "code",
      "metadata": {
        "id": "BhXzkYsI8zA3",
        "colab_type": "code",
        "colab": {
          "base_uri": "https://localhost:8080/",
          "height": 438
        },
        "outputId": "287f4585-d966-41f9-831a-433d748d067c"
      },
      "source": [
        "! wget --load-cookies /tmp/cookies.txt \"https://docs.google.com/uc?export=download&confirm=$(wget --quiet --save-cookies /tmp/cookies.txt --keep-session-cookies --no-check-certificate 'https://docs.google.com/uc?export=download&id=1vL3uIpBcd-U_xnKD4EKvXGyL7r66CuDJ' -O- | sed -rn 's/.*confirm=([0-9A-Za-z_]+).*/\\1\\n/p')&id=1vL3uIpBcd-U_xnKD4EKvXGyL7r66CuDJ\" -O cats_dogs.zip && rm -rf /tmp/cookies.txt"
      ],
      "execution_count": 2,
      "outputs": [
        {
          "output_type": "stream",
          "text": [
            "--2020-08-28 12:04:19--  https://docs.google.com/uc?export=download&confirm=4L78&id=1vL3uIpBcd-U_xnKD4EKvXGyL7r66CuDJ\n",
            "Resolving docs.google.com (docs.google.com)... 108.177.126.138, 108.177.126.100, 108.177.126.101, ...\n",
            "Connecting to docs.google.com (docs.google.com)|108.177.126.138|:443... connected.\n",
            "HTTP request sent, awaiting response... 302 Moved Temporarily\n",
            "Location: https://doc-0o-8c-docs.googleusercontent.com/docs/securesc/fhfpif17rbb60tu6889biscf1s55icu2/vp678sv7rgufps57h6a1fm4c312cv6ev/1598616225000/10454975649907589971/10631540946199132849Z/1vL3uIpBcd-U_xnKD4EKvXGyL7r66CuDJ?e=download [following]\n",
            "--2020-08-28 12:04:19--  https://doc-0o-8c-docs.googleusercontent.com/docs/securesc/fhfpif17rbb60tu6889biscf1s55icu2/vp678sv7rgufps57h6a1fm4c312cv6ev/1598616225000/10454975649907589971/10631540946199132849Z/1vL3uIpBcd-U_xnKD4EKvXGyL7r66CuDJ?e=download\n",
            "Resolving doc-0o-8c-docs.googleusercontent.com (doc-0o-8c-docs.googleusercontent.com)... 108.177.119.132, 2a00:1450:4013:c00::84\n",
            "Connecting to doc-0o-8c-docs.googleusercontent.com (doc-0o-8c-docs.googleusercontent.com)|108.177.119.132|:443... connected.\n",
            "HTTP request sent, awaiting response... 302 Found\n",
            "Location: https://docs.google.com/nonceSigner?nonce=huo78n7876kj2&continue=https://doc-0o-8c-docs.googleusercontent.com/docs/securesc/fhfpif17rbb60tu6889biscf1s55icu2/vp678sv7rgufps57h6a1fm4c312cv6ev/1598616225000/10454975649907589971/10631540946199132849Z/1vL3uIpBcd-U_xnKD4EKvXGyL7r66CuDJ?e%3Ddownload&hash=2ru4rbqk11230llgroakilvuh2ibj5p8 [following]\n",
            "--2020-08-28 12:04:19--  https://docs.google.com/nonceSigner?nonce=huo78n7876kj2&continue=https://doc-0o-8c-docs.googleusercontent.com/docs/securesc/fhfpif17rbb60tu6889biscf1s55icu2/vp678sv7rgufps57h6a1fm4c312cv6ev/1598616225000/10454975649907589971/10631540946199132849Z/1vL3uIpBcd-U_xnKD4EKvXGyL7r66CuDJ?e%3Ddownload&hash=2ru4rbqk11230llgroakilvuh2ibj5p8\n",
            "Connecting to docs.google.com (docs.google.com)|108.177.126.138|:443... connected.\n",
            "HTTP request sent, awaiting response... 302 Found\n",
            "Location: https://doc-0o-8c-docs.googleusercontent.com/docs/securesc/fhfpif17rbb60tu6889biscf1s55icu2/vp678sv7rgufps57h6a1fm4c312cv6ev/1598616225000/10454975649907589971/10631540946199132849Z/1vL3uIpBcd-U_xnKD4EKvXGyL7r66CuDJ?e=download&nonce=huo78n7876kj2&user=10631540946199132849Z&hash=hj90t1c042b6ssb7hu52m7rm1tboucs4 [following]\n",
            "--2020-08-28 12:04:19--  https://doc-0o-8c-docs.googleusercontent.com/docs/securesc/fhfpif17rbb60tu6889biscf1s55icu2/vp678sv7rgufps57h6a1fm4c312cv6ev/1598616225000/10454975649907589971/10631540946199132849Z/1vL3uIpBcd-U_xnKD4EKvXGyL7r66CuDJ?e=download&nonce=huo78n7876kj2&user=10631540946199132849Z&hash=hj90t1c042b6ssb7hu52m7rm1tboucs4\n",
            "Connecting to doc-0o-8c-docs.googleusercontent.com (doc-0o-8c-docs.googleusercontent.com)|108.177.119.132|:443... connected.\n",
            "HTTP request sent, awaiting response... 200 OK\n",
            "Length: unspecified [application/x-zip-compressed]\n",
            "Saving to: ‘cats_dogs.zip’\n",
            "\n",
            "cats_dogs.zip           [         <=>        ] 817.83M   150MB/s    in 5.7s    \n",
            "\n",
            "2020-08-28 12:04:25 (145 MB/s) - ‘cats_dogs.zip’ saved [857558740]\n",
            "\n"
          ],
          "name": "stdout"
        }
      ]
    },
    {
      "cell_type": "code",
      "metadata": {
        "id": "HBJewAr09E1v",
        "colab_type": "code",
        "colab": {}
      },
      "source": [
        "! unzip /content/cats_dogs.zip"
      ],
      "execution_count": null,
      "outputs": []
    },
    {
      "cell_type": "markdown",
      "metadata": {
        "id": "IzIiCoFX-hpZ",
        "colab_type": "text"
      },
      "source": [
        "## Caricamento del Dataset"
      ]
    },
    {
      "cell_type": "code",
      "metadata": {
        "id": "fSLqpz189J5n",
        "colab_type": "code",
        "colab": {}
      },
      "source": [
        "TRAIN_FOLDER = r'/content/dogs-vs-cats/train'\n",
        "BATCH_SIZE = 32\n",
        "IMAGE_SIZE = (96, 96)"
      ],
      "execution_count": 13,
      "outputs": []
    },
    {
      "cell_type": "code",
      "metadata": {
        "id": "lCKR5xFt9tvy",
        "colab_type": "code",
        "colab": {
          "base_uri": "https://localhost:8080/",
          "height": 84
        },
        "outputId": "f4bd6ca7-a87f-4b99-d23e-467a73f3c26b"
      },
      "source": [
        "train_ds = keras.preprocessing.image_dataset_from_directory(\n",
        "    directory=TRAIN_FOLDER,\n",
        "    labels='inferred',\n",
        "    label_mode='binary',\n",
        "    batch_size=BATCH_SIZE,\n",
        "    image_size=IMAGE_SIZE,\n",
        "    seed=1,\n",
        "    validation_split=0.1,\n",
        "    subset='training')\n",
        "\n",
        "val_ds = keras.preprocessing.image_dataset_from_directory(\n",
        "    directory=TRAIN_FOLDER,\n",
        "    labels='inferred',\n",
        "    label_mode='binary',\n",
        "    batch_size=BATCH_SIZE,\n",
        "    image_size=IMAGE_SIZE,\n",
        "    seed=1,\n",
        "    validation_split=0.1,\n",
        "    subset='validation')"
      ],
      "execution_count": 14,
      "outputs": [
        {
          "output_type": "stream",
          "text": [
            "Found 25000 files belonging to 2 classes.\n",
            "Using 22500 files for training.\n",
            "Found 25000 files belonging to 2 classes.\n",
            "Using 2500 files for validation.\n"
          ],
          "name": "stdout"
        }
      ]
    },
    {
      "cell_type": "code",
      "metadata": {
        "id": "oGesdCt2Aagl",
        "colab_type": "code",
        "colab": {
          "base_uri": "https://localhost:8080/",
          "height": 70
        },
        "outputId": "ed542183-f89e-4aa8-930a-f6e3131866d0"
      },
      "source": [
        "mobile_net = keras.applications.MobileNetV2(input_shape=(*IMAGE_SIZE, 3), include_top=False, weights='imagenet', pooling='avg')"
      ],
      "execution_count": 15,
      "outputs": [
        {
          "output_type": "stream",
          "text": [
            "Downloading data from https://storage.googleapis.com/tensorflow/keras-applications/mobilenet_v2/mobilenet_v2_weights_tf_dim_ordering_tf_kernels_1.0_96_no_top.h5\n",
            "9412608/9406464 [==============================] - 1s 0us/step\n"
          ],
          "name": "stdout"
        }
      ]
    },
    {
      "cell_type": "code",
      "metadata": {
        "id": "4_2Jmpd7D8Bq",
        "colab_type": "code",
        "colab": {}
      },
      "source": [
        "mobile_net.summary()"
      ],
      "execution_count": null,
      "outputs": []
    },
    {
      "cell_type": "code",
      "metadata": {
        "id": "6mHSSFegGAue",
        "colab_type": "code",
        "colab": {}
      },
      "source": [
        "mobile_net.trainable = False"
      ],
      "execution_count": 22,
      "outputs": []
    },
    {
      "cell_type": "code",
      "metadata": {
        "id": "MCgAYMja-2lF",
        "colab_type": "code",
        "colab": {}
      },
      "source": [
        "inputs = keras.Input(shape=(*IMAGE_SIZE, 3))"
      ],
      "execution_count": 27,
      "outputs": []
    },
    {
      "cell_type": "code",
      "metadata": {
        "id": "XzRKAz-oIWe-",
        "colab_type": "code",
        "colab": {}
      },
      "source": [
        "x = keras.applications.mobilenet_v2.preprocess_input(inputs)\n",
        "x = mobile_net(x)\n",
        "outputs = keras.layers.Dense(1, activation='sigmoid')(x)\n",
        "model = keras.Model(inputs, outputs)"
      ],
      "execution_count": 30,
      "outputs": []
    },
    {
      "cell_type": "markdown",
      "metadata": {
        "id": "Zt__k3XI-zwP",
        "colab_type": "text"
      },
      "source": [
        "## Modello pre-addestrato"
      ]
    }
  ]
}