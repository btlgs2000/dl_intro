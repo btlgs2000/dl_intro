{
  "nbformat": 4,
  "nbformat_minor": 0,
  "metadata": {
    "colab": {
      "name": "transfer_learning.ipynb",
      "provenance": [],
      "collapsed_sections": [],
      "authorship_tag": "ABX9TyMOgkKy+etHOypfR1QdXkYJ",
      "include_colab_link": true
    },
    "kernelspec": {
      "name": "python3",
      "display_name": "Python 3"
    },
    "accelerator": "GPU"
  },
  "cells": [
    {
      "cell_type": "markdown",
      "metadata": {
        "id": "view-in-github",
        "colab_type": "text"
      },
      "source": [
        "<a href=\"https://colab.research.google.com/github/btlgs2000/dl_intro/blob/master/transfer_learning.ipynb\" target=\"_parent\"><img src=\"https://colab.research.google.com/assets/colab-badge.svg\" alt=\"Open In Colab\"/></a>"
      ]
    },
    {
      "cell_type": "markdown",
      "metadata": {
        "id": "DX91QsZZ-TTb",
        "colab_type": "text"
      },
      "source": [
        "# Transfer learning"
      ]
    },
    {
      "cell_type": "code",
      "metadata": {
        "id": "Xl59qXv-9yqk",
        "colab_type": "code",
        "colab": {}
      },
      "source": [
        "from tensorflow import keras"
      ],
      "execution_count": null,
      "outputs": []
    },
    {
      "cell_type": "code",
      "metadata": {
        "id": "yuEgJrhD8uZQ",
        "colab_type": "code",
        "colab": {}
      },
      "source": [
        "! git clone https://github.com/btlgs2000/dl_intro"
      ],
      "execution_count": null,
      "outputs": []
    },
    {
      "cell_type": "code",
      "metadata": {
        "id": "BhXzkYsI8zA3",
        "colab_type": "code",
        "colab": {}
      },
      "source": [
        "! wget --load-cookies /tmp/cookies.txt \"https://docs.google.com/uc?export=download&confirm=$(wget --quiet --save-cookies /tmp/cookies.txt --keep-session-cookies --no-check-certificate 'https://docs.google.com/uc?export=download&id=1vL3uIpBcd-U_xnKD4EKvXGyL7r66CuDJ' -O- | sed -rn 's/.*confirm=([0-9A-Za-z_]+).*/\\1\\n/p')&id=1vL3uIpBcd-U_xnKD4EKvXGyL7r66CuDJ\" -O cats_dogs.zip && rm -rf /tmp/cookies.txt"
      ],
      "execution_count": null,
      "outputs": []
    },
    {
      "cell_type": "code",
      "metadata": {
        "id": "HBJewAr09E1v",
        "colab_type": "code",
        "colab": {}
      },
      "source": [
        "! unzip /content/cats_dogs.zip"
      ],
      "execution_count": null,
      "outputs": []
    },
    {
      "cell_type": "markdown",
      "metadata": {
        "id": "IzIiCoFX-hpZ",
        "colab_type": "text"
      },
      "source": [
        "## Caricamento del Dataset"
      ]
    },
    {
      "cell_type": "code",
      "metadata": {
        "id": "fSLqpz189J5n",
        "colab_type": "code",
        "colab": {}
      },
      "source": [
        "TRAIN_FOLDER = r'/content/dogs-vs-cats/train'\n",
        "BATCH_SIZE = 32\n",
        "IMAGE_SIZE = (96, 96)"
      ],
      "execution_count": null,
      "outputs": []
    },
    {
      "cell_type": "code",
      "metadata": {
        "id": "lCKR5xFt9tvy",
        "colab_type": "code",
        "colab": {}
      },
      "source": [
        "train_ds = keras.preprocessing.image_dataset_from_directory(\n",
        "    directory=TRAIN_FOLDER,\n",
        "    labels='inferred',\n",
        "    label_mode='binary',\n",
        "    batch_size=BATCH_SIZE,\n",
        "    image_size=IMAGE_SIZE,\n",
        "    seed=1,\n",
        "    validation_split=0.1,\n",
        "    subset='training')\n",
        "\n",
        "val_ds = keras.preprocessing.image_dataset_from_directory(\n",
        "    directory=TRAIN_FOLDER,\n",
        "    labels='inferred',\n",
        "    label_mode='binary',\n",
        "    batch_size=BATCH_SIZE,\n",
        "    image_size=IMAGE_SIZE,\n",
        "    seed=1,\n",
        "    validation_split=0.1,\n",
        "    subset='validation')"
      ],
      "execution_count": null,
      "outputs": []
    },
    {
      "cell_type": "code",
      "metadata": {
        "id": "oGesdCt2Aagl",
        "colab_type": "code",
        "colab": {}
      },
      "source": [
        "mobile_net = keras.applications.MobileNetV2(input_shape=(*IMAGE_SIZE, 3), include_top=False, weights='imagenet', pooling='avg')"
      ],
      "execution_count": null,
      "outputs": []
    },
    {
      "cell_type": "code",
      "metadata": {
        "id": "4_2Jmpd7D8Bq",
        "colab_type": "code",
        "colab": {}
      },
      "source": [
        "mobile_net.summary()"
      ],
      "execution_count": null,
      "outputs": []
    },
    {
      "cell_type": "code",
      "metadata": {
        "id": "6mHSSFegGAue",
        "colab_type": "code",
        "colab": {}
      },
      "source": [
        "mobile_net.trainable = False"
      ],
      "execution_count": null,
      "outputs": []
    },
    {
      "cell_type": "code",
      "metadata": {
        "id": "MCgAYMja-2lF",
        "colab_type": "code",
        "colab": {}
      },
      "source": [
        "inputs = keras.Input(shape=(*IMAGE_SIZE, 3))"
      ],
      "execution_count": null,
      "outputs": []
    },
    {
      "cell_type": "code",
      "metadata": {
        "id": "XzRKAz-oIWe-",
        "colab_type": "code",
        "colab": {}
      },
      "source": [
        "x = keras.applications.mobilenet_v2.preprocess_input(inputs)\n",
        "x = mobile_net(x, training=False)\n",
        "outputs = keras.layers.Dense(1, activation='sigmoid')(x)\n",
        "model = keras.Model(inputs, outputs)"
      ],
      "execution_count": null,
      "outputs": []
    },
    {
      "cell_type": "code",
      "metadata": {
        "id": "4T5HCmllJVGd",
        "colab_type": "code",
        "colab": {}
      },
      "source": [
        "model.summary()"
      ],
      "execution_count": null,
      "outputs": []
    },
    {
      "cell_type": "code",
      "metadata": {
        "id": "VfYpTunmL0cO",
        "colab_type": "code",
        "colab": {}
      },
      "source": [
        "model.compile(loss='binary_crossentropy', metrics=['binary_accuracy'])"
      ],
      "execution_count": null,
      "outputs": []
    },
    {
      "cell_type": "code",
      "metadata": {
        "id": "KhFBQ8SHMAnH",
        "colab_type": "code",
        "colab": {}
      },
      "source": [
        "model.fit(x=train_ds, validation_data=val_ds, epochs=1)"
      ],
      "execution_count": null,
      "outputs": []
    },
    {
      "cell_type": "code",
      "metadata": {
        "id": "p4uqOXWCtaeV",
        "colab_type": "code",
        "colab": {}
      },
      "source": [
        "model.save('checkpoint.tf')"
      ],
      "execution_count": null,
      "outputs": []
    },
    {
      "cell_type": "code",
      "metadata": {
        "id": "rmMNUUenMRPv",
        "colab_type": "code",
        "colab": {}
      },
      "source": [
        "mobile_net.trainable = True"
      ],
      "execution_count": null,
      "outputs": []
    },
    {
      "cell_type": "code",
      "metadata": {
        "id": "rTc0yEgvqjkX",
        "colab_type": "code",
        "colab": {}
      },
      "source": [
        "for layer in model.layers:\n",
        "    print(layer.trainable)"
      ],
      "execution_count": null,
      "outputs": []
    },
    {
      "cell_type": "code",
      "metadata": {
        "id": "ULyrhneMua8K",
        "colab_type": "code",
        "colab": {}
      },
      "source": [
        "model = keras.models.load_model('checkpoint.tf')"
      ],
      "execution_count": null,
      "outputs": []
    },
    {
      "cell_type": "code",
      "metadata": {
        "id": "PV2Ngkwmrxuf",
        "colab_type": "code",
        "colab": {}
      },
      "source": [
        "model.compile(optimizer=keras.optimizers.Adam(learning_rate=1e-5), loss='binary_crossentropy', metrics=['binary_accuracy'])"
      ],
      "execution_count": null,
      "outputs": []
    },
    {
      "cell_type": "code",
      "metadata": {
        "id": "B2YiokIdsI4N",
        "colab_type": "code",
        "colab": {}
      },
      "source": [
        "model.fit(x=train_ds, validation_data=val_ds, epochs=1)"
      ],
      "execution_count": null,
      "outputs": []
    },
    {
      "cell_type": "code",
      "metadata": {
        "id": "JqGg4wAMsLRs",
        "colab_type": "code",
        "colab": {}
      },
      "source": [
        ""
      ],
      "execution_count": null,
      "outputs": []
    }
  ]
}