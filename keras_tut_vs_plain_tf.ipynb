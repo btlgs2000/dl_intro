{
  "nbformat": 4,
  "nbformat_minor": 0,
  "metadata": {
    "language_info": {
      "codemirror_mode": {
        "name": "ipython",
        "version": 3
      },
      "file_extension": ".py",
      "mimetype": "text/x-python",
      "name": "python",
      "nbconvert_exporter": "python",
      "pygments_lexer": "ipython3",
      "version": "3.7.7-final"
    },
    "orig_nbformat": 2,
    "kernelspec": {
      "name": "python37764bittensorflowconda4a11e7685c9d4f77b472bc84de9da134",
      "display_name": "Python 3.7.7 64-bit ('tensorflow': conda)"
    },
    "colab": {
      "name": "keras_tut_vs_plain_tf.ipynb",
      "provenance": []
    }
  },
  "cells": [
    {
      "cell_type": "markdown",
      "metadata": {
        "id": "NYAKOgB2pjTH",
        "colab_type": "text"
      },
      "source": [
        "# Keras tutorial"
      ]
    },
    {
      "cell_type": "code",
      "metadata": {
        "id": "Bwtmkz0MpjTI",
        "colab_type": "code",
        "colab": {}
      },
      "source": [
        "import random\n",
        "\n",
        "import tensorflow as tf\n",
        "import tensorflow.keras as keras\n",
        "from tensorflow.keras import Input\n",
        "from tensorflow.keras.layers import Dense, Flatten\n",
        "import matplotlib.pyplot as plt\n",
        "import numpy as np\n",
        "from tqdm import tqdm\n",
        "\n",
        "from utils import display_samples, take_test_samples_idxs"
      ],
      "execution_count": null,
      "outputs": []
    },
    {
      "cell_type": "markdown",
      "metadata": {
        "id": "dne8ANMcpjTM",
        "colab_type": "text"
      },
      "source": [
        "## MNIST Dataset"
      ]
    },
    {
      "cell_type": "code",
      "metadata": {
        "id": "QH25VgUNpjTN",
        "colab_type": "code",
        "colab": {}
      },
      "source": [
        "(x_train, y_train), (x_test, y_test) = keras.datasets.mnist.load_data()"
      ],
      "execution_count": null,
      "outputs": []
    },
    {
      "cell_type": "code",
      "metadata": {
        "id": "GDoZdL-6pjTQ",
        "colab_type": "code",
        "colab": {}
      },
      "source": [
        "x_train[0].shape"
      ],
      "execution_count": null,
      "outputs": []
    },
    {
      "cell_type": "code",
      "metadata": {
        "tags": [],
        "id": "9yI9nSyWpjTV",
        "colab_type": "code",
        "colab": {}
      },
      "source": [
        "display_samples(x_train, y_train, n_rows=5, n_cols=8, label=6)"
      ],
      "execution_count": null,
      "outputs": []
    },
    {
      "cell_type": "markdown",
      "metadata": {
        "id": "dXqgG0MKpjTb",
        "colab_type": "text"
      },
      "source": [
        "## MLP from scratch"
      ]
    },
    {
      "cell_type": "markdown",
      "metadata": {
        "id": "2XxcIpcjpjTc",
        "colab_type": "text"
      },
      "source": [
        "### lista di strati passati al costruttore"
      ]
    },
    {
      "cell_type": "code",
      "metadata": {
        "id": "8ywc_G_NpjTd",
        "colab_type": "code",
        "colab": {}
      },
      "source": [
        "x_train = x_train / 255"
      ],
      "execution_count": null,
      "outputs": []
    },
    {
      "cell_type": "code",
      "metadata": {
        "id": "m-t1PqQipjTi",
        "colab_type": "code",
        "colab": {}
      },
      "source": [
        "class Model:\n",
        "    def __init__(self):\n",
        "        self.W_0 = tf.Variable(initial_value=np.random.normal(size=(784, 100))*1e-3)\n",
        "        self.b_0 = tf.Variable(initial_value=np.zeros(100))\n",
        "        self.W_1 = tf.Variable(initial_value=np.random.normal(size=(100, 10))*1e-2)\n",
        "        self.b_1 = tf.Variable(initial_value=np.zeros(10))\n",
        "        self.vars = [self.W_0, self.W_1, self.b_0, self.b_1]\n",
        "\n",
        "    def __call__(self, x):\n",
        "        x = x.reshape(x.shape[0], -1)\n",
        "        x_1 = tf.math.maximum(x@self.W_0 + self.b_0, 0)\n",
        "        x_2 = (x_1@self.W_1 + self.b_1)\n",
        "        return tf.nn.softmax(x_2, axis=1)"
      ],
      "execution_count": null,
      "outputs": []
    },
    {
      "cell_type": "code",
      "metadata": {
        "tags": [],
        "id": "lRw3vp_qpjTl",
        "colab_type": "code",
        "colab": {}
      },
      "source": [
        "model = Model()\n",
        "NUM_EPOCHS = 5\n",
        "N_TRAIN_SET = x_train.shape[0]\n",
        "BATCH_SIZE = 32\n",
        "LR = 1e-2\n",
        "pbar = tqdm(range(NUM_EPOCHS))\n",
        "for epoch in pbar:\n",
        "    for i in range(0, N_TRAIN_SET, BATCH_SIZE):\n",
        "        x_batch = x_train[i:i+BATCH_SIZE]\n",
        "        with tf.GradientTape() as tape:\n",
        "            y_prob = model(x_batch)\n",
        "            losses = tf.keras.losses.categorical_crossentropy(tf.one_hot(y_train[i:i+BATCH_SIZE], 10), y_prob)\n",
        "            loss = tf.math.reduce_mean(losses)\n",
        "            grads = tape.gradient(loss, model.vars)\n",
        "            pbar.set_description(str(loss.numpy().item()))\n",
        "        for var, grad in zip(model.vars, grads):\n",
        "            var.assign_sub(grad * LR)"
      ],
      "execution_count": null,
      "outputs": []
    },
    {
      "cell_type": "markdown",
      "metadata": {
        "id": "caLni41YpjTn",
        "colab_type": "text"
      },
      "source": [
        "### predizione"
      ]
    },
    {
      "cell_type": "code",
      "metadata": {
        "tags": [],
        "id": "v6gh2em5pjTo",
        "colab_type": "code",
        "colab": {}
      },
      "source": [
        "y_prob = model(x=x_test).numpy()"
      ],
      "execution_count": null,
      "outputs": []
    },
    {
      "cell_type": "code",
      "metadata": {
        "id": "We4utirypjTq",
        "colab_type": "code",
        "colab": {}
      },
      "source": [
        "y_hat = np.argmax(y_prob, axis=1)"
      ],
      "execution_count": null,
      "outputs": []
    },
    {
      "cell_type": "markdown",
      "metadata": {
        "id": "ICckvlynpjTs",
        "colab_type": "text"
      },
      "source": [
        "### accuratezza"
      ]
    },
    {
      "cell_type": "code",
      "metadata": {
        "id": "h9TevLSMpjTv",
        "colab_type": "code",
        "colab": {}
      },
      "source": [
        "np.sum(y_hat == y_test) / y_test.size"
      ],
      "execution_count": null,
      "outputs": []
    },
    {
      "cell_type": "markdown",
      "metadata": {
        "id": "kewKq-jUpjTx",
        "colab_type": "text"
      },
      "source": [
        "## esame della predizione"
      ]
    },
    {
      "cell_type": "markdown",
      "metadata": {
        "id": "Bt7X-V6vpjTy",
        "colab_type": "text"
      },
      "source": [
        "### predizioni corrette con maggiore confidenza"
      ]
    },
    {
      "cell_type": "code",
      "metadata": {
        "id": "32pqsV3ipjTy",
        "colab_type": "code",
        "colab": {}
      },
      "source": [
        "idxs = take_test_samples_idxs(y_prob, y_test, is_correct=True, most_confident=True, k=5*4)\n",
        "display_samples(x_test[idxs], y_test[idxs], y_hat[idxs], y_prob[idxs], n_rows=5, n_cols=4)"
      ],
      "execution_count": null,
      "outputs": []
    },
    {
      "cell_type": "markdown",
      "metadata": {
        "id": "fvc13EompjT0",
        "colab_type": "text"
      },
      "source": [
        "### predizioni corrette con minore confidenza"
      ]
    },
    {
      "cell_type": "code",
      "metadata": {
        "id": "5dLfOh9RpjT1",
        "colab_type": "code",
        "colab": {}
      },
      "source": [
        "idxs = take_test_samples_idxs(y_prob, y_test, is_correct=True, most_confident=False, k=5*4)\n",
        "display_samples(x_test[idxs], y_test[idxs], y_hat[idxs], y_prob[idxs], n_rows=5, n_cols=4)"
      ],
      "execution_count": null,
      "outputs": []
    },
    {
      "cell_type": "markdown",
      "metadata": {
        "id": "ZLifKCrtpjT3",
        "colab_type": "text"
      },
      "source": [
        "### predizioni errate con maggiore confidenza"
      ]
    },
    {
      "cell_type": "code",
      "metadata": {
        "id": "xXfEWtEVpjT3",
        "colab_type": "code",
        "colab": {}
      },
      "source": [
        "idxs = take_test_samples_idxs(y_prob, y_test, is_correct=False, most_confident=True, k=5*4)\n",
        "display_samples(x_test[idxs], y_test[idxs], y_hat[idxs], y_prob[idxs], n_rows=5, n_cols=4)"
      ],
      "execution_count": null,
      "outputs": []
    },
    {
      "cell_type": "markdown",
      "metadata": {
        "id": "Yk8C_SAupjT5",
        "colab_type": "text"
      },
      "source": [
        "### predizioni errate con minore confidenza"
      ]
    },
    {
      "cell_type": "code",
      "metadata": {
        "id": "ZAcugSq9pjT6",
        "colab_type": "code",
        "colab": {}
      },
      "source": [
        "idxs = take_test_samples_idxs(y_prob, y_test, is_correct=False, most_confident=False, k=5*4)\n",
        "display_samples(x_test[idxs], y_test[idxs], y_hat[idxs], y_prob[idxs], n_rows=5, n_cols=4)"
      ],
      "execution_count": null,
      "outputs": []
    },
    {
      "cell_type": "code",
      "metadata": {
        "id": "e_ITma01pjT8",
        "colab_type": "code",
        "colab": {}
      },
      "source": [
        ""
      ],
      "execution_count": null,
      "outputs": []
    }
  ]
}