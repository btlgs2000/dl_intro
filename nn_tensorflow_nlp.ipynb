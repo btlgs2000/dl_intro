{
  "nbformat": 4,
  "nbformat_minor": 0,
  "metadata": {
    "colab": {
      "name": "nn_tensorflow_nlp.ipynb",
      "provenance": [],
      "collapsed_sections": [],
      "authorship_tag": "ABX9TyPrPjz0izRUUOfcHjFr1hRz",
      "include_colab_link": true
    },
    "kernelspec": {
      "name": "python3",
      "display_name": "Python 3"
    }
  },
  "cells": [
    {
      "cell_type": "markdown",
      "metadata": {
        "id": "view-in-github",
        "colab_type": "text"
      },
      "source": [
        "<a href=\"https://colab.research.google.com/github/btlgs2000/dl_intro/blob/master/nn_tensorflow_nlp.ipynb\" target=\"_parent\"><img src=\"https://colab.research.google.com/assets/colab-badge.svg\" alt=\"Open In Colab\"/></a>"
      ]
    },
    {
      "cell_type": "code",
      "metadata": {
        "id": "xJUB1dKUxF6W"
      },
      "source": [
        "import tensorflow as tf\n",
        "import numpy as np"
      ],
      "execution_count": null,
      "outputs": []
    },
    {
      "cell_type": "code",
      "metadata": {
        "id": "hDGBFq0zxLL8"
      },
      "source": [
        "t = [1, 2, 3, 4, 5]"
      ],
      "execution_count": null,
      "outputs": []
    },
    {
      "cell_type": "code",
      "metadata": {
        "id": "_k4rJK5-0mVh"
      },
      "source": [
        "t = tf.convert_to_tensor(t)"
      ],
      "execution_count": null,
      "outputs": []
    },
    {
      "cell_type": "code",
      "metadata": {
        "id": "jTMxTi6j0tmO"
      },
      "source": [
        "t"
      ],
      "execution_count": null,
      "outputs": []
    },
    {
      "cell_type": "code",
      "metadata": {
        "id": "SpJcvll60wE0"
      },
      "source": [
        "type(t)"
      ],
      "execution_count": null,
      "outputs": []
    },
    {
      "cell_type": "code",
      "metadata": {
        "id": "Gl0S-NHt00fW"
      },
      "source": [
        "t.shape"
      ],
      "execution_count": null,
      "outputs": []
    },
    {
      "cell_type": "code",
      "metadata": {
        "id": "FQAilYXT07s9"
      },
      "source": [
        "t2 = tf.convert_to_tensor([1,2, 3, 4, 5])"
      ],
      "execution_count": null,
      "outputs": []
    },
    {
      "cell_type": "code",
      "metadata": {
        "id": "Cq21Exl11UNh"
      },
      "source": [
        "t + t2"
      ],
      "execution_count": null,
      "outputs": []
    },
    {
      "cell_type": "code",
      "metadata": {
        "id": "_QgKqa9q1Vlr"
      },
      "source": [
        "t2.numpy()"
      ],
      "execution_count": null,
      "outputs": []
    },
    {
      "cell_type": "code",
      "metadata": {
        "id": "pfh5HkHQ1dOE"
      },
      "source": [
        "np.max(t)"
      ],
      "execution_count": null,
      "outputs": []
    },
    {
      "cell_type": "code",
      "metadata": {
        "id": "m4Z5VZiu1jKL"
      },
      "source": [
        "tf.reduce_max(t, axis=0, )"
      ],
      "execution_count": null,
      "outputs": []
    },
    {
      "cell_type": "code",
      "metadata": {
        "id": "N3ImVY2s13PE"
      },
      "source": [
        "a = np.array([1, 2, 3, 4, 5])"
      ],
      "execution_count": null,
      "outputs": []
    },
    {
      "cell_type": "code",
      "metadata": {
        "id": "Byb1s3zm2RWv"
      },
      "source": [
        "a[0] = 0"
      ],
      "execution_count": null,
      "outputs": []
    },
    {
      "cell_type": "code",
      "metadata": {
        "id": "JvvLWD6R2Sge"
      },
      "source": [
        "a"
      ],
      "execution_count": null,
      "outputs": []
    },
    {
      "cell_type": "code",
      "metadata": {
        "id": "boSKkAF02S_p"
      },
      "source": [
        "a_tf = tf.convert_to_tensor(a)"
      ],
      "execution_count": null,
      "outputs": []
    },
    {
      "cell_type": "code",
      "metadata": {
        "id": "AozxMkkB2XO-"
      },
      "source": [
        "a_tf[0] = 10"
      ],
      "execution_count": null,
      "outputs": []
    },
    {
      "cell_type": "code",
      "metadata": {
        "id": "BMdSxoFr2YLP"
      },
      "source": [
        "a_tf = tf.Variable(initial_value=a, dtype=tf.float32)"
      ],
      "execution_count": null,
      "outputs": []
    },
    {
      "cell_type": "code",
      "metadata": {
        "id": "CU4DBY_K2pui"
      },
      "source": [
        "a_tf.assign([10, 11, 12, 13, 14])"
      ],
      "execution_count": null,
      "outputs": []
    },
    {
      "cell_type": "code",
      "metadata": {
        "id": "M9hedkAZ2qh9"
      },
      "source": [
        "a_tf"
      ],
      "execution_count": null,
      "outputs": []
    },
    {
      "cell_type": "code",
      "metadata": {
        "id": "394-2WWk24Hu"
      },
      "source": [
        "a_tf[0].assign(2)"
      ],
      "execution_count": null,
      "outputs": []
    },
    {
      "cell_type": "code",
      "metadata": {
        "id": "OgpbA_sX2-en"
      },
      "source": [
        "a_tf"
      ],
      "execution_count": null,
      "outputs": []
    },
    {
      "cell_type": "code",
      "metadata": {
        "id": "ILAPFdFU3W92"
      },
      "source": [
        "t"
      ],
      "execution_count": null,
      "outputs": []
    },
    {
      "cell_type": "code",
      "metadata": {
        "id": "G7UGThzK3eXV"
      },
      "source": [
        "tf.reduce_sum(a_tf * tf.cast(t, tf.float32))"
      ],
      "execution_count": null,
      "outputs": []
    },
    {
      "cell_type": "code",
      "metadata": {
        "id": "dJUllmmI3cKI"
      },
      "source": [
        "t = tf.cast(t, tf.float32)\n",
        "with tf.GradientTape() as tape:\n",
        "    # tape.watch(t)\n",
        "    scalar_product = tf.reduce_sum(a_tf * t)\n",
        "\n",
        "grad = tape.gradient(scalar_product, a_tf)"
      ],
      "execution_count": null,
      "outputs": []
    },
    {
      "cell_type": "code",
      "metadata": {
        "id": "I7nv-Hvk30so"
      },
      "source": [
        "grad"
      ],
      "execution_count": null,
      "outputs": []
    },
    {
      "cell_type": "code",
      "metadata": {
        "id": "YsxiRYTH5lcn"
      },
      "source": [
        "import tensorflow as tf"
      ],
      "execution_count": null,
      "outputs": []
    },
    {
      "cell_type": "code",
      "metadata": {
        "id": "_LoHwohXNovJ"
      },
      "source": [
        "tf.convert_to_tensor(np.array([1., 2, 3, 4, 5]), dtype=tf.float32)"
      ],
      "execution_count": null,
      "outputs": []
    },
    {
      "cell_type": "code",
      "metadata": {
        "id": "rGVHcwN-N51v"
      },
      "source": [
        "type(_)"
      ],
      "execution_count": null,
      "outputs": []
    },
    {
      "cell_type": "code",
      "metadata": {
        "id": "kHd0NOYWOJ3g"
      },
      "source": [
        "var = tf.Variable(initial_value=[1, 2, 3], dtype=tf.float32, name='a')"
      ],
      "execution_count": null,
      "outputs": []
    },
    {
      "cell_type": "code",
      "metadata": {
        "id": "hUtOoQrrOlhI"
      },
      "source": [
        "var"
      ],
      "execution_count": null,
      "outputs": []
    },
    {
      "cell_type": "code",
      "metadata": {
        "id": "aObYw-8GOmIv"
      },
      "source": [
        "var.assign([2, 3, 4])"
      ],
      "execution_count": null,
      "outputs": []
    },
    {
      "cell_type": "code",
      "metadata": {
        "id": "7uxiJuyBO5B_"
      },
      "source": [
        "var.assign_add([1, 1, 1])"
      ],
      "execution_count": null,
      "outputs": []
    },
    {
      "cell_type": "code",
      "metadata": {
        "id": "wTvt20v8O9Qf"
      },
      "source": [
        "var[0].assign(6)"
      ],
      "execution_count": null,
      "outputs": []
    },
    {
      "cell_type": "code",
      "metadata": {
        "id": "58muxYzcPJ2Z"
      },
      "source": [
        "var.trainable"
      ],
      "execution_count": null,
      "outputs": []
    },
    {
      "cell_type": "code",
      "metadata": {
        "id": "w21Tj1qRSB2D"
      },
      "source": [
        "t = tf.convert_to_tensor([1, 2, 3], dtype=tf.float32)"
      ],
      "execution_count": null,
      "outputs": []
    },
    {
      "cell_type": "code",
      "metadata": {
        "id": "uAJJvY60R2XY"
      },
      "source": [
        "with tf.GradientTape() as tape:\n",
        "    sum_ = tf.reduce_sum(var*t)\n",
        "\n",
        "grad = tape.gradient(sum_, var)"
      ],
      "execution_count": null,
      "outputs": []
    },
    {
      "cell_type": "code",
      "metadata": {
        "id": "XDKA5VkeSyuW"
      },
      "source": [
        "grad"
      ],
      "execution_count": null,
      "outputs": []
    },
    {
      "cell_type": "code",
      "metadata": {
        "id": "fHKvq87MPYJg"
      },
      "source": [
        "with open('filename', 'w'):\n",
        "    # scrittura sul file"
      ],
      "execution_count": null,
      "outputs": []
    },
    {
      "cell_type": "code",
      "metadata": {
        "id": "WPn5co-bQNNn"
      },
      "source": [
        "class Callable:\n",
        "    def __call__(self):\n",
        "        print('Sono chiamabile')"
      ],
      "execution_count": null,
      "outputs": []
    },
    {
      "cell_type": "code",
      "metadata": {
        "id": "xi2rDH7YQlKK"
      },
      "source": [
        "c = Callable()"
      ],
      "execution_count": null,
      "outputs": []
    },
    {
      "cell_type": "code",
      "metadata": {
        "id": "GtRm_SUGQnkJ"
      },
      "source": [
        "c()"
      ],
      "execution_count": null,
      "outputs": []
    },
    {
      "cell_type": "code",
      "metadata": {
        "id": "rsS9nf71QpG8"
      },
      "source": [
        "class ContextManager:\n",
        "    def __enter__(self):\n",
        "        print('inizializzazione')\n",
        "\n",
        "    def __exit__(self, exception_type, exception_value, traceback):\n",
        "        print('chiusura')"
      ],
      "execution_count": null,
      "outputs": []
    },
    {
      "cell_type": "code",
      "metadata": {
        "id": "ObQZ-LEXRVtf"
      },
      "source": [
        "import time\n",
        "\n",
        "with ContextManager():\n",
        "    time.sleep(5)"
      ],
      "execution_count": null,
      "outputs": []
    },
    {
      "cell_type": "code",
      "metadata": {
        "id": "A_yJp0xOr8k9"
      },
      "source": [
        "import numpy as np\n",
        "import tensorflow as tf\n",
        "import matplotlib.pyplot as plt"
      ],
      "execution_count": null,
      "outputs": []
    },
    {
      "cell_type": "code",
      "metadata": {
        "id": "Bvf70LXUf1se"
      },
      "source": [
        "X = np.random.rand(10_000, 2)\n",
        "y = 2*X[:, 0] + 3*X[:, 1] - 1"
      ],
      "execution_count": null,
      "outputs": []
    },
    {
      "cell_type": "code",
      "metadata": {
        "id": "vsc3icfP3SkG"
      },
      "source": [
        "import tensorflow.keras.datasets as datasets\n",
        "import matplotlib.pyplot as plt"
      ],
      "execution_count": null,
      "outputs": []
    },
    {
      "cell_type": "code",
      "metadata": {
        "id": "mxRJf8-19v-C"
      },
      "source": [
        "(X_train, y_train), (X_test, y_test) = datasets.mnist.load_data()\n",
        "X_train = tf.cast(X_train, dtype=tf.float32) / 255\n",
        "X_test = tf.cast(X_test, dtype=tf.float32) / 255"
      ],
      "execution_count": null,
      "outputs": []
    },
    {
      "cell_type": "code",
      "metadata": {
        "id": "qf7YfGCD-nGy"
      },
      "source": [
        "class Mlp:\n",
        "    def __init__(self, units_list, with_softmax=False):\n",
        "        '''\n",
        "        args\n",
        "        ----\n",
        "\n",
        "        units_list: lista con il numero di unità per layer\n",
        "                    [784, 100, 100, 10]\n",
        "        with_softmax: se l'ultimo starto è seguito da una softmax\n",
        "        '''\n",
        "        self.Ws = []\n",
        "        self.bs = []\n",
        "        self.with_softmax = with_softmax\n",
        "\n",
        "        # creazione dei pesi\n",
        "        for in_units, out_units in zip(units_list[:-1], units_list[1:]):\n",
        "            # (784, 100)\n",
        "            W = tf.Variable(initial_value=np.random.normal(size=(in_units, out_units)), shape=[in_units, out_units], dtype=tf.float32)\n",
        "            b = tf.Variable(initial_value=np.zeros(shape=(out_units,)), shape=[out_units], dtype=tf.float32)\n",
        "            self.Ws.append(W)\n",
        "            self.bs.append(b)\n",
        "\n",
        "    def __call__(self, x):\n",
        "        '''\n",
        "        args\n",
        "        ----\n",
        "        x: x.shape==(n_batch, n_features)\n",
        "\n",
        "        ret\n",
        "        ---\n",
        "        y: y.shape==(n_batch, n_out)\n",
        "        '''\n",
        "        *W_hidden, W_last = self.Ws\n",
        "        *b_hidden, b_last = self.bs\n",
        "        # ciclo sui layer nascosti\n",
        "        for W, b in zip(W_hidden, b_hidden):\n",
        "            # W.shape = (n_in, n_out)\n",
        "            # x.shape = (n_batch, n_in)\n",
        "            x = x@W + b\n",
        "            \n",
        "            # applica sigmoide\n",
        "            x = tf.math.sigmoid(x)\n",
        "\n",
        "        # ultimo layer\n",
        "        y = x@W_last + b_last\n",
        "\n",
        "        if self.with_softmax:\n",
        "            y = tf.math.softmax(y)\n",
        "\n",
        "        return y"
      ],
      "execution_count": null,
      "outputs": []
    },
    {
      "cell_type": "code",
      "metadata": {
        "id": "Mf4Aw9_fBJC9"
      },
      "source": [
        "mlp = Mlp(units_list=[784, 100, 100, 10], with_softmax=True)"
      ],
      "execution_count": null,
      "outputs": []
    },
    {
      "cell_type": "code",
      "metadata": {
        "id": "8OUQPM2uQASm"
      },
      "source": [
        "y_train = tf.one_hot(y_train, 10)\n",
        "y_test = tf.one_hot(y_test, 10)"
      ],
      "execution_count": null,
      "outputs": []
    },
    {
      "cell_type": "code",
      "metadata": {
        "id": "w9f5CqMFReCb"
      },
      "source": [
        "from tqdm import tqdm\n",
        "\n",
        "epochs = 10\n",
        "alpha = 1e-3\n",
        "batch_size = 32\n",
        "# regressione lineare\n",
        "\n",
        "n = 60_000\n",
        "\n",
        "pbar = tqdm()\n",
        "for epoch in range(epochs):\n",
        "    # X @ theta(vett colonna) + b = y_pred\n",
        "    for idx in range(0, n, batch_size):\n",
        "        # estrazione del batch\n",
        "        # x_b.shape = (batch_size, 28, 28), y_b.shape = (batch_size,)\n",
        "        x_b, y_b = X_train[idx:idx+batch_size], y_train[idx:idx+batch_size]\n",
        "\n",
        "        with tf.GradientTape() as tape:\n",
        "            # (batch_size, 28, 28) -> (batch_size, 784)\n",
        "            x_b_reshaped = tf.reshape(x_b, shape=[batch_size, 28*28])\n",
        "\n",
        "            # y_pred.shape = (batch_size, 10)\n",
        "            y_pred = mlp(x_b_reshaped)\n",
        "            cce = tf.keras.losses.CategoricalCrossentropy()\n",
        "            # la loss media sugli elementi del batch\n",
        "            loss = cce(y_b, y_pred)\n",
        "        pbar.set_description(f'loss={loss.numpy().item():2f}')\n",
        "        # Ws_grad = [W1_grad (784, 100), W2_grad (100, 100), W3_grad (100, 10)]\n",
        "        # bs_grad = [b1_grad (100), b2_grad (100), b3_grad (10)]\n",
        "        Ws_grad, bs_grad = tape.gradient(loss, [mlp.Ws, mlp.bs])\n",
        "        for W, W_grad, b, b_grad in zip(mlp.Ws, Ws_grad, mlp.bs, bs_grad):\n",
        "            # step di gradient descent\n",
        "            # W = W - alpha*W_grad\n",
        "            W.assign_sub(alpha*W_grad)\n",
        "            b.assign_sub(alpha*b_grad)\n"
      ],
      "execution_count": null,
      "outputs": []
    },
    {
      "cell_type": "code",
      "metadata": {
        "id": "6DYXP5FMYD9U"
      },
      "source": [
        "for idx in range(0, 1000, 32):\n",
        "    print(idx)"
      ],
      "execution_count": null,
      "outputs": []
    },
    {
      "cell_type": "code",
      "metadata": {
        "id": "WkkO32NylFTf"
      },
      "source": [
        "theta1 = [theta[0] for theta in thetas]\n",
        "theta2 = [theta[1] for theta in thetas]\n",
        "plt.plot(theta1, theta2)"
      ],
      "execution_count": null,
      "outputs": []
    },
    {
      "cell_type": "code",
      "metadata": {
        "id": "RGrkbF4LryAp"
      },
      "source": [
        "b"
      ],
      "execution_count": null,
      "outputs": []
    },
    {
      "cell_type": "code",
      "metadata": {
        "id": "RBXCpg8h1fHP"
      },
      "source": [
        "theta"
      ],
      "execution_count": null,
      "outputs": []
    },
    {
      "cell_type": "code",
      "metadata": {
        "id": "zVmczSMQ1kn-"
      },
      "source": [
        ""
      ],
      "execution_count": null,
      "outputs": []
    }
  ]
}