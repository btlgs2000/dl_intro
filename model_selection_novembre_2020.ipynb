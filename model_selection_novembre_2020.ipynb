{
  "nbformat": 4,
  "nbformat_minor": 0,
  "metadata": {
    "colab": {
      "name": "model_selection_novembre_2020.ipynb",
      "provenance": [],
      "authorship_tag": "ABX9TyP+vly4vCboUmbZFb1MIVDK",
      "include_colab_link": true
    },
    "kernelspec": {
      "name": "python3",
      "display_name": "Python 3"
    }
  },
  "cells": [
    {
      "cell_type": "markdown",
      "metadata": {
        "id": "view-in-github",
        "colab_type": "text"
      },
      "source": [
        "<a href=\"https://colab.research.google.com/github/btlgs2000/dl_intro/blob/master/model_selection_novembre_2020.ipynb\" target=\"_parent\"><img src=\"https://colab.research.google.com/assets/colab-badge.svg\" alt=\"Open In Colab\"/></a>"
      ]
    },
    {
      "cell_type": "code",
      "metadata": {
        "id": "WAqGF_zWWPcq"
      },
      "source": [
        "!pip install optuna"
      ],
      "execution_count": null,
      "outputs": []
    },
    {
      "cell_type": "code",
      "metadata": {
        "id": "y6cmaOlfWOBd"
      },
      "source": [
        "import optuna"
      ],
      "execution_count": null,
      "outputs": []
    },
    {
      "cell_type": "code",
      "metadata": {
        "id": "NEPEEfEpUjky"
      },
      "source": [
        "# mlp con 4 layers (3 nascosti)\n",
        "# relu vs sigmoid\n",
        "# dropout rate dopo i layer nascosti\n",
        "# con o senza batch norm\n",
        "def get_model(activation:str, dropout_rate:float, batch_norm:bool):\n",
        "    return model"
      ],
      "execution_count": null,
      "outputs": []
    },
    {
      "cell_type": "code",
      "metadata": {
        "id": "NLRcUlsgVb4n"
      },
      "source": [
        "def objective(trial):\n",
        "    activation = trial.suggest_categorical('activation', ['relu', 'sigmoid'])\n",
        "    dropout_rate = trial.suggest_uniform('dropout_rate', 0, 1)\n",
        "    batch_norm = trial.suggest_categorical('batch_norm', [True, False])\n",
        "\n",
        "    # chiamare la get_model\n",
        "\n",
        "    # compilazione (con accuracy come metrica)\n",
        "\n",
        "    # fit\n",
        "\n",
        "    return last_val_accuracy"
      ],
      "execution_count": null,
      "outputs": []
    },
    {
      "cell_type": "code",
      "metadata": {
        "id": "iEjwR4xeWTIr"
      },
      "source": [
        "optuna.create_study(storage='sqlite:///model_selection.db', study_name='mlp study', direction=None)"
      ],
      "execution_count": null,
      "outputs": []
    },
    {
      "cell_type": "code",
      "metadata": {
        "id": "9CIPL3HoWHQa"
      },
      "source": [
        "study.optimize(objective, 50)"
      ],
      "execution_count": null,
      "outputs": []
    }
  ]
}