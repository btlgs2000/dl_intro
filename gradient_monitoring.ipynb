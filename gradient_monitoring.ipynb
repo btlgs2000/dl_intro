{
 "metadata": {
  "language_info": {
   "codemirror_mode": {
    "name": "ipython",
    "version": 3
   },
   "file_extension": ".py",
   "mimetype": "text/x-python",
   "name": "python",
   "nbconvert_exporter": "python",
   "pygments_lexer": "ipython3",
   "version": "3.7.7-final"
  },
  "orig_nbformat": 2,
  "kernelspec": {
   "name": "python37764bittensorflowconda4a11e7685c9d4f77b472bc84de9da134",
   "display_name": "Python 3.7.7 64-bit ('tensorflow': conda)"
  }
 },
 "nbformat": 4,
 "nbformat_minor": 2,
 "cells": [
  {
   "cell_type": "markdown",
   "metadata": {},
   "source": [
    " # Gradient monitoring"
   ]
  },
  {
   "cell_type": "code",
   "execution_count": 73,
   "metadata": {},
   "outputs": [],
   "source": [
    "import tensorflow as tf\n",
    "import numpy as np\n",
    "import tensorflow.keras as keras\n",
    "import tensorflow.keras.layers as layers\n",
    "\n",
    "from datetime import datetime\n",
    "from pathlib import Path"
   ]
  },
  {
   "cell_type": "code",
   "execution_count": 59,
   "metadata": {},
   "outputs": [],
   "source": [
    "n = 10_000\n",
    "x = np.random.rand(n, 2)\n",
    "x1, x2 = x[:, 0], x[:, 1]\n",
    "y = 3*x1 + 2*x2"
   ]
  },
  {
   "cell_type": "code",
   "execution_count": 67,
   "metadata": {},
   "outputs": [],
   "source": [
    "def get_mlp(layers_n, initializer, act='relu', last_act=None):\n",
    "    l_first, *ls, l_last = layers_n\n",
    "    \n",
    "    model = keras.Sequential(name='MLP')\n",
    "    \n",
    "    model.add(layers.Input(shape=(l_first,)))\n",
    "    for i, l in enumerate(ls):\n",
    "        model.add(layers.Dense(l, activation=act, kernel_initializer=initializer, name=f'Dense_{i}'))\n",
    "    \n",
    "    model.add(layers.Dense(l_last, activation=last_act, kernel_initializer=initializer, name=f'Output'))\n",
    "\n",
    "    return model"
   ]
  },
  {
   "cell_type": "code",
   "execution_count": 68,
   "metadata": {},
   "outputs": [],
   "source": [
    "def get_features_extractor(model):\n",
    "    inputs = model.input\n",
    "    outputs = {layer.name: layer.output for layer in model.layers}\n",
    "    return keras.Model(inputs, outputs)"
   ]
  },
  {
   "cell_type": "code",
   "execution_count": 69,
   "metadata": {},
   "outputs": [],
   "source": [
    "hidden_layers_size = 100\n",
    "hidden_layers_num = 10\n",
    "\n",
    "initializer = tf.keras.initializers.RandomNormal(mean=0., stddev=1.)\n",
    "layers_n=[2] + [hidden_layers_size]*hidden_layers_num  + [1]\n",
    "\n",
    "mlp = get_mlp(layers_n, initializer)"
   ]
  },
  {
   "cell_type": "code",
   "execution_count": 55,
   "metadata": {},
   "outputs": [],
   "source": [
    "lr = 1e-9\n",
    "mlp.compile(optimizer=keras.optimizers.SGD(learning_rate=lr), loss='mse', run_eagerly=True)"
   ]
  },
  {
   "cell_type": "code",
   "execution_count": 56,
   "metadata": {
    "tags": []
   },
   "outputs": [
    {
     "output_type": "error",
     "ename": "NameError",
     "evalue": "name 'MyMonitoringCallback' is not defined",
     "traceback": [
      "\u001b[1;31m---------------------------------------------------------------------------\u001b[0m",
      "\u001b[1;31mNameError\u001b[0m                                 Traceback (most recent call last)",
      "\u001b[1;32m<ipython-input-56-9019028825c2>\u001b[0m in \u001b[0;36m<module>\u001b[1;34m\u001b[0m\n\u001b[0;32m      4\u001b[0m callbacks = [\n\u001b[0;32m      5\u001b[0m     \u001b[0mkeras\u001b[0m\u001b[1;33m.\u001b[0m\u001b[0mcallbacks\u001b[0m\u001b[1;33m.\u001b[0m\u001b[0mTensorBoard\u001b[0m\u001b[1;33m(\u001b[0m\u001b[0mlog_dir\u001b[0m\u001b[1;33m=\u001b[0m\u001b[0mtensorboard_log_folder\u001b[0m\u001b[1;33m)\u001b[0m\u001b[1;33m,\u001b[0m\u001b[1;33m\u001b[0m\u001b[1;33m\u001b[0m\u001b[0m\n\u001b[1;32m----> 6\u001b[1;33m     \u001b[0mMyMonitoringCallback\u001b[0m\u001b[1;33m(\u001b[0m\u001b[0mtensorboard_log_folder\u001b[0m\u001b[1;33m)\u001b[0m\u001b[1;33m\u001b[0m\u001b[1;33m\u001b[0m\u001b[0m\n\u001b[0m\u001b[0;32m      7\u001b[0m ]\n\u001b[0;32m      8\u001b[0m \u001b[0mepochs\u001b[0m \u001b[1;33m=\u001b[0m \u001b[1;36m1\u001b[0m\u001b[1;33m\u001b[0m\u001b[1;33m\u001b[0m\u001b[0m\n",
      "\u001b[1;31mNameError\u001b[0m: name 'MyMonitoringCallback' is not defined"
     ]
    }
   ],
   "source": [
    "batch_size = 32\n",
    "inner_folder = datetime.now().strftime('%Y_%m_%d__%H_%M_%S')\n",
    "tensorboard_log_folder = f'./tensorboard_logs/{inner_folder}'\n",
    "callbacks = [\n",
    "    keras.callbacks.TensorBoard(log_dir=tensorboard_log_folder),\n",
    "    MyMonitoringCallback(tensorboard_log_folder)\n",
    "]\n",
    "epochs = 1\n",
    "\n",
    "history = mlp.fit(x, y, batch_size=batch_size, epochs=epochs, callbacks=callbacks, validation_split=0.1)"
   ]
  },
  {
   "cell_type": "code",
   "execution_count": 91,
   "metadata": {
    "tags": []
   },
   "outputs": [],
   "source": [
    "batch_size = 32\n",
    "inner_folder = datetime.now().strftime('%Y_%m_%d__%H_%M_%S')\n",
    "tensorboard_log_folder = f'./tensorboard_logs/{inner_folder}'\n",
    "num_batches = 10\n",
    "\n",
    "initializer = tf.keras.initializers.RandomNormal(mean=0., stddev=1.)\n",
    "mlp = get_mlp(layers_n, initializer)\n",
    "feature_extractor = get_features_extractor(mlp)\n",
    "lr = 1e-3\n",
    "\n",
    "optimizer = tf.keras.optimizers.Adam(learning_rate=lr)\n",
    "\n",
    "for num_batch, (xbatch, ybatch) in tf.data.Dataset.from_tensor_slices((x, y)).batch(batch_size).take(num_batches).enumerate():\n",
    "    with tf.GradientTape() as tape:\n",
    "        outputs = feature_extractor(xbatch)\n",
    "        y_pred = tf.reshape(outputs['Output'], (-1,))\n",
    "        loss = tf.keras.losses.MSE(ybatch, y_pred)\n",
    "    grads = tape.gradient(loss, mlp.trainable_variables)\n",
    "    optimizer.apply_gradients(zip(grads, mlp.trainable_variables))\n",
    "    with tf.summary.create_file_writer(tensorboard_log_folder).as_default():\n",
    "        for grad, var in zip(grads, mlp.trainable_variables):\n",
    "            tf.summary.histogram(name=f'grads/{var.name}', data=grad, step=num_batch)\n",
    "        for layer_name, output in outputs.items():\n",
    "            tf.summary.histogram(name=f'output/{layer_name}', data=output, step=num_batch)"
   ]
  },
  {
   "cell_type": "code",
   "execution_count": 82,
   "metadata": {},
   "outputs": [],
   "source": [
    "layer = mlp.layers[0]"
   ]
  },
  {
   "cell_type": "code",
   "execution_count": 87,
   "metadata": {},
   "outputs": [
    {
     "output_type": "execute_result",
     "data": {
      "text/plain": "'Dense_0/bias:0'"
     },
     "metadata": {},
     "execution_count": 87
    }
   ],
   "source": [
    "layer.bias.name"
   ]
  },
  {
   "cell_type": "code",
   "execution_count": null,
   "metadata": {},
   "outputs": [],
   "source": []
  }
 ]
}