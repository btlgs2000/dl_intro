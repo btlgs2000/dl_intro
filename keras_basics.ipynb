{
  "nbformat": 4,
  "nbformat_minor": 0,
  "metadata": {
    "colab": {
      "name": "keras_basics.ipynb",
      "provenance": [],
      "collapsed_sections": [],
      "authorship_tag": "ABX9TyMaMt1PhRGfYEDz833YQEih",
      "include_colab_link": true
    },
    "kernelspec": {
      "name": "python3",
      "display_name": "Python 3"
    }
  },
  "cells": [
    {
      "cell_type": "markdown",
      "metadata": {
        "id": "view-in-github",
        "colab_type": "text"
      },
      "source": [
        "<a href=\"https://colab.research.google.com/github/btlgs2000/dl_intro/blob/master/keras_basics.ipynb\" target=\"_parent\"><img src=\"https://colab.research.google.com/assets/colab-badge.svg\" alt=\"Open In Colab\"/></a>"
      ]
    },
    {
      "cell_type": "markdown",
      "metadata": {
        "id": "Gx0ouQFZqHDk",
        "colab_type": "text"
      },
      "source": [
        "# Layer"
      ]
    },
    {
      "cell_type": "code",
      "metadata": {
        "id": "wp4TyXbBqIcA",
        "colab_type": "code",
        "colab": {}
      },
      "source": [
        "from tensorflow.keras.layers import Dense, Layer, BatchNormalization, Dropout, concatenate\n",
        "from tensorflow.keras import Sequential, Model, Input\n",
        "from tensorflow.keras.utils import plot_model\n",
        "from tensorflow.keras.optimizers import Adam\n",
        "import tensorflow.keras as keras\n",
        "\n",
        "from sklearn.model_selection import train_test_split\n",
        "\n",
        "import numpy as np"
      ],
      "execution_count": 62,
      "outputs": []
    },
    {
      "cell_type": "code",
      "metadata": {
        "id": "rCVYpuiXqVwE",
        "colab_type": "code",
        "colab": {}
      },
      "source": [
        "dense = Dense(10)"
      ],
      "execution_count": null,
      "outputs": []
    },
    {
      "cell_type": "code",
      "metadata": {
        "id": "0gJokHCIq1Yc",
        "colab_type": "code",
        "colab": {}
      },
      "source": [
        "bn = BatchNormalization()"
      ],
      "execution_count": null,
      "outputs": []
    },
    {
      "cell_type": "code",
      "metadata": {
        "id": "WmmZ3s12qcTq",
        "colab_type": "code",
        "colab": {}
      },
      "source": [
        "isinstance(dense, Layer)"
      ],
      "execution_count": null,
      "outputs": []
    },
    {
      "cell_type": "code",
      "metadata": {
        "id": "pR2JRsKzq8J7",
        "colab_type": "code",
        "colab": {}
      },
      "source": [
        "# importante! settando questo attributo a False i suoi pesi non vengono aggiornati col gradient descent\n",
        "dense.trainable"
      ],
      "execution_count": null,
      "outputs": []
    },
    {
      "cell_type": "code",
      "metadata": {
        "id": "kTK88gKDsZNM",
        "colab_type": "code",
        "colab": {}
      },
      "source": [
        "dense.variables"
      ],
      "execution_count": null,
      "outputs": []
    },
    {
      "cell_type": "code",
      "metadata": {
        "id": "EhBhTQfxsnky",
        "colab_type": "code",
        "colab": {}
      },
      "source": [
        "dense.name"
      ],
      "execution_count": null,
      "outputs": []
    },
    {
      "cell_type": "code",
      "metadata": {
        "id": "QKo91aE_sqFh",
        "colab_type": "code",
        "colab": {}
      },
      "source": [
        "dense.input"
      ],
      "execution_count": null,
      "outputs": []
    },
    {
      "cell_type": "code",
      "metadata": {
        "id": "lvrfWb5isyVl",
        "colab_type": "code",
        "colab": {}
      },
      "source": [
        "dense.output"
      ],
      "execution_count": null,
      "outputs": []
    },
    {
      "cell_type": "code",
      "metadata": {
        "id": "Iu4uOp_5tAeF",
        "colab_type": "code",
        "colab": {}
      },
      "source": [
        "# inizializzazione dei pesi tramite build"
      ],
      "execution_count": null,
      "outputs": []
    },
    {
      "cell_type": "code",
      "metadata": {
        "id": "G9cman8gtDJJ",
        "colab_type": "code",
        "colab": {}
      },
      "source": [
        "dense = Dense(10)"
      ],
      "execution_count": null,
      "outputs": []
    },
    {
      "cell_type": "code",
      "metadata": {
        "id": "GswKCc_ztKCs",
        "colab_type": "code",
        "colab": {}
      },
      "source": [
        "dense.build((100,))"
      ],
      "execution_count": null,
      "outputs": []
    },
    {
      "cell_type": "code",
      "metadata": {
        "id": "EePVCFl-tL4a",
        "colab_type": "code",
        "colab": {}
      },
      "source": [
        "dense.trainable_variables"
      ],
      "execution_count": null,
      "outputs": []
    },
    {
      "cell_type": "code",
      "metadata": {
        "id": "JXPlsEMMu0fM",
        "colab_type": "code",
        "colab": {}
      },
      "source": [
        "# settare l'inizializzazione"
      ],
      "execution_count": null,
      "outputs": []
    },
    {
      "cell_type": "code",
      "metadata": {
        "id": "exFq5ld-uBTL",
        "colab_type": "code",
        "colab": {}
      },
      "source": [
        "dense = Dense(10, kernel_initializer='glorot_normal')"
      ],
      "execution_count": null,
      "outputs": []
    },
    {
      "cell_type": "code",
      "metadata": {
        "id": "UkhivpHguULe",
        "colab_type": "code",
        "colab": {}
      },
      "source": [
        "dense = Dense(10, kernel_initializer=keras.initializers.GlorotNormal(seed=1))"
      ],
      "execution_count": null,
      "outputs": []
    },
    {
      "cell_type": "code",
      "metadata": {
        "id": "LYkmfo8buep7",
        "colab_type": "code",
        "colab": {}
      },
      "source": [
        "# inizializzazione mediante call"
      ],
      "execution_count": null,
      "outputs": []
    },
    {
      "cell_type": "code",
      "metadata": {
        "id": "GT37LuZ9vOb-",
        "colab_type": "code",
        "colab": {}
      },
      "source": [
        "dense = Dense(10)"
      ],
      "execution_count": null,
      "outputs": []
    },
    {
      "cell_type": "code",
      "metadata": {
        "id": "BvUeqYswvQAf",
        "colab_type": "code",
        "colab": {}
      },
      "source": [
        "dense(np.random.rand(10, 45))"
      ],
      "execution_count": null,
      "outputs": []
    },
    {
      "cell_type": "code",
      "metadata": {
        "id": "H8sNnrMjvaqu",
        "colab_type": "code",
        "colab": {}
      },
      "source": [
        "bn(np.random.rand(10, 45))"
      ],
      "execution_count": null,
      "outputs": []
    },
    {
      "cell_type": "code",
      "metadata": {
        "id": "LKD2Y2Hbvp4O",
        "colab_type": "code",
        "colab": {}
      },
      "source": [
        "bn.weights"
      ],
      "execution_count": null,
      "outputs": []
    },
    {
      "cell_type": "code",
      "metadata": {
        "id": "gf7ZxmAxvvqz",
        "colab_type": "code",
        "colab": {}
      },
      "source": [
        "bn.trainable_weights"
      ],
      "execution_count": null,
      "outputs": []
    },
    {
      "cell_type": "markdown",
      "metadata": {
        "id": "boE85My9wIfy",
        "colab_type": "text"
      },
      "source": [
        ""
      ]
    },
    {
      "cell_type": "code",
      "metadata": {
        "id": "iLTXeqQNv3Bs",
        "colab_type": "code",
        "colab": {}
      },
      "source": [
        "bn.non_trainable_weights"
      ],
      "execution_count": null,
      "outputs": []
    },
    {
      "cell_type": "markdown",
      "metadata": {
        "id": "SnCMCtbRwUAu",
        "colab_type": "text"
      },
      "source": [
        "# Modelli"
      ]
    },
    {
      "cell_type": "markdown",
      "metadata": {
        "id": "W0JPsRDawXEV",
        "colab_type": "text"
      },
      "source": [
        "## Sequenziale"
      ]
    },
    {
      "cell_type": "code",
      "metadata": {
        "id": "waP4EayhwVel",
        "colab_type": "code",
        "colab": {}
      },
      "source": [
        "# Posso specificare un input con il parametro input_shape del primo layer\n",
        "# oppure includendo all'inizio un oggetto di tipo Input\n",
        "\n",
        "model = Sequential(\n",
        "    [\n",
        "     Input(10),\n",
        "     Dense(10, activation='relu', name='dense_1'),\n",
        "     Dropout(0.1, name='dropout_1'),\n",
        "     Dense(10, activation='relu', name='dense_2'),\n",
        "     Dropout(0.1, name='dropout_2'),\n",
        "     Dense(1, name='output')\n",
        "    ]\n",
        ")"
      ],
      "execution_count": null,
      "outputs": []
    },
    {
      "cell_type": "code",
      "metadata": {
        "id": "iG1s_VV5w4bD",
        "colab_type": "code",
        "colab": {}
      },
      "source": [
        "isinstance(model, Model)"
      ],
      "execution_count": null,
      "outputs": []
    },
    {
      "cell_type": "code",
      "metadata": {
        "id": "UiV3my1VxfGM",
        "colab_type": "code",
        "colab": {}
      },
      "source": [
        "isinstance(model, Layer)"
      ],
      "execution_count": null,
      "outputs": []
    },
    {
      "cell_type": "code",
      "metadata": {
        "id": "wzyeaPPHxqyc",
        "colab_type": "code",
        "colab": {}
      },
      "source": [
        "model.layers"
      ],
      "execution_count": null,
      "outputs": []
    },
    {
      "cell_type": "code",
      "metadata": {
        "id": "UzxqohsEy__n",
        "colab_type": "code",
        "colab": {}
      },
      "source": [
        "dense_1 = model.get_layer(name='dense_1')"
      ],
      "execution_count": null,
      "outputs": []
    },
    {
      "cell_type": "code",
      "metadata": {
        "id": "EcFaJMc4zJun",
        "colab_type": "code",
        "colab": {}
      },
      "source": [
        "dense_1.output"
      ],
      "execution_count": null,
      "outputs": []
    },
    {
      "cell_type": "code",
      "metadata": {
        "id": "zw68eVSKzcr2",
        "colab_type": "code",
        "colab": {}
      },
      "source": [
        "dense_1.input"
      ],
      "execution_count": null,
      "outputs": []
    },
    {
      "cell_type": "code",
      "metadata": {
        "id": "WQ5o1Vyvz-2W",
        "colab_type": "code",
        "colab": {}
      },
      "source": [
        "model.summary()"
      ],
      "execution_count": null,
      "outputs": []
    },
    {
      "cell_type": "code",
      "metadata": {
        "id": "zFrEOVlq0kU0",
        "colab_type": "code",
        "colab": {}
      },
      "source": [
        "plot_model(model=model, show_shapes=True)"
      ],
      "execution_count": null,
      "outputs": []
    },
    {
      "cell_type": "markdown",
      "metadata": {
        "id": "p6PLZqpd2AM4",
        "colab_type": "text"
      },
      "source": [
        "## Funzionale\n",
        "\n"
      ]
    },
    {
      "cell_type": "code",
      "metadata": {
        "id": "ygwMqcdy3OAC",
        "colab_type": "code",
        "colab": {}
      },
      "source": [
        "input_1 = Input(shape=(10,))\n",
        "input_2 = Input(shape=(20,))\n",
        "\n",
        "# prima sottorete\n",
        "x = Dense(100, activation='relu')(input_1)\n",
        "x = Dense(100, activation='relu')(x)\n",
        "x = Dense(100, activation='relu')(x)\n",
        "# seconda sottorete\n",
        "y = Dense(100, activation='relu')(input_2)\n",
        "y = Dense(100, activation='relu')(y)\n",
        "y = Dense(100, activation='relu')(y)\n",
        "\n",
        "conc = concatenate([x, y])\n",
        "out = Dense(1)(conc)\n",
        "\n",
        "model = Model(inputs=[input_1, input_2], outputs=out)"
      ],
      "execution_count": null,
      "outputs": []
    },
    {
      "cell_type": "code",
      "metadata": {
        "id": "d2EResbf4WwB",
        "colab_type": "code",
        "colab": {}
      },
      "source": [
        "model.summary()"
      ],
      "execution_count": null,
      "outputs": []
    },
    {
      "cell_type": "code",
      "metadata": {
        "id": "LByDqcwu4yTr",
        "colab_type": "code",
        "colab": {}
      },
      "source": [
        "plot_model(model)"
      ],
      "execution_count": null,
      "outputs": []
    },
    {
      "cell_type": "markdown",
      "metadata": {
        "id": "xQ_bfwxa2faO",
        "colab_type": "text"
      },
      "source": [
        "## Subclassing"
      ]
    },
    {
      "cell_type": "code",
      "metadata": {
        "id": "9mj9UFqg5Zcb",
        "colab_type": "code",
        "colab": {}
      },
      "source": [
        "class RegressorMLP(Model):\n",
        "    def __init__(self, num_hidden_layers, activation, units_x_layer, dropout_rate):\n",
        "        super().__init__(name='RegressorMLP')\n",
        "        self.hidden_layers = []\n",
        "        self.dropouts = []\n",
        "        for i in range(num_hidden_layers):\n",
        "            self.hidden_layers.append(Dense(units=units_x_layer, activation=activation, name=f'dense_{i}'))\n",
        "            self.dropouts.append(Dropout(dropout_rate, name=f'dropout_{i}'))\n",
        "        self.last_layer = Dense(1, name=f'dense_{num_hidden_layers}')\n",
        "\n",
        "    def call(self, inputs, training=False):\n",
        "        x = inputs\n",
        "        for dense, dropout in zip(self.hidden_layers, self.dropouts):\n",
        "            print(dense.name, dropout.name)\n",
        "            x = dense(x)\n",
        "            x = dropout(x) if training else x\n",
        "\n",
        "        x = self.last_layer(x)\n",
        "        \n",
        "        return x"
      ],
      "execution_count": 45,
      "outputs": []
    },
    {
      "cell_type": "code",
      "metadata": {
        "id": "SDF8WCiroXoA",
        "colab_type": "code",
        "colab": {}
      },
      "source": [
        "model = RegressorMLP(num_hidden_layers=4, activation='relu', units_x_layer=50, dropout_rate=0.3)"
      ],
      "execution_count": 46,
      "outputs": []
    },
    {
      "cell_type": "code",
      "metadata": {
        "id": "9zPi_1iDosy-",
        "colab_type": "code",
        "colab": {
          "base_uri": "https://localhost:8080/",
          "height": 638
        },
        "outputId": "3f1f91ef-b04c-4a56-9549-5427d6bafc77"
      },
      "source": [
        "model(np.random.rand(32, 10).astype(np.float32), training=True)"
      ],
      "execution_count": 47,
      "outputs": [
        {
          "output_type": "stream",
          "text": [
            "dense_0 dropout_0\n",
            "dense_1 dropout_1\n",
            "dense_2 dropout_2\n",
            "dense_3 dropout_3\n"
          ],
          "name": "stdout"
        },
        {
          "output_type": "execute_result",
          "data": {
            "text/plain": [
              "<tf.Tensor: shape=(32, 1), dtype=float32, numpy=\n",
              "array([[ 0.10910045],\n",
              "       [ 0.45822078],\n",
              "       [ 0.09547866],\n",
              "       [ 0.05371245],\n",
              "       [ 0.32558095],\n",
              "       [ 0.10365595],\n",
              "       [ 0.29161   ],\n",
              "       [ 0.38242865],\n",
              "       [ 0.06606817],\n",
              "       [ 0.07444821],\n",
              "       [ 0.18797219],\n",
              "       [ 0.10027465],\n",
              "       [-0.00575983],\n",
              "       [ 0.20321989],\n",
              "       [ 0.8152238 ],\n",
              "       [ 0.24955243],\n",
              "       [ 0.2227236 ],\n",
              "       [-0.02099437],\n",
              "       [ 0.14389856],\n",
              "       [ 0.15358502],\n",
              "       [ 0.38101864],\n",
              "       [ 0.12439577],\n",
              "       [ 0.04295134],\n",
              "       [ 0.03579491],\n",
              "       [ 0.19433002],\n",
              "       [ 0.22707747],\n",
              "       [ 0.27583084],\n",
              "       [ 0.4445622 ],\n",
              "       [ 0.12045928],\n",
              "       [-0.13732302],\n",
              "       [ 0.34698936],\n",
              "       [ 0.13915986]], dtype=float32)>"
            ]
          },
          "metadata": {
            "tags": []
          },
          "execution_count": 47
        }
      ]
    },
    {
      "cell_type": "markdown",
      "metadata": {
        "id": "nQXBzgmD-zM9",
        "colab_type": "text"
      },
      "source": [
        "# Addestramento"
      ]
    },
    {
      "cell_type": "code",
      "metadata": {
        "id": "doUFHhGK-0iX",
        "colab_type": "code",
        "colab": {}
      },
      "source": [
        "# come si addestra un modello"
      ],
      "execution_count": 50,
      "outputs": []
    },
    {
      "cell_type": "code",
      "metadata": {
        "id": "_-qTFo-btZB_",
        "colab_type": "code",
        "colab": {}
      },
      "source": [
        "N = 100_000 # num of samples\n",
        "x = np.random.rand(N, 10)\n",
        "y = x @ np.array([1, 4, 2, 3, 5, 1, 6, 1, 1, 2]).reshape(-1, 1)\n",
        "\n",
        "x_train, x_test, y_train, y_test = train_test_split(x, y, test_size=0.2)"
      ],
      "execution_count": 63,
      "outputs": []
    },
    {
      "cell_type": "code",
      "metadata": {
        "id": "aolLtJXat3HP",
        "colab_type": "code",
        "colab": {}
      },
      "source": [
        "model = Sequential(\n",
        "    [\n",
        "     Input(10),\n",
        "     Dense(10, activation='relu', name='dense_1'),\n",
        "     Dropout(0.1, name='dropout_1'),\n",
        "     Dense(10, activation='relu', name='dense_2'),\n",
        "     Dropout(0.1, name='dropout_2'),\n",
        "     Dense(1, name='output')\n",
        "    ]\n",
        ")"
      ],
      "execution_count": 64,
      "outputs": []
    },
    {
      "cell_type": "code",
      "metadata": {
        "id": "dRaRnkExt-Vj",
        "colab_type": "code",
        "colab": {}
      },
      "source": [
        "model.compile(optimizer=Adam(learning_rate=1e-3), loss='mse', metrics=['mae'])"
      ],
      "execution_count": 65,
      "outputs": []
    },
    {
      "cell_type": "code",
      "metadata": {
        "id": "OHzrF6_4uaZh",
        "colab_type": "code",
        "colab": {
          "base_uri": "https://localhost:8080/",
          "height": 370
        },
        "outputId": "e7b89983-c4e8-467a-903b-81204612e0db"
      },
      "source": [
        "model.fit(x_train, y_train, batch_size=32, epochs=10, validation_split=0.2)"
      ],
      "execution_count": 66,
      "outputs": [
        {
          "output_type": "stream",
          "text": [
            "Epoch 1/10\n",
            "2000/2000 [==============================] - 2s 1ms/step - loss: 15.6329 - mae: 2.6798 - val_loss: 0.2765 - val_mae: 0.4238\n",
            "Epoch 2/10\n",
            "2000/2000 [==============================] - 2s 1ms/step - loss: 4.5636 - mae: 1.6444 - val_loss: 0.3388 - val_mae: 0.4845\n",
            "Epoch 3/10\n",
            "2000/2000 [==============================] - 2s 1ms/step - loss: 3.5823 - mae: 1.4471 - val_loss: 0.1618 - val_mae: 0.3187\n",
            "Epoch 4/10\n",
            "2000/2000 [==============================] - 3s 1ms/step - loss: 2.7644 - mae: 1.2767 - val_loss: 0.1830 - val_mae: 0.3128\n",
            "Epoch 5/10\n",
            "2000/2000 [==============================] - 2s 1ms/step - loss: 2.2822 - mae: 1.1590 - val_loss: 0.1095 - val_mae: 0.2082\n",
            "Epoch 6/10\n",
            "2000/2000 [==============================] - 2s 1ms/step - loss: 1.8857 - mae: 1.0502 - val_loss: 0.1332 - val_mae: 0.2734\n",
            "Epoch 7/10\n",
            "2000/2000 [==============================] - 2s 1ms/step - loss: 1.5198 - mae: 0.9379 - val_loss: 0.0819 - val_mae: 0.2199\n",
            "Epoch 8/10\n",
            "2000/2000 [==============================] - 2s 1ms/step - loss: 1.2321 - mae: 0.8390 - val_loss: 0.0646 - val_mae: 0.1985\n",
            "Epoch 9/10\n",
            "2000/2000 [==============================] - 2s 1ms/step - loss: 1.0186 - mae: 0.7522 - val_loss: 0.0480 - val_mae: 0.1656\n",
            "Epoch 10/10\n",
            "2000/2000 [==============================] - 2s 1ms/step - loss: 0.8671 - mae: 0.6899 - val_loss: 0.0459 - val_mae: 0.1383\n"
          ],
          "name": "stdout"
        },
        {
          "output_type": "execute_result",
          "data": {
            "text/plain": [
              "<tensorflow.python.keras.callbacks.History at 0x7fe8badbe5f8>"
            ]
          },
          "metadata": {
            "tags": []
          },
          "execution_count": 66
        }
      ]
    },
    {
      "cell_type": "code",
      "metadata": {
        "id": "x_dtgRhDwBpJ",
        "colab_type": "code",
        "colab": {
          "base_uri": "https://localhost:8080/",
          "height": 689
        },
        "outputId": "f4a2f69e-959c-49f0-9b8f-59f48d66067e"
      },
      "source": [
        "model.history.history"
      ],
      "execution_count": 69,
      "outputs": [
        {
          "output_type": "execute_result",
          "data": {
            "text/plain": [
              "{'loss': [15.632884979248047,\n",
              "  4.563602924346924,\n",
              "  3.5823357105255127,\n",
              "  2.76444149017334,\n",
              "  2.2821505069732666,\n",
              "  1.8856925964355469,\n",
              "  1.5198496580123901,\n",
              "  1.2320964336395264,\n",
              "  1.018563151359558,\n",
              "  0.8670998811721802],\n",
              " 'mae': [2.6797659397125244,\n",
              "  1.6444025039672852,\n",
              "  1.4471186399459839,\n",
              "  1.2766540050506592,\n",
              "  1.159019947052002,\n",
              "  1.0501712560653687,\n",
              "  0.937853217124939,\n",
              "  0.8390334248542786,\n",
              "  0.7522034645080566,\n",
              "  0.6898727416992188],\n",
              " 'val_loss': [0.27648764848709106,\n",
              "  0.33883994817733765,\n",
              "  0.16176624596118927,\n",
              "  0.18296580016613007,\n",
              "  0.10946132242679596,\n",
              "  0.1332128942012787,\n",
              "  0.0819363072514534,\n",
              "  0.06458050012588501,\n",
              "  0.047976505011320114,\n",
              "  0.04585960507392883],\n",
              " 'val_mae': [0.42383456230163574,\n",
              "  0.48448729515075684,\n",
              "  0.318690687417984,\n",
              "  0.31279829144477844,\n",
              "  0.20819227397441864,\n",
              "  0.2733917534351349,\n",
              "  0.21992823481559753,\n",
              "  0.19850261509418488,\n",
              "  0.1655738353729248,\n",
              "  0.13828973472118378]}"
            ]
          },
          "metadata": {
            "tags": []
          },
          "execution_count": 69
        }
      ]
    },
    {
      "cell_type": "code",
      "metadata": {
        "id": "TuGn9iBMwL1k",
        "colab_type": "code",
        "colab": {
          "base_uri": "https://localhost:8080/",
          "height": 34
        },
        "outputId": "20de98fa-acbb-4f3d-97c8-0d5bc1e47f2a"
      },
      "source": [
        "model.metrics_names"
      ],
      "execution_count": 70,
      "outputs": [
        {
          "output_type": "execute_result",
          "data": {
            "text/plain": [
              "['loss', 'mae']"
            ]
          },
          "metadata": {
            "tags": []
          },
          "execution_count": 70
        }
      ]
    },
    {
      "cell_type": "code",
      "metadata": {
        "id": "gJclIUwWuiM4",
        "colab_type": "code",
        "colab": {
          "base_uri": "https://localhost:8080/",
          "height": 50
        },
        "outputId": "357ae591-d1bf-4c92-80ff-f94ef272376c"
      },
      "source": [
        "loss, mae = model.evaluate(x_test, y_test)\n",
        "print(f'loss={loss}, mae={mae}')"
      ],
      "execution_count": 72,
      "outputs": [
        {
          "output_type": "stream",
          "text": [
            "625/625 [==============================] - 0s 745us/step - loss: 0.0467 - mae: 0.1373\n",
            "loss=0.04671614244580269, mae=0.13726142048835754\n"
          ],
          "name": "stdout"
        }
      ]
    },
    {
      "cell_type": "code",
      "metadata": {
        "id": "lPX4nijuwQQA",
        "colab_type": "code",
        "colab": {
          "base_uri": "https://localhost:8080/",
          "height": 34
        },
        "outputId": "d8742d06-9ef8-42b4-88ad-a65bd2a32907"
      },
      "source": [
        "y_hat = model.predict(x_test[:100])\n",
        "print(y_hat.shape)"
      ],
      "execution_count": 75,
      "outputs": [
        {
          "output_type": "stream",
          "text": [
            "(100, 1)\n"
          ],
          "name": "stdout"
        }
      ]
    },
    {
      "cell_type": "markdown",
      "metadata": {
        "id": "fkKLj3UjxCqc",
        "colab_type": "text"
      },
      "source": [
        "# Salvataggio di un modello"
      ]
    },
    {
      "cell_type": "code",
      "metadata": {
        "id": "BCMxcIGAxIQF",
        "colab_type": "code",
        "colab": {}
      },
      "source": [
        ""
      ],
      "execution_count": null,
      "outputs": []
    }
  ]
}