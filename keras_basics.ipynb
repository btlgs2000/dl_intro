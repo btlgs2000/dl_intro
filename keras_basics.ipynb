{
  "nbformat": 4,
  "nbformat_minor": 0,
  "metadata": {
    "colab": {
      "name": "keras_basics.ipynb",
      "provenance": [],
      "collapsed_sections": [],
      "authorship_tag": "ABX9TyOy/Xvtulffnqmc1AITbPe8",
      "include_colab_link": true
    },
    "kernelspec": {
      "name": "python3",
      "display_name": "Python 3"
    }
  },
  "cells": [
    {
      "cell_type": "markdown",
      "metadata": {
        "id": "view-in-github",
        "colab_type": "text"
      },
      "source": [
        "<a href=\"https://colab.research.google.com/github/btlgs2000/dl_intro/blob/master/keras_basics.ipynb\" target=\"_parent\"><img src=\"https://colab.research.google.com/assets/colab-badge.svg\" alt=\"Open In Colab\"/></a>"
      ]
    },
    {
      "cell_type": "markdown",
      "metadata": {
        "id": "Gx0ouQFZqHDk",
        "colab_type": "text"
      },
      "source": [
        "# Layer"
      ]
    },
    {
      "cell_type": "code",
      "metadata": {
        "id": "wp4TyXbBqIcA",
        "colab_type": "code",
        "colab": {}
      },
      "source": [
        "from tensorflow.keras.layers import Dense, Layer, BatchNormalization, Dropout, concatenate\n",
        "from tensorflow.keras import Sequential, Model, Input\n",
        "from tensorflow.keras.utils import plot_model\n",
        "from tensorflow.keras.optimizers import Adam\n",
        "from tensorflow.keras.callbacks import EarlyStopping, ModelCheckpoint, CSVLogger\n",
        "import tensorflow.keras as keras\n",
        "\n",
        "from sklearn.model_selection import train_test_split\n",
        "\n",
        "import numpy as np"
      ],
      "execution_count": 56,
      "outputs": []
    },
    {
      "cell_type": "code",
      "metadata": {
        "id": "rCVYpuiXqVwE",
        "colab_type": "code",
        "colab": {}
      },
      "source": [
        "dense = Dense(10)"
      ],
      "execution_count": 2,
      "outputs": []
    },
    {
      "cell_type": "code",
      "metadata": {
        "id": "0gJokHCIq1Yc",
        "colab_type": "code",
        "colab": {}
      },
      "source": [
        "bn = BatchNormalization()"
      ],
      "execution_count": 3,
      "outputs": []
    },
    {
      "cell_type": "code",
      "metadata": {
        "id": "WmmZ3s12qcTq",
        "colab_type": "code",
        "colab": {
          "base_uri": "https://localhost:8080/",
          "height": 34
        },
        "outputId": "446c7e0f-8b3b-4025-ee34-29ad8d4edb4b"
      },
      "source": [
        "isinstance(dense, Layer)"
      ],
      "execution_count": 4,
      "outputs": [
        {
          "output_type": "execute_result",
          "data": {
            "text/plain": [
              "True"
            ]
          },
          "metadata": {
            "tags": []
          },
          "execution_count": 4
        }
      ]
    },
    {
      "cell_type": "code",
      "metadata": {
        "id": "pR2JRsKzq8J7",
        "colab_type": "code",
        "colab": {
          "base_uri": "https://localhost:8080/",
          "height": 34
        },
        "outputId": "a9b115bc-c8eb-46c3-a150-c067df914392"
      },
      "source": [
        "# importante! settando questo attributo a False i suoi pesi non vengono aggiornati col gradient descent\n",
        "dense.trainable"
      ],
      "execution_count": 5,
      "outputs": [
        {
          "output_type": "execute_result",
          "data": {
            "text/plain": [
              "True"
            ]
          },
          "metadata": {
            "tags": []
          },
          "execution_count": 5
        }
      ]
    },
    {
      "cell_type": "code",
      "metadata": {
        "id": "kTK88gKDsZNM",
        "colab_type": "code",
        "colab": {
          "base_uri": "https://localhost:8080/",
          "height": 34
        },
        "outputId": "cb484f0f-46c0-4e94-ee4a-2d701bd846fb"
      },
      "source": [
        "dense.variables"
      ],
      "execution_count": 6,
      "outputs": [
        {
          "output_type": "execute_result",
          "data": {
            "text/plain": [
              "[]"
            ]
          },
          "metadata": {
            "tags": []
          },
          "execution_count": 6
        }
      ]
    },
    {
      "cell_type": "code",
      "metadata": {
        "id": "EhBhTQfxsnky",
        "colab_type": "code",
        "colab": {
          "base_uri": "https://localhost:8080/",
          "height": 35
        },
        "outputId": "4001c789-6cd9-4ff7-de49-e865e5ea0e9c"
      },
      "source": [
        "dense.name"
      ],
      "execution_count": 7,
      "outputs": [
        {
          "output_type": "execute_result",
          "data": {
            "application/vnd.google.colaboratory.intrinsic+json": {
              "type": "string"
            },
            "text/plain": [
              "'dense'"
            ]
          },
          "metadata": {
            "tags": []
          },
          "execution_count": 7
        }
      ]
    },
    {
      "cell_type": "code",
      "metadata": {
        "id": "QKo91aE_sqFh",
        "colab_type": "code",
        "colab": {
          "base_uri": "https://localhost:8080/",
          "height": 279
        },
        "outputId": "4a19e0af-f0a0-47fd-9c17-f38852884fee"
      },
      "source": [
        "dense.input"
      ],
      "execution_count": 8,
      "outputs": [
        {
          "output_type": "error",
          "ename": "AttributeError",
          "evalue": "ignored",
          "traceback": [
            "\u001b[0;31m---------------------------------------------------------------------------\u001b[0m",
            "\u001b[0;31mAttributeError\u001b[0m                            Traceback (most recent call last)",
            "\u001b[0;32m<ipython-input-8-71f79453a3ce>\u001b[0m in \u001b[0;36m<module>\u001b[0;34m()\u001b[0m\n\u001b[0;32m----> 1\u001b[0;31m \u001b[0mdense\u001b[0m\u001b[0;34m.\u001b[0m\u001b[0minput\u001b[0m\u001b[0;34m\u001b[0m\u001b[0;34m\u001b[0m\u001b[0m\n\u001b[0m",
            "\u001b[0;32m/usr/local/lib/python3.6/dist-packages/tensorflow/python/keras/engine/base_layer.py\u001b[0m in \u001b[0;36minput\u001b[0;34m(self)\u001b[0m\n\u001b[1;32m   2084\u001b[0m     \u001b[0;32mif\u001b[0m \u001b[0;32mnot\u001b[0m \u001b[0mself\u001b[0m\u001b[0;34m.\u001b[0m\u001b[0m_inbound_nodes\u001b[0m\u001b[0;34m:\u001b[0m\u001b[0;34m\u001b[0m\u001b[0;34m\u001b[0m\u001b[0m\n\u001b[1;32m   2085\u001b[0m       raise AttributeError('Layer ' + self.name +\n\u001b[0;32m-> 2086\u001b[0;31m                            ' is not connected, no input to return.')\n\u001b[0m\u001b[1;32m   2087\u001b[0m     \u001b[0;32mreturn\u001b[0m \u001b[0mself\u001b[0m\u001b[0;34m.\u001b[0m\u001b[0m_get_node_attribute_at_index\u001b[0m\u001b[0;34m(\u001b[0m\u001b[0;36m0\u001b[0m\u001b[0;34m,\u001b[0m \u001b[0;34m'input_tensors'\u001b[0m\u001b[0;34m,\u001b[0m \u001b[0;34m'input'\u001b[0m\u001b[0;34m)\u001b[0m\u001b[0;34m\u001b[0m\u001b[0;34m\u001b[0m\u001b[0m\n\u001b[1;32m   2088\u001b[0m \u001b[0;34m\u001b[0m\u001b[0m\n",
            "\u001b[0;31mAttributeError\u001b[0m: Layer dense is not connected, no input to return."
          ]
        }
      ]
    },
    {
      "cell_type": "code",
      "metadata": {
        "id": "lvrfWb5isyVl",
        "colab_type": "code",
        "colab": {}
      },
      "source": [
        "dense.output"
      ],
      "execution_count": null,
      "outputs": []
    },
    {
      "cell_type": "code",
      "metadata": {
        "id": "Iu4uOp_5tAeF",
        "colab_type": "code",
        "colab": {}
      },
      "source": [
        "# inizializzazione dei pesi tramite build"
      ],
      "execution_count": null,
      "outputs": []
    },
    {
      "cell_type": "code",
      "metadata": {
        "id": "G9cman8gtDJJ",
        "colab_type": "code",
        "colab": {}
      },
      "source": [
        "dense = Dense(10)"
      ],
      "execution_count": null,
      "outputs": []
    },
    {
      "cell_type": "code",
      "metadata": {
        "id": "GswKCc_ztKCs",
        "colab_type": "code",
        "colab": {}
      },
      "source": [
        "dense.build((100,))"
      ],
      "execution_count": null,
      "outputs": []
    },
    {
      "cell_type": "code",
      "metadata": {
        "id": "EePVCFl-tL4a",
        "colab_type": "code",
        "colab": {}
      },
      "source": [
        "dense.trainable_variables"
      ],
      "execution_count": null,
      "outputs": []
    },
    {
      "cell_type": "code",
      "metadata": {
        "id": "JXPlsEMMu0fM",
        "colab_type": "code",
        "colab": {}
      },
      "source": [
        "# settare l'inizializzazione"
      ],
      "execution_count": null,
      "outputs": []
    },
    {
      "cell_type": "code",
      "metadata": {
        "id": "exFq5ld-uBTL",
        "colab_type": "code",
        "colab": {}
      },
      "source": [
        "dense = Dense(10, kernel_initializer='glorot_normal')"
      ],
      "execution_count": null,
      "outputs": []
    },
    {
      "cell_type": "code",
      "metadata": {
        "id": "UkhivpHguULe",
        "colab_type": "code",
        "colab": {}
      },
      "source": [
        "dense = Dense(10, kernel_initializer=keras.initializers.GlorotNormal(seed=1))"
      ],
      "execution_count": null,
      "outputs": []
    },
    {
      "cell_type": "code",
      "metadata": {
        "id": "LYkmfo8buep7",
        "colab_type": "code",
        "colab": {}
      },
      "source": [
        "# inizializzazione mediante call"
      ],
      "execution_count": 9,
      "outputs": []
    },
    {
      "cell_type": "code",
      "metadata": {
        "id": "GT37LuZ9vOb-",
        "colab_type": "code",
        "colab": {}
      },
      "source": [
        "dense = Dense(10)"
      ],
      "execution_count": 10,
      "outputs": []
    },
    {
      "cell_type": "code",
      "metadata": {
        "id": "BvUeqYswvQAf",
        "colab_type": "code",
        "colab": {
          "base_uri": "https://localhost:8080/",
          "height": 507
        },
        "outputId": "94c53cac-a5cb-4194-c183-a0a87b55f6dd"
      },
      "source": [
        "dense(np.random.rand(10, 45))"
      ],
      "execution_count": 11,
      "outputs": [
        {
          "output_type": "stream",
          "text": [
            "WARNING:tensorflow:Layer dense_1 is casting an input tensor from dtype float64 to the layer's dtype of float32, which is new behavior in TensorFlow 2.  The layer has dtype float32 because its dtype defaults to floatx.\n",
            "\n",
            "If you intended to run this layer in float32, you can safely ignore this warning. If in doubt, this warning is likely only an issue if you are porting a TensorFlow 1.X model to TensorFlow 2.\n",
            "\n",
            "To change all layers to have dtype float64 by default, call `tf.keras.backend.set_floatx('float64')`. To change just this layer, pass dtype='float64' to the layer constructor. If you are the author of this layer, you can disable autocasting by passing autocast=False to the base Layer constructor.\n",
            "\n"
          ],
          "name": "stdout"
        },
        {
          "output_type": "execute_result",
          "data": {
            "text/plain": [
              "<tf.Tensor: shape=(10, 10), dtype=float32, numpy=\n",
              "array([[ 0.40863147,  0.3696933 , -0.6596846 ,  0.50581634, -1.4205526 ,\n",
              "        -0.4690498 ,  0.51373285,  0.12766536, -0.27731356, -0.1728231 ],\n",
              "       [ 0.6367196 , -0.33463746, -1.05244   ,  0.33957735, -0.59018356,\n",
              "        -0.6941351 ,  0.43956912,  0.36297306,  0.00911636, -0.485493  ],\n",
              "       [ 0.81996673,  0.04043749, -0.30221382,  0.7183089 , -1.1824025 ,\n",
              "        -0.1824894 ,  0.16708674,  0.08998964,  0.6520113 , -0.8433162 ],\n",
              "       [ 0.9657036 , -0.08747502, -0.6347674 ,  1.2192343 , -1.4635628 ,\n",
              "        -0.7460784 ,  0.25156698,  0.659677  ,  0.07349199, -0.64334124],\n",
              "       [ 0.7409846 ,  0.5699152 , -1.4254822 ,  0.18088615, -1.4420223 ,\n",
              "        -0.20210978,  0.80298644,  0.5817158 ,  1.1186259 , -0.60090315],\n",
              "       [ 0.8329769 ,  0.55911165, -0.6165088 ,  0.821793  , -1.4699242 ,\n",
              "        -0.06311981,  0.49597225,  0.01422974,  0.27879333,  0.289516  ],\n",
              "       [ 0.7239314 ,  0.29712337, -0.38462338,  0.5667779 , -0.7537726 ,\n",
              "        -0.6423284 ,  0.21353048, -0.23589334,  0.6096473 , -0.5159995 ],\n",
              "       [ 0.94152915, -0.2794481 , -0.5184286 , -0.00664975, -1.095208  ,\n",
              "        -0.11619692,  0.19300774, -0.6772088 ,  0.7645614 , -0.2246303 ],\n",
              "       [ 0.28117543, -0.07749109, -0.63279635,  0.5727248 , -1.5474283 ,\n",
              "        -0.7563171 ,  0.30558032,  0.07109377,  0.39783618, -1.180999  ],\n",
              "       [ 0.18209556,  0.39870366, -0.6146063 ,  0.95311755, -1.5837933 ,\n",
              "        -0.7629016 ,  0.7519308 ,  0.41178367,  0.17278805, -1.4649789 ]],\n",
              "      dtype=float32)>"
            ]
          },
          "metadata": {
            "tags": []
          },
          "execution_count": 11
        }
      ]
    },
    {
      "cell_type": "code",
      "metadata": {
        "id": "H8sNnrMjvaqu",
        "colab_type": "code",
        "colab": {
          "base_uri": "https://localhost:8080/",
          "height": 1000
        },
        "outputId": "e4d88cfc-30bf-4769-b9bf-fb359ad7d193"
      },
      "source": [
        "bn(np.random.rand(10, 45))"
      ],
      "execution_count": 12,
      "outputs": [
        {
          "output_type": "stream",
          "text": [
            "WARNING:tensorflow:Layer batch_normalization is casting an input tensor from dtype float64 to the layer's dtype of float32, which is new behavior in TensorFlow 2.  The layer has dtype float32 because its dtype defaults to floatx.\n",
            "\n",
            "If you intended to run this layer in float32, you can safely ignore this warning. If in doubt, this warning is likely only an issue if you are porting a TensorFlow 1.X model to TensorFlow 2.\n",
            "\n",
            "To change all layers to have dtype float64 by default, call `tf.keras.backend.set_floatx('float64')`. To change just this layer, pass dtype='float64' to the layer constructor. If you are the author of this layer, you can disable autocasting by passing autocast=False to the base Layer constructor.\n",
            "\n"
          ],
          "name": "stdout"
        },
        {
          "output_type": "execute_result",
          "data": {
            "text/plain": [
              "<tf.Tensor: shape=(10, 45), dtype=float32, numpy=\n",
              "array([[0.57937676, 0.46642324, 0.49500418, 0.13877502, 0.85729575,\n",
              "        0.584413  , 0.01703139, 0.9026636 , 0.9615091 , 0.7648555 ,\n",
              "        0.3800397 , 0.16526785, 0.5560564 , 0.68323916, 0.35012645,\n",
              "        0.5238388 , 0.48646724, 0.73285186, 0.8398737 , 0.21789299,\n",
              "        0.31001106, 0.35341755, 0.6658156 , 0.34463122, 0.7523846 ,\n",
              "        0.47579068, 0.27210027, 0.02924436, 0.11004126, 0.13398547,\n",
              "        0.6249662 , 0.9181747 , 0.27491057, 0.55376464, 0.93653274,\n",
              "        0.30564404, 0.1272276 , 0.59969383, 0.7633206 , 0.28686497,\n",
              "        0.91958064, 0.9561978 , 0.6165488 , 0.20348014, 0.9700227 ],\n",
              "       [0.8139306 , 0.49841085, 0.9418231 , 0.14976817, 0.50284815,\n",
              "        0.03824567, 0.24230422, 0.69804746, 0.7813145 , 0.5369012 ,\n",
              "        0.62410396, 0.13050841, 0.02851311, 0.35378346, 0.86711276,\n",
              "        0.93730754, 0.8436103 , 0.798919  , 0.0508424 , 0.20662802,\n",
              "        0.71940774, 0.55750555, 0.02661801, 0.4371858 , 0.28612292,\n",
              "        0.9493413 , 0.86387587, 0.4620301 , 0.35718372, 0.48719147,\n",
              "        0.72370005, 0.13008085, 0.2726216 , 0.50268143, 0.8166753 ,\n",
              "        0.85911673, 0.44421768, 0.74922997, 0.3715386 , 0.25555274,\n",
              "        0.36802357, 0.9484208 , 0.25321317, 0.68796504, 0.15812187],\n",
              "       [0.50149465, 0.2921186 , 0.14730494, 0.864758  , 0.93353194,\n",
              "        0.26388708, 0.3340733 , 0.12609431, 0.8239377 , 0.981985  ,\n",
              "        0.00441728, 0.52522725, 0.38896614, 0.63158405, 0.9606661 ,\n",
              "        0.6894516 , 0.4352828 , 0.9568772 , 0.31038812, 0.77031976,\n",
              "        0.47559947, 0.0981966 , 0.24365236, 0.32426473, 0.6719816 ,\n",
              "        0.16597795, 0.9612354 , 0.71088886, 0.4279356 , 0.7467591 ,\n",
              "        0.5507461 , 0.9784925 , 0.5855309 , 0.40286604, 0.94915605,\n",
              "        0.5356257 , 0.56860626, 0.8869343 , 0.9637221 , 0.63452566,\n",
              "        0.20944442, 0.97092515, 0.54302526, 0.7000696 , 0.56279093],\n",
              "       [0.5573892 , 0.7575666 , 0.2743556 , 0.96228147, 0.82518655,\n",
              "        0.3626831 , 0.5146657 , 0.74616915, 0.21800373, 0.03274421,\n",
              "        0.6258301 , 0.7094965 , 0.47833985, 0.7833876 , 0.90387857,\n",
              "        0.58576053, 0.23775809, 0.44863674, 0.12510648, 0.11674957,\n",
              "        0.18543498, 0.5184944 , 0.48661765, 0.8003192 , 0.22879186,\n",
              "        0.7663276 , 0.77240956, 0.01452404, 0.41853964, 0.47618803,\n",
              "        0.9947319 , 0.11820223, 0.49125758, 0.3517415 , 0.9721275 ,\n",
              "        0.6809487 , 0.94027525, 0.59397537, 0.77374196, 0.65563077,\n",
              "        0.8964402 , 0.77216506, 0.4503624 , 0.04405583, 0.41589078],\n",
              "       [0.62141705, 0.8412832 , 0.4051064 , 0.14561094, 0.06299266,\n",
              "        0.42915624, 0.19330731, 0.81049615, 0.2077926 , 0.3970229 ,\n",
              "        0.00877332, 0.18873759, 0.64874345, 0.51610804, 0.23778908,\n",
              "        0.7908785 , 0.8333316 , 0.67043096, 0.03825555, 0.96018785,\n",
              "        0.2992285 , 0.22740856, 0.24630398, 0.9785208 , 0.7222625 ,\n",
              "        0.82649344, 0.97119504, 0.20015548, 0.74558806, 0.8841434 ,\n",
              "        0.6177195 , 0.54364336, 0.02909123, 0.5693453 , 0.51869166,\n",
              "        0.45091918, 0.34019783, 0.5103098 , 0.11852618, 0.40150088,\n",
              "        0.91922873, 0.42056042, 0.5554782 , 0.04928786, 0.5464833 ],\n",
              "       [0.29311842, 0.1574969 , 0.5742464 , 0.17927192, 0.00602748,\n",
              "        0.8199384 , 0.77250004, 0.3049014 , 0.6759035 , 0.6345565 ,\n",
              "        0.16748951, 0.5218594 , 0.5895618 , 0.30842143, 0.572785  ,\n",
              "        0.25414455, 0.9959638 , 0.11423731, 0.45967528, 0.4469659 ,\n",
              "        0.5961167 , 0.3002527 , 0.5753219 , 0.8602887 , 0.15351273,\n",
              "        0.2391365 , 0.33461815, 0.7949356 , 0.8125499 , 0.72053033,\n",
              "        0.96882325, 0.04335454, 0.33349848, 0.99282163, 0.3689125 ,\n",
              "        0.1226731 , 0.47598344, 0.10953543, 0.5311658 , 0.9474225 ,\n",
              "        0.5421102 , 0.66123766, 0.6045403 , 0.5297486 , 0.8875947 ],\n",
              "       [0.9754475 , 0.2974516 , 0.96517193, 0.07131668, 0.83613986,\n",
              "        0.13095947, 0.49469018, 0.6941847 , 0.46922728, 0.3236674 ,\n",
              "        0.3911867 , 0.35457087, 0.95405376, 0.83117473, 0.35399568,\n",
              "        0.6917194 , 0.6244453 , 0.27502805, 0.86936337, 0.851006  ,\n",
              "        0.9711848 , 0.03969921, 0.43862838, 0.41981232, 0.04297785,\n",
              "        0.4562854 , 0.29704216, 0.44781652, 0.46209782, 0.20107621,\n",
              "        0.76685506, 0.12521365, 0.7524173 , 0.3980085 , 0.14706278,\n",
              "        0.04785452, 0.6886551 , 0.45920727, 0.14630397, 0.07772224,\n",
              "        0.2385255 , 0.02367545, 0.6368808 , 0.37762737, 0.24917567],\n",
              "       [0.89848715, 0.7353547 , 0.9126682 , 0.22440453, 0.77455366,\n",
              "        0.2522345 , 0.7217738 , 0.76977646, 0.8257878 , 0.51763815,\n",
              "        0.0399848 , 0.51992154, 0.47513083, 0.80454874, 0.05723835,\n",
              "        0.4036845 , 0.16418593, 0.49259725, 0.67126536, 0.9744397 ,\n",
              "        0.72586817, 0.5224148 , 0.7966161 , 0.29725516, 0.4127493 ,\n",
              "        0.62615114, 0.34911528, 0.5127246 , 0.0504748 , 0.73216766,\n",
              "        0.18246867, 0.5384279 , 0.38532645, 0.7343314 , 0.5402    ,\n",
              "        0.05975351, 0.8587836 , 0.503891  , 0.27947345, 0.45849067,\n",
              "        0.1842192 , 0.7117696 , 0.62133026, 0.9482893 , 0.8562286 ],\n",
              "       [0.11178942, 0.3615714 , 0.9880499 , 0.5308016 , 0.15454684,\n",
              "        0.26401028, 0.65199256, 0.2689583 , 0.18172932, 0.04932553,\n",
              "        0.5910517 , 0.5753333 , 0.32605946, 0.99216974, 0.08279712,\n",
              "        0.26999965, 0.04488004, 0.00574968, 0.6574753 , 0.9430914 ,\n",
              "        0.09492379, 0.644694  , 0.6259006 , 0.05374028, 0.24110033,\n",
              "        0.0869385 , 0.89898384, 0.22979473, 0.33495346, 0.8821617 ,\n",
              "        0.2590956 , 0.11850576, 0.8371267 , 0.2636629 , 0.8116049 ,\n",
              "        0.24702086, 0.636443  , 0.33711013, 0.29860303, 0.05107847,\n",
              "        0.06137629, 0.29294258, 0.95296264, 0.3493938 , 0.73125005],\n",
              "       [0.37646893, 0.5844435 , 0.31794405, 0.4458234 , 0.07332121,\n",
              "        0.23622274, 0.1455169 , 0.5436155 , 0.37078902, 0.46285212,\n",
              "        0.44125372, 0.8691156 , 0.65156394, 0.46709177, 0.34369534,\n",
              "        0.4251257 , 0.14767727, 0.63681054, 0.3409893 , 0.82718265,\n",
              "        0.8637933 , 0.11740915, 0.7295717 , 0.6537893 , 0.35435694,\n",
              "        0.15641515, 0.46702117, 0.5345781 , 0.8167265 , 0.09956592,\n",
              "        0.06827499, 0.94255584, 0.2510816 , 0.70575696, 0.49167114,\n",
              "        0.30391183, 0.7036511 , 0.38251692, 0.6481898 , 0.6794777 ,\n",
              "        0.71557343, 0.83127296, 0.48576555, 0.08094772, 0.67104363]],\n",
              "      dtype=float32)>"
            ]
          },
          "metadata": {
            "tags": []
          },
          "execution_count": 12
        }
      ]
    },
    {
      "cell_type": "code",
      "metadata": {
        "id": "LKD2Y2Hbvp4O",
        "colab_type": "code",
        "colab": {
          "base_uri": "https://localhost:8080/",
          "height": 286
        },
        "outputId": "48850b89-142e-4a24-9191-3c019bb2221b"
      },
      "source": [
        "bn.weights"
      ],
      "execution_count": 13,
      "outputs": [
        {
          "output_type": "execute_result",
          "data": {
            "text/plain": [
              "[<tf.Variable 'batch_normalization/gamma:0' shape=(45,) dtype=float32, numpy=\n",
              " array([1., 1., 1., 1., 1., 1., 1., 1., 1., 1., 1., 1., 1., 1., 1., 1., 1.,\n",
              "        1., 1., 1., 1., 1., 1., 1., 1., 1., 1., 1., 1., 1., 1., 1., 1., 1.,\n",
              "        1., 1., 1., 1., 1., 1., 1., 1., 1., 1., 1.], dtype=float32)>,\n",
              " <tf.Variable 'batch_normalization/beta:0' shape=(45,) dtype=float32, numpy=\n",
              " array([0., 0., 0., 0., 0., 0., 0., 0., 0., 0., 0., 0., 0., 0., 0., 0., 0.,\n",
              "        0., 0., 0., 0., 0., 0., 0., 0., 0., 0., 0., 0., 0., 0., 0., 0., 0.,\n",
              "        0., 0., 0., 0., 0., 0., 0., 0., 0., 0., 0.], dtype=float32)>,\n",
              " <tf.Variable 'batch_normalization/moving_mean:0' shape=(45,) dtype=float32, numpy=\n",
              " array([0., 0., 0., 0., 0., 0., 0., 0., 0., 0., 0., 0., 0., 0., 0., 0., 0.,\n",
              "        0., 0., 0., 0., 0., 0., 0., 0., 0., 0., 0., 0., 0., 0., 0., 0., 0.,\n",
              "        0., 0., 0., 0., 0., 0., 0., 0., 0., 0., 0.], dtype=float32)>,\n",
              " <tf.Variable 'batch_normalization/moving_variance:0' shape=(45,) dtype=float32, numpy=\n",
              " array([1., 1., 1., 1., 1., 1., 1., 1., 1., 1., 1., 1., 1., 1., 1., 1., 1.,\n",
              "        1., 1., 1., 1., 1., 1., 1., 1., 1., 1., 1., 1., 1., 1., 1., 1., 1.,\n",
              "        1., 1., 1., 1., 1., 1., 1., 1., 1., 1., 1.], dtype=float32)>]"
            ]
          },
          "metadata": {
            "tags": []
          },
          "execution_count": 13
        }
      ]
    },
    {
      "cell_type": "code",
      "metadata": {
        "id": "gf7ZxmAxvvqz",
        "colab_type": "code",
        "colab": {
          "base_uri": "https://localhost:8080/",
          "height": 151
        },
        "outputId": "a660e544-2c60-42b1-f76e-e9402fe788e4"
      },
      "source": [
        "bn.trainable_weights"
      ],
      "execution_count": 14,
      "outputs": [
        {
          "output_type": "execute_result",
          "data": {
            "text/plain": [
              "[<tf.Variable 'batch_normalization/gamma:0' shape=(45,) dtype=float32, numpy=\n",
              " array([1., 1., 1., 1., 1., 1., 1., 1., 1., 1., 1., 1., 1., 1., 1., 1., 1.,\n",
              "        1., 1., 1., 1., 1., 1., 1., 1., 1., 1., 1., 1., 1., 1., 1., 1., 1.,\n",
              "        1., 1., 1., 1., 1., 1., 1., 1., 1., 1., 1.], dtype=float32)>,\n",
              " <tf.Variable 'batch_normalization/beta:0' shape=(45,) dtype=float32, numpy=\n",
              " array([0., 0., 0., 0., 0., 0., 0., 0., 0., 0., 0., 0., 0., 0., 0., 0., 0.,\n",
              "        0., 0., 0., 0., 0., 0., 0., 0., 0., 0., 0., 0., 0., 0., 0., 0., 0.,\n",
              "        0., 0., 0., 0., 0., 0., 0., 0., 0., 0., 0.], dtype=float32)>]"
            ]
          },
          "metadata": {
            "tags": []
          },
          "execution_count": 14
        }
      ]
    },
    {
      "cell_type": "markdown",
      "metadata": {
        "id": "boE85My9wIfy",
        "colab_type": "text"
      },
      "source": [
        ""
      ]
    },
    {
      "cell_type": "code",
      "metadata": {
        "id": "iLTXeqQNv3Bs",
        "colab_type": "code",
        "colab": {
          "base_uri": "https://localhost:8080/",
          "height": 151
        },
        "outputId": "d98d863d-1688-41dc-cb75-d7b2feb3910b"
      },
      "source": [
        "bn.non_trainable_weights"
      ],
      "execution_count": 15,
      "outputs": [
        {
          "output_type": "execute_result",
          "data": {
            "text/plain": [
              "[<tf.Variable 'batch_normalization/moving_mean:0' shape=(45,) dtype=float32, numpy=\n",
              " array([0., 0., 0., 0., 0., 0., 0., 0., 0., 0., 0., 0., 0., 0., 0., 0., 0.,\n",
              "        0., 0., 0., 0., 0., 0., 0., 0., 0., 0., 0., 0., 0., 0., 0., 0., 0.,\n",
              "        0., 0., 0., 0., 0., 0., 0., 0., 0., 0., 0.], dtype=float32)>,\n",
              " <tf.Variable 'batch_normalization/moving_variance:0' shape=(45,) dtype=float32, numpy=\n",
              " array([1., 1., 1., 1., 1., 1., 1., 1., 1., 1., 1., 1., 1., 1., 1., 1., 1.,\n",
              "        1., 1., 1., 1., 1., 1., 1., 1., 1., 1., 1., 1., 1., 1., 1., 1., 1.,\n",
              "        1., 1., 1., 1., 1., 1., 1., 1., 1., 1., 1.], dtype=float32)>]"
            ]
          },
          "metadata": {
            "tags": []
          },
          "execution_count": 15
        }
      ]
    },
    {
      "cell_type": "markdown",
      "metadata": {
        "id": "SnCMCtbRwUAu",
        "colab_type": "text"
      },
      "source": [
        "# Modelli"
      ]
    },
    {
      "cell_type": "markdown",
      "metadata": {
        "id": "W0JPsRDawXEV",
        "colab_type": "text"
      },
      "source": [
        "## Sequenziale"
      ]
    },
    {
      "cell_type": "code",
      "metadata": {
        "id": "waP4EayhwVel",
        "colab_type": "code",
        "colab": {}
      },
      "source": [
        "# Posso specificare un input con il parametro input_shape del primo layer\n",
        "# oppure includendo all'inizio un oggetto di tipo Input\n",
        "\n",
        "model = Sequential(\n",
        "    [\n",
        "     Input(10),\n",
        "     Dense(10, activation='relu', name='dense_1'),\n",
        "     Dropout(0.1, name='dropout_1'),\n",
        "     Dense(10, activation='relu', name='dense_2'),\n",
        "     Dropout(0.1, name='dropout_2'),\n",
        "     Dense(1, name='output')\n",
        "    ]\n",
        ")"
      ],
      "execution_count": 16,
      "outputs": []
    },
    {
      "cell_type": "code",
      "metadata": {
        "id": "iG1s_VV5w4bD",
        "colab_type": "code",
        "colab": {
          "base_uri": "https://localhost:8080/",
          "height": 34
        },
        "outputId": "9099a692-6fce-49d4-ed84-499983998b4a"
      },
      "source": [
        "isinstance(model, Model)"
      ],
      "execution_count": 17,
      "outputs": [
        {
          "output_type": "execute_result",
          "data": {
            "text/plain": [
              "True"
            ]
          },
          "metadata": {
            "tags": []
          },
          "execution_count": 17
        }
      ]
    },
    {
      "cell_type": "code",
      "metadata": {
        "id": "UiV3my1VxfGM",
        "colab_type": "code",
        "colab": {
          "base_uri": "https://localhost:8080/",
          "height": 34
        },
        "outputId": "a3d4e845-c24e-49c4-bfce-02d011b7806e"
      },
      "source": [
        "isinstance(model, Layer)"
      ],
      "execution_count": 18,
      "outputs": [
        {
          "output_type": "execute_result",
          "data": {
            "text/plain": [
              "True"
            ]
          },
          "metadata": {
            "tags": []
          },
          "execution_count": 18
        }
      ]
    },
    {
      "cell_type": "code",
      "metadata": {
        "id": "wzyeaPPHxqyc",
        "colab_type": "code",
        "colab": {
          "base_uri": "https://localhost:8080/",
          "height": 101
        },
        "outputId": "b5b013a9-052e-4291-85fc-496cf8dbda5b"
      },
      "source": [
        "model.layers"
      ],
      "execution_count": 19,
      "outputs": [
        {
          "output_type": "execute_result",
          "data": {
            "text/plain": [
              "[<tensorflow.python.keras.layers.core.Dense at 0x7f8f14890710>,\n",
              " <tensorflow.python.keras.layers.core.Dropout at 0x7f8f148908d0>,\n",
              " <tensorflow.python.keras.layers.core.Dense at 0x7f8f14890a58>,\n",
              " <tensorflow.python.keras.layers.core.Dropout at 0x7f8f14890e48>,\n",
              " <tensorflow.python.keras.layers.core.Dense at 0x7f8f14890f60>]"
            ]
          },
          "metadata": {
            "tags": []
          },
          "execution_count": 19
        }
      ]
    },
    {
      "cell_type": "code",
      "metadata": {
        "id": "UzxqohsEy__n",
        "colab_type": "code",
        "colab": {}
      },
      "source": [
        "dense_1 = model.get_layer(name='dense_1')"
      ],
      "execution_count": 20,
      "outputs": []
    },
    {
      "cell_type": "code",
      "metadata": {
        "id": "EcFaJMc4zJun",
        "colab_type": "code",
        "colab": {
          "base_uri": "https://localhost:8080/",
          "height": 34
        },
        "outputId": "cae0de4b-dc7d-4b78-8197-5f15c5f5a1d9"
      },
      "source": [
        "dense_1.output"
      ],
      "execution_count": 21,
      "outputs": [
        {
          "output_type": "execute_result",
          "data": {
            "text/plain": [
              "<tf.Tensor 'dense_1/Relu:0' shape=(None, 10) dtype=float32>"
            ]
          },
          "metadata": {
            "tags": []
          },
          "execution_count": 21
        }
      ]
    },
    {
      "cell_type": "code",
      "metadata": {
        "id": "zw68eVSKzcr2",
        "colab_type": "code",
        "colab": {
          "base_uri": "https://localhost:8080/",
          "height": 34
        },
        "outputId": "91a73235-35c9-414f-8a69-58b24366f339"
      },
      "source": [
        "dense_1.input"
      ],
      "execution_count": 22,
      "outputs": [
        {
          "output_type": "execute_result",
          "data": {
            "text/plain": [
              "<tf.Tensor 'input_1:0' shape=(None, 10) dtype=float32>"
            ]
          },
          "metadata": {
            "tags": []
          },
          "execution_count": 22
        }
      ]
    },
    {
      "cell_type": "code",
      "metadata": {
        "id": "WQ5o1Vyvz-2W",
        "colab_type": "code",
        "colab": {
          "base_uri": "https://localhost:8080/",
          "height": 319
        },
        "outputId": "94422369-f2d0-48eb-fb4c-12aa4d460d2d"
      },
      "source": [
        "model.summary()"
      ],
      "execution_count": 23,
      "outputs": [
        {
          "output_type": "stream",
          "text": [
            "Model: \"sequential\"\n",
            "_________________________________________________________________\n",
            "Layer (type)                 Output Shape              Param #   \n",
            "=================================================================\n",
            "dense_1 (Dense)              (None, 10)                110       \n",
            "_________________________________________________________________\n",
            "dropout_1 (Dropout)          (None, 10)                0         \n",
            "_________________________________________________________________\n",
            "dense_2 (Dense)              (None, 10)                110       \n",
            "_________________________________________________________________\n",
            "dropout_2 (Dropout)          (None, 10)                0         \n",
            "_________________________________________________________________\n",
            "output (Dense)               (None, 1)                 11        \n",
            "=================================================================\n",
            "Total params: 231\n",
            "Trainable params: 231\n",
            "Non-trainable params: 0\n",
            "_________________________________________________________________\n"
          ],
          "name": "stdout"
        }
      ]
    },
    {
      "cell_type": "code",
      "metadata": {
        "id": "zFrEOVlq0kU0",
        "colab_type": "code",
        "colab": {
          "base_uri": "https://localhost:8080/",
          "height": 644
        },
        "outputId": "ad18b79a-ff1a-4f8a-dbfa-e60cea15bc27"
      },
      "source": [
        "plot_model(model=model, show_shapes=True)"
      ],
      "execution_count": 24,
      "outputs": [
        {
          "output_type": "execute_result",
          "data": {
            "image/png": "[encoded data removed]",
            "text/plain": [
              "<IPython.core.display.Image object>"
            ]
          },
          "metadata": {
            "tags": []
          },
          "execution_count": 24
        }
      ]
    },
    {
      "cell_type": "markdown",
      "metadata": {
        "id": "p6PLZqpd2AM4",
        "colab_type": "text"
      },
      "source": [
        "## Funzionale\n",
        "\n"
      ]
    },
    {
      "cell_type": "code",
      "metadata": {
        "id": "ygwMqcdy3OAC",
        "colab_type": "code",
        "colab": {}
      },
      "source": [
        "input_1 = Input(shape=(10,))\n",
        "input_2 = Input(shape=(20,))\n",
        "\n",
        "# prima sottorete\n",
        "x = Dense(100, activation='relu')(input_1)\n",
        "x = Dense(100, activation='relu')(x)\n",
        "x = Dense(100, activation='relu')(x)\n",
        "# seconda sottorete\n",
        "y = Dense(100, activation='relu')(input_2)\n",
        "y = Dense(100, activation='relu')(y)\n",
        "y = Dense(100, activation='relu')(y)\n",
        "\n",
        "conc = concatenate([x, y])\n",
        "out = Dense(1)(conc)\n",
        "\n",
        "model = Model(inputs=[input_1, input_2], outputs=out)"
      ],
      "execution_count": 25,
      "outputs": []
    },
    {
      "cell_type": "code",
      "metadata": {
        "id": "d2EResbf4WwB",
        "colab_type": "code",
        "colab": {
          "base_uri": "https://localhost:8080/",
          "height": 504
        },
        "outputId": "67a26568-0a0e-4148-f6fe-716e29e8a5a9"
      },
      "source": [
        "model.summary()"
      ],
      "execution_count": 26,
      "outputs": [
        {
          "output_type": "stream",
          "text": [
            "Model: \"functional_1\"\n",
            "__________________________________________________________________________________________________\n",
            "Layer (type)                    Output Shape         Param #     Connected to                     \n",
            "==================================================================================================\n",
            "input_2 (InputLayer)            [(None, 10)]         0                                            \n",
            "__________________________________________________________________________________________________\n",
            "input_3 (InputLayer)            [(None, 20)]         0                                            \n",
            "__________________________________________________________________________________________________\n",
            "dense_2 (Dense)                 (None, 100)          1100        input_2[0][0]                    \n",
            "__________________________________________________________________________________________________\n",
            "dense_5 (Dense)                 (None, 100)          2100        input_3[0][0]                    \n",
            "__________________________________________________________________________________________________\n",
            "dense_3 (Dense)                 (None, 100)          10100       dense_2[0][0]                    \n",
            "__________________________________________________________________________________________________\n",
            "dense_6 (Dense)                 (None, 100)          10100       dense_5[0][0]                    \n",
            "__________________________________________________________________________________________________\n",
            "dense_4 (Dense)                 (None, 100)          10100       dense_3[0][0]                    \n",
            "__________________________________________________________________________________________________\n",
            "dense_7 (Dense)                 (None, 100)          10100       dense_6[0][0]                    \n",
            "__________________________________________________________________________________________________\n",
            "concatenate (Concatenate)       (None, 200)          0           dense_4[0][0]                    \n",
            "                                                                 dense_7[0][0]                    \n",
            "__________________________________________________________________________________________________\n",
            "dense_8 (Dense)                 (None, 1)            201         concatenate[0][0]                \n",
            "==================================================================================================\n",
            "Total params: 43,801\n",
            "Trainable params: 43,801\n",
            "Non-trainable params: 0\n",
            "__________________________________________________________________________________________________\n"
          ],
          "name": "stdout"
        }
      ]
    },
    {
      "cell_type": "code",
      "metadata": {
        "id": "LByDqcwu4yTr",
        "colab_type": "code",
        "colab": {
          "base_uri": "https://localhost:8080/",
          "height": 564
        },
        "outputId": "3826d37e-6b5b-482f-fd0f-285a4788b725"
      },
      "source": [
        "plot_model(model)"
      ],
      "execution_count": 27,
      "outputs": [
        {
          "output_type": "execute_result",
          "data": {
            "image/png": "[encoded data removed]",
            "text/plain": [
              "<IPython.core.display.Image object>"
            ]
          },
          "metadata": {
            "tags": []
          },
          "execution_count": 27
        }
      ]
    },
    {
      "cell_type": "markdown",
      "metadata": {
        "id": "xQ_bfwxa2faO",
        "colab_type": "text"
      },
      "source": [
        "## Subclassing"
      ]
    },
    {
      "cell_type": "code",
      "metadata": {
        "id": "9mj9UFqg5Zcb",
        "colab_type": "code",
        "colab": {}
      },
      "source": [
        "class RegressorMLP(Model):\n",
        "    def __init__(self, num_hidden_layers, activation, units_x_layer, dropout_rate):\n",
        "        super().__init__(name='RegressorMLP')\n",
        "        self.hidden_layers = []\n",
        "        self.dropouts = []\n",
        "        for i in range(num_hidden_layers):\n",
        "            self.hidden_layers.append(Dense(units=units_x_layer, activation=activation, name=f'dense_{i}'))\n",
        "            self.dropouts.append(Dropout(dropout_rate, name=f'dropout_{i}'))\n",
        "        self.last_layer = Dense(1, name=f'dense_{num_hidden_layers}')\n",
        "\n",
        "    def call(self, inputs, training=False):\n",
        "        x = inputs\n",
        "        for dense, dropout in zip(self.hidden_layers, self.dropouts):\n",
        "            print(dense.name, dropout.name)\n",
        "            x = dense(x)\n",
        "            x = dropout(x) if training else x\n",
        "\n",
        "        x = self.last_layer(x)\n",
        "        \n",
        "        return x"
      ],
      "execution_count": 28,
      "outputs": []
    },
    {
      "cell_type": "code",
      "metadata": {
        "id": "SDF8WCiroXoA",
        "colab_type": "code",
        "colab": {}
      },
      "source": [
        "model = RegressorMLP(num_hidden_layers=4, activation='relu', units_x_layer=50, dropout_rate=0.3)"
      ],
      "execution_count": 29,
      "outputs": []
    },
    {
      "cell_type": "code",
      "metadata": {
        "id": "9zPi_1iDosy-",
        "colab_type": "code",
        "colab": {
          "base_uri": "https://localhost:8080/",
          "height": 638
        },
        "outputId": "d8bf3a64-6945-4035-e774-d364550b1a09"
      },
      "source": [
        "model(np.random.rand(32, 10).astype(np.float32), training=True)"
      ],
      "execution_count": 30,
      "outputs": [
        {
          "output_type": "stream",
          "text": [
            "dense_0 dropout_0\n",
            "dense_1 dropout_1\n",
            "dense_2 dropout_2\n",
            "dense_3 dropout_3\n"
          ],
          "name": "stdout"
        },
        {
          "output_type": "execute_result",
          "data": {
            "text/plain": [
              "<tf.Tensor: shape=(32, 1), dtype=float32, numpy=\n",
              "array([[ 0.08775848],\n",
              "       [-0.04170182],\n",
              "       [ 0.02224907],\n",
              "       [ 0.05942954],\n",
              "       [ 0.00834256],\n",
              "       [-0.07456228],\n",
              "       [ 0.09417628],\n",
              "       [-0.01353358],\n",
              "       [ 0.12460512],\n",
              "       [-0.35054934],\n",
              "       [ 0.15235412],\n",
              "       [-0.05203337],\n",
              "       [ 0.05784845],\n",
              "       [ 0.23795557],\n",
              "       [ 0.15889338],\n",
              "       [-0.06378404],\n",
              "       [-0.00530481],\n",
              "       [ 0.08658307],\n",
              "       [-0.28640917],\n",
              "       [ 0.10324706],\n",
              "       [-0.01945248],\n",
              "       [ 0.03666259],\n",
              "       [ 0.11628626],\n",
              "       [-0.34382117],\n",
              "       [ 0.22817732],\n",
              "       [-0.08734155],\n",
              "       [-0.06185874],\n",
              "       [ 0.04023578],\n",
              "       [ 0.03517535],\n",
              "       [-0.1039864 ],\n",
              "       [ 0.13962099],\n",
              "       [ 0.4497452 ]], dtype=float32)>"
            ]
          },
          "metadata": {
            "tags": []
          },
          "execution_count": 30
        }
      ]
    },
    {
      "cell_type": "markdown",
      "metadata": {
        "id": "nQXBzgmD-zM9",
        "colab_type": "text"
      },
      "source": [
        "# Addestramento"
      ]
    },
    {
      "cell_type": "code",
      "metadata": {
        "id": "doUFHhGK-0iX",
        "colab_type": "code",
        "colab": {}
      },
      "source": [
        "# come si addestra un modello"
      ],
      "execution_count": 31,
      "outputs": []
    },
    {
      "cell_type": "code",
      "metadata": {
        "id": "_-qTFo-btZB_",
        "colab_type": "code",
        "colab": {}
      },
      "source": [
        "N = 100_000 # num of samples\n",
        "x = np.random.rand(N, 10)\n",
        "y = x @ np.array([1, 4, 2, 3, 5, 1, 6, 1, 1, 2]).reshape(-1, 1)\n",
        "\n",
        "x_train, x_test, y_train, y_test = train_test_split(x, y, test_size=0.2)"
      ],
      "execution_count": 32,
      "outputs": []
    },
    {
      "cell_type": "code",
      "metadata": {
        "id": "aolLtJXat3HP",
        "colab_type": "code",
        "colab": {}
      },
      "source": [
        "model = Sequential(\n",
        "    [\n",
        "     Input(10),\n",
        "     Dense(10, activation='relu', name='dense_1'),\n",
        "     Dropout(0.1, name='dropout_1'),\n",
        "     Dense(10, activation='relu', name='dense_2'),\n",
        "     Dropout(0.1, name='dropout_2'),\n",
        "     Dense(1, name='output')\n",
        "    ]\n",
        ")"
      ],
      "execution_count": 33,
      "outputs": []
    },
    {
      "cell_type": "code",
      "metadata": {
        "id": "dRaRnkExt-Vj",
        "colab_type": "code",
        "colab": {}
      },
      "source": [
        "model.compile(optimizer=Adam(learning_rate=1e-3), loss='mse', metrics=['mae'])"
      ],
      "execution_count": 34,
      "outputs": []
    },
    {
      "cell_type": "code",
      "metadata": {
        "id": "OHzrF6_4uaZh",
        "colab_type": "code",
        "colab": {
          "base_uri": "https://localhost:8080/",
          "height": 370
        },
        "outputId": "4d6b1341-7374-4626-96cc-4bb0ceccb477"
      },
      "source": [
        "model.fit(x_train, y_train, batch_size=32, epochs=10, validation_split=0.2)"
      ],
      "execution_count": 35,
      "outputs": [
        {
          "output_type": "stream",
          "text": [
            "Epoch 1/10\n",
            "2000/2000 [==============================] - 4s 2ms/step - loss: 16.1888 - mae: 2.7977 - val_loss: 0.5294 - val_mae: 0.5508\n",
            "Epoch 2/10\n",
            "2000/2000 [==============================] - 3s 2ms/step - loss: 5.2566 - mae: 1.7805 - val_loss: 0.2513 - val_mae: 0.3919\n",
            "Epoch 3/10\n",
            "2000/2000 [==============================] - 3s 1ms/step - loss: 3.8738 - mae: 1.5232 - val_loss: 0.2541 - val_mae: 0.4018\n",
            "Epoch 4/10\n",
            "2000/2000 [==============================] - 3s 1ms/step - loss: 2.7707 - mae: 1.2985 - val_loss: 0.1360 - val_mae: 0.2834\n",
            "Epoch 5/10\n",
            "2000/2000 [==============================] - 3s 1ms/step - loss: 2.1393 - mae: 1.1442 - val_loss: 0.0386 - val_mae: 0.1518\n",
            "Epoch 6/10\n",
            "2000/2000 [==============================] - 3s 1ms/step - loss: 1.7378 - mae: 1.0267 - val_loss: 0.0741 - val_mae: 0.2277\n",
            "Epoch 7/10\n",
            "2000/2000 [==============================] - 2s 1ms/step - loss: 1.3554 - mae: 0.9064 - val_loss: 0.0796 - val_mae: 0.2375\n",
            "Epoch 8/10\n",
            "2000/2000 [==============================] - 3s 1ms/step - loss: 1.1025 - mae: 0.8061 - val_loss: 0.0832 - val_mae: 0.2258\n",
            "Epoch 9/10\n",
            "2000/2000 [==============================] - 2s 1ms/step - loss: 0.8977 - mae: 0.7206 - val_loss: 0.1019 - val_mae: 0.2266\n",
            "Epoch 10/10\n",
            "2000/2000 [==============================] - 2s 1ms/step - loss: 0.7928 - mae: 0.6644 - val_loss: 0.1082 - val_mae: 0.1587\n"
          ],
          "name": "stdout"
        },
        {
          "output_type": "execute_result",
          "data": {
            "text/plain": [
              "<tensorflow.python.keras.callbacks.History at 0x7f8f0e63af28>"
            ]
          },
          "metadata": {
            "tags": []
          },
          "execution_count": 35
        }
      ]
    },
    {
      "cell_type": "code",
      "metadata": {
        "id": "x_dtgRhDwBpJ",
        "colab_type": "code",
        "colab": {
          "base_uri": "https://localhost:8080/",
          "height": 689
        },
        "outputId": "6e2eec9b-dc15-4e24-f3d7-4c93d6beb94c"
      },
      "source": [
        "model.history.history"
      ],
      "execution_count": 36,
      "outputs": [
        {
          "output_type": "execute_result",
          "data": {
            "text/plain": [
              "{'loss': [16.18880844116211,\n",
              "  5.256614685058594,\n",
              "  3.8738274574279785,\n",
              "  2.7706987857818604,\n",
              "  2.1393380165100098,\n",
              "  1.7378376722335815,\n",
              "  1.3554365634918213,\n",
              "  1.1025484800338745,\n",
              "  0.897737979888916,\n",
              "  0.7928013205528259],\n",
              " 'mae': [2.797677516937256,\n",
              "  1.7805283069610596,\n",
              "  1.52317476272583,\n",
              "  1.2985317707061768,\n",
              "  1.144230842590332,\n",
              "  1.026708960533142,\n",
              "  0.9063861966133118,\n",
              "  0.8060690760612488,\n",
              "  0.7206465601921082,\n",
              "  0.6644364595413208],\n",
              " 'val_loss': [0.5293583273887634,\n",
              "  0.251282274723053,\n",
              "  0.2540544867515564,\n",
              "  0.1360156536102295,\n",
              "  0.038572974503040314,\n",
              "  0.0741460993885994,\n",
              "  0.07962825149297714,\n",
              "  0.08322717994451523,\n",
              "  0.1018725037574768,\n",
              "  0.10823160409927368],\n",
              " 'val_mae': [0.5508471727371216,\n",
              "  0.39185309410095215,\n",
              "  0.40175536274909973,\n",
              "  0.28340309858322144,\n",
              "  0.15182942152023315,\n",
              "  0.22770635783672333,\n",
              "  0.23747952282428741,\n",
              "  0.22584086656570435,\n",
              "  0.2265765219926834,\n",
              "  0.1586785614490509]}"
            ]
          },
          "metadata": {
            "tags": []
          },
          "execution_count": 36
        }
      ]
    },
    {
      "cell_type": "code",
      "metadata": {
        "id": "TuGn9iBMwL1k",
        "colab_type": "code",
        "colab": {
          "base_uri": "https://localhost:8080/",
          "height": 34
        },
        "outputId": "9134782d-db42-4ccd-bbcb-c8bbc6a04d6e"
      },
      "source": [
        "model.metrics_names"
      ],
      "execution_count": 37,
      "outputs": [
        {
          "output_type": "execute_result",
          "data": {
            "text/plain": [
              "['loss', 'mae']"
            ]
          },
          "metadata": {
            "tags": []
          },
          "execution_count": 37
        }
      ]
    },
    {
      "cell_type": "code",
      "metadata": {
        "id": "gJclIUwWuiM4",
        "colab_type": "code",
        "colab": {
          "base_uri": "https://localhost:8080/",
          "height": 50
        },
        "outputId": "d7c103dc-6903-4bd5-d674-6a6492e4217d"
      },
      "source": [
        "loss, mae = model.evaluate(x_test, y_test)\n",
        "print(f'loss={loss}, mae={mae}')"
      ],
      "execution_count": 38,
      "outputs": [
        {
          "output_type": "stream",
          "text": [
            "625/625 [==============================] - 1s 813us/step - loss: 0.1096 - mae: 0.1580\n",
            "loss=0.10955458134412766, mae=0.1579667180776596\n"
          ],
          "name": "stdout"
        }
      ]
    },
    {
      "cell_type": "code",
      "metadata": {
        "id": "lPX4nijuwQQA",
        "colab_type": "code",
        "colab": {
          "base_uri": "https://localhost:8080/",
          "height": 34
        },
        "outputId": "0136d551-f393-487d-e4e8-64a132d6ef0b"
      },
      "source": [
        "y_hat = model.predict(x_test[:100])\n",
        "print(y_hat.shape)"
      ],
      "execution_count": 39,
      "outputs": [
        {
          "output_type": "stream",
          "text": [
            "(100, 1)\n"
          ],
          "name": "stdout"
        }
      ]
    },
    {
      "cell_type": "markdown",
      "metadata": {
        "id": "fkKLj3UjxCqc",
        "colab_type": "text"
      },
      "source": [
        "# Salvataggio di un modello"
      ]
    },
    {
      "cell_type": "code",
      "metadata": {
        "id": "BCMxcIGAxIQF",
        "colab_type": "code",
        "colab": {
          "base_uri": "https://localhost:8080/",
          "height": 154
        },
        "outputId": "fab99578-1732-4d8d-e794-174b2690b2b5"
      },
      "source": [
        "# salvataggio del modello (anche lo stato dell'optimizer)\n",
        "model.save('checkpoint')"
      ],
      "execution_count": 40,
      "outputs": [
        {
          "output_type": "stream",
          "text": [
            "WARNING:tensorflow:From /usr/local/lib/python3.6/dist-packages/tensorflow/python/training/tracking/tracking.py:111: Model.state_updates (from tensorflow.python.keras.engine.training) is deprecated and will be removed in a future version.\n",
            "Instructions for updating:\n",
            "This property should not be used in TensorFlow 2.0, as updates are applied automatically.\n",
            "WARNING:tensorflow:From /usr/local/lib/python3.6/dist-packages/tensorflow/python/training/tracking/tracking.py:111: Layer.updates (from tensorflow.python.keras.engine.base_layer) is deprecated and will be removed in a future version.\n",
            "Instructions for updating:\n",
            "This property should not be used in TensorFlow 2.0, as updates are applied automatically.\n",
            "INFO:tensorflow:Assets written to: checkpoint/assets\n"
          ],
          "name": "stdout"
        }
      ]
    },
    {
      "cell_type": "code",
      "metadata": {
        "id": "SN7xYClOHH_H",
        "colab_type": "code",
        "colab": {}
      },
      "source": [
        "model = keras.models.load_model('/content/checkpoint')"
      ],
      "execution_count": 45,
      "outputs": []
    },
    {
      "cell_type": "code",
      "metadata": {
        "id": "VJjA1Jg8Ho8w",
        "colab_type": "code",
        "colab": {}
      },
      "source": [
        "# salvataggio dei pesi\n",
        "model.save_weights('weights/w', save_format='tf')"
      ],
      "execution_count": 50,
      "outputs": []
    },
    {
      "cell_type": "code",
      "metadata": {
        "id": "rg3dGUvpJvhr",
        "colab_type": "code",
        "colab": {
          "base_uri": "https://localhost:8080/",
          "height": 34
        },
        "outputId": "94ce12e5-6e52-4581-9b8d-ed5663a07c08"
      },
      "source": [
        "model.load_weights('weights/w', by_name=False)"
      ],
      "execution_count": 52,
      "outputs": [
        {
          "output_type": "execute_result",
          "data": {
            "text/plain": [
              "<tensorflow.python.training.tracking.util.CheckpointLoadStatus at 0x7f8f08ae1fd0>"
            ]
          },
          "metadata": {
            "tags": []
          },
          "execution_count": 52
        }
      ]
    },
    {
      "cell_type": "markdown",
      "metadata": {
        "id": "UjmJ4kJlQ-8l",
        "colab_type": "text"
      },
      "source": [
        "# Callbacks"
      ]
    },
    {
      "cell_type": "code",
      "metadata": {
        "id": "TstXX6-hRAYx",
        "colab_type": "code",
        "colab": {}
      },
      "source": [
        "model = RegressorMLP(num_hidden_layers=4, activation='relu', units_x_layer=50, dropout_rate=0.3)"
      ],
      "execution_count": 53,
      "outputs": []
    },
    {
      "cell_type": "code",
      "metadata": {
        "id": "uq4mKZs3RZ9A",
        "colab_type": "code",
        "colab": {}
      },
      "source": [
        "model.compile(optimizer=Adam(learning_rate=1e-3), loss='mse', metrics=['mae'])"
      ],
      "execution_count": 64,
      "outputs": []
    },
    {
      "cell_type": "code",
      "metadata": {
        "id": "mHnnLJ68SUY9",
        "colab_type": "code",
        "colab": {}
      },
      "source": [
        "callbacks = [\n",
        "    CSVLogger('logger.csv'),\n",
        "    EarlyStopping(monitor='val_loss', patience=5, mode='min', restore_best_weights=True),\n",
        "    ModelCheckpoint('train/checkpoint')\n",
        "]"
      ],
      "execution_count": 65,
      "outputs": []
    },
    {
      "cell_type": "code",
      "metadata": {
        "id": "acfHhuGIRfG-",
        "colab_type": "code",
        "colab": {
          "base_uri": "https://localhost:8080/",
          "height": 1000
        },
        "outputId": "49bf6af1-555e-4201-cc6c-9eb30d570d8f"
      },
      "source": [
        "model.fit(x_train, y_train, batch_size=32, epochs=10, validation_split=0.2, callbacks=callbacks)"
      ],
      "execution_count": 63,
      "outputs": [
        {
          "output_type": "stream",
          "text": [
            "dense_3 dropout_3\n",
            "\b\b\b\b\b\b\b\b\b\b\b\b\b\b\b\b\b\b\b\b\b\b\b\b\b\b\b\b\b\b\b\b\b\b\b\b\b\b\b\b\b\b\b\b\b\b\b\b\b\b\b\b\b\b\b\b\b\b\b\b\b\b\b\b\b\b\b\b\b\b\b\b\b\b\b\b\b\b\b\b\b\b\r1159/2000 [================>.............] - ETA: 23s - loss: 1.1928 - mae: 0.8091dense_0 dropout_0\n",
            "dense_1 dropout_1\n",
            "dense_2 dropout_2\n",
            "dense_3 dropout_3\n",
            "dense_0 dropout_0\n",
            "dense_1 dropout_1\n",
            "dense_2 dropout_2\n",
            "dense_3 dropout_3\n",
            "1161/2000 [================>.............] - ETA: 23s - loss: 1.1932 - mae: 0.8092dense_0 dropout_0\n",
            "dense_1 dropout_1\n",
            "dense_2 dropout_2\n",
            "dense_3 dropout_3\n",
            "dense_0 dropout_0\n",
            "dense_1 dropout_1\n",
            "dense_2 dropout_2\n",
            "dense_3 dropout_3\n",
            "1163/2000 [================>.............] - ETA: 23s - loss: 1.1924 - mae: 0.8090dense_0 dropout_0\n",
            "dense_1 dropout_1\n",
            "dense_2 dropout_2\n",
            "dense_3 dropout_3\n",
            "dense_0 dropout_0\n",
            "dense_1 dropout_1\n",
            "dense_2 dropout_2\n",
            "dense_3 dropout_3\n",
            "dense_0 dropout_0\n",
            "dense_1 dropout_1\n",
            "dense_2 dropout_2\n",
            "dense_3 dropout_3\n",
            "1166/2000 [================>.............] - ETA: 23s - loss: 1.1917 - mae: 0.8087dense_0 dropout_0\n",
            "dense_1 dropout_1\n",
            "dense_2 dropout_2\n",
            "dense_3 dropout_3\n",
            "dense_0 dropout_0\n",
            "dense_1 dropout_1\n",
            "dense_2 dropout_2\n",
            "dense_3 dropout_3\n",
            "1168/2000 [================>.............] - ETA: 23s - loss: 1.1915 - mae: 0.8086dense_0 dropout_0\n",
            "dense_1 dropout_1\n",
            "dense_2 dropout_2\n",
            "dense_3 dropout_3\n",
            "dense_0 dropout_0\n",
            "dense_1 dropout_1\n",
            "dense_2 dropout_2\n",
            "dense_3 dropout_3\n",
            "1170/2000 [================>.............] - ETA: 23s - loss: 1.1916 - mae: 0.8087dense_0 dropout_0\n",
            "dense_1 dropout_1\n",
            "dense_2 dropout_2\n",
            "dense_3 dropout_3\n",
            "dense_0 dropout_0\n",
            "dense_1 dropout_1\n",
            "dense_2 dropout_2\n",
            "dense_3 dropout_3\n",
            "1172/2000 [================>.............] - ETA: 23s - loss: 1.1919 - mae: 0.8088dense_0 dropout_0\n",
            "dense_1 dropout_1\n",
            "dense_2 dropout_2\n",
            "dense_3 dropout_3\n",
            "dense_0 dropout_0\n",
            "dense_1 dropout_1\n",
            "dense_2 dropout_2\n",
            "dense_3 dropout_3\n",
            "1174/2000 [================>.............] - ETA: 23s - loss: 1.1917 - mae: 0.8087dense_0 dropout_0\n",
            "dense_1 dropout_1\n",
            "dense_2 dropout_2\n",
            "dense_3 dropout_3\n",
            "dense_0 dropout_0\n",
            "dense_1 dropout_1\n",
            "dense_2 dropout_2\n",
            "dense_3 dropout_3\n",
            "1176/2000 [================>.............] - ETA: 23s - loss: 1.1914 - mae: 0.8086dense_0 dropout_0\n",
            "dense_1 dropout_1\n",
            "dense_2 dropout_2\n",
            "dense_3 dropout_3\n",
            "dense_0 dropout_0\n",
            "dense_1 dropout_1\n",
            "dense_2 dropout_2\n",
            "dense_3 dropout_3\n",
            "1178/2000 [================>.............] - ETA: 23s - loss: 1.1915 - mae: 0.8087dense_0 dropout_0\n",
            "dense_1 dropout_1\n",
            "dense_2 dropout_2\n",
            "dense_3 dropout_3\n",
            "dense_0 dropout_0\n",
            "dense_1 dropout_1\n",
            "dense_2 dropout_2\n",
            "dense_3 dropout_3\n",
            "1180/2000 [================>.............] - ETA: 23s - loss: 1.1917 - mae: 0.8088dense_0 dropout_0\n",
            "dense_1 dropout_1\n",
            "dense_2 dropout_2\n",
            "dense_3 dropout_3\n",
            "dense_0 dropout_0\n",
            "dense_1 dropout_1\n",
            "dense_2 dropout_2\n",
            "dense_3 dropout_3\n",
            "1182/2000 [================>.............] - ETA: 23s - loss: 1.1911 - mae: 0.8086dense_0 dropout_0\n",
            "dense_1 dropout_1\n",
            "dense_2 dropout_2\n",
            "dense_3 dropout_3\n",
            "dense_0 dropout_0\n",
            "dense_1 dropout_1\n",
            "dense_2 dropout_2\n",
            "dense_3 dropout_3\n",
            "1184/2000 [================>.............] - ETA: 23s - loss: 1.1909 - mae: 0.8087dense_0 dropout_0\n",
            "dense_1 dropout_1\n",
            "dense_2 dropout_2\n",
            "dense_3 dropout_3\n",
            "dense_0 dropout_0\n",
            "dense_1 dropout_1\n",
            "dense_2 dropout_2\n",
            "dense_3 dropout_3\n",
            "1186/2000 [================>.............] - ETA: 23s - loss: 1.1902 - mae: 0.8085dense_0 dropout_0\n",
            "dense_1 dropout_1\n",
            "dense_2 dropout_2\n",
            "dense_3 dropout_3\n",
            "dense_0 dropout_0\n",
            "dense_1 dropout_1\n",
            "dense_2 dropout_2\n",
            "dense_3 dropout_3\n",
            "1188/2000 [================>.............] - ETA: 23s - loss: 1.1902 - mae: 0.8085dense_0 dropout_0\n",
            "dense_1 dropout_1\n",
            "dense_2 dropout_2\n",
            "dense_3 dropout_3\n",
            "dense_0 dropout_0\n",
            "dense_1 dropout_1\n",
            "dense_2 dropout_2\n",
            "dense_3 dropout_3\n",
            "1190/2000 [================>.............] - ETA: 22s - loss: 1.1899 - mae: 0.8083dense_0 dropout_0\n",
            "dense_1 dropout_1\n",
            "dense_2 dropout_2\n",
            "dense_3 dropout_3\n",
            "dense_0 dropout_0\n",
            "dense_1 dropout_1\n",
            "dense_2 dropout_2\n",
            "dense_3 dropout_3\n",
            "1192/2000 [================>.............] - ETA: 22s - loss: 1.1900 - mae: 0.8083dense_0 dropout_0\n",
            "dense_1 dropout_1\n",
            "dense_2 dropout_2\n",
            "dense_3 dropout_3\n",
            "dense_0 dropout_0\n",
            "dense_1 dropout_1\n",
            "dense_2 dropout_2\n",
            "dense_3 dropout_3\n",
            "1194/2000 [================>.............] - ETA: 22s - loss: 1.1902 - mae: 0.8084dense_0 dropout_0\n",
            "dense_1 dropout_1\n",
            "dense_2 dropout_2\n",
            "dense_3 dropout_3\n",
            "dense_0 dropout_0\n",
            "dense_1 dropout_1\n",
            "dense_2 dropout_2\n",
            "dense_3 dropout_3\n",
            "1196/2000 [================>.............] - ETA: 22s - loss: 1.1895 - mae: 0.8082dense_0 dropout_0\n",
            "dense_1 dropout_1\n",
            "dense_2 dropout_2\n",
            "dense_3 dropout_3\n",
            "dense_0 dropout_0\n",
            "dense_1 dropout_1\n",
            "dense_2 dropout_2\n",
            "dense_3 dropout_3\n",
            "1198/2000 [================>.............] - ETA: 22s - loss: 1.1887 - mae: 0.8080dense_0 dropout_0\n",
            "dense_1 dropout_1\n",
            "dense_2 dropout_2\n",
            "dense_3 dropout_3\n",
            "dense_0 dropout_0\n",
            "dense_1 dropout_1\n",
            "dense_2 dropout_2\n",
            "dense_3 dropout_3\n",
            "1200/2000 [=================>............] - ETA: 22s - loss: 1.1886 - mae: 0.8077dense_0 dropout_0\n",
            "dense_1 dropout_1\n",
            "dense_2 dropout_2\n",
            "dense_3 dropout_3\n",
            "dense_0 dropout_0\n",
            "dense_1 dropout_1\n",
            "dense_2 dropout_2\n",
            "dense_3 dropout_3\n",
            "1202/2000 [=================>............] - ETA: 22s - loss: 1.1888 - mae: 0.8077dense_0 dropout_0\n",
            "dense_1 dropout_1\n",
            "dense_2 dropout_2\n",
            "dense_3 dropout_3\n",
            "dense_0 dropout_0\n",
            "dense_1 dropout_1\n",
            "dense_2 dropout_2\n",
            "dense_3 dropout_3\n",
            "1204/2000 [=================>............] - ETA: 22s - loss: 1.1890 - mae: 0.8078dense_0 dropout_0\n",
            "dense_1 dropout_1\n",
            "dense_2 dropout_2\n",
            "dense_3 dropout_3\n",
            "dense_0 dropout_0\n",
            "dense_1 dropout_1\n",
            "dense_2 dropout_2\n",
            "dense_3 dropout_3\n",
            "1206/2000 [=================>............] - ETA: 22s - loss: 1.1896 - mae: 0.8079dense_0 dropout_0\n",
            "dense_1 dropout_1\n",
            "dense_2 dropout_2\n",
            "dense_3 dropout_3\n",
            "dense_0 dropout_0\n",
            "dense_1 dropout_1\n",
            "dense_2 dropout_2\n",
            "dense_3 dropout_3\n",
            "1208/2000 [=================>............] - ETA: 22s - loss: 1.1895 - mae: 0.8079dense_0 dropout_0\n",
            "dense_1 dropout_1\n",
            "dense_2 dropout_2\n",
            "dense_3 dropout_3\n",
            "dense_0 dropout_0\n",
            "dense_1 dropout_1\n",
            "dense_2 dropout_2\n",
            "dense_3 dropout_3\n",
            "1210/2000 [=================>............] - ETA: 22s - loss: 1.1900 - mae: 0.8081dense_0 dropout_0\n",
            "dense_1 dropout_1\n",
            "dense_2 dropout_2\n",
            "dense_3 dropout_3\n",
            "dense_0 dropout_0\n",
            "dense_1 dropout_1\n",
            "dense_2 dropout_2\n",
            "dense_3 dropout_3\n",
            "1212/2000 [=================>............] - ETA: 22s - loss: 1.1901 - mae: 0.8082dense_0 dropout_0\n",
            "dense_1 dropout_1\n",
            "dense_2 dropout_2\n",
            "dense_3 dropout_3\n",
            "dense_0 dropout_0\n",
            "dense_1 dropout_1\n",
            "dense_2 dropout_2\n",
            "dense_3 dropout_3\n",
            "1214/2000 [=================>............] - ETA: 22s - loss: 1.1908 - mae: 0.8082dense_0 dropout_0\n",
            "dense_1 dropout_1\n",
            "dense_2 dropout_2\n",
            "dense_3 dropout_3\n",
            "dense_0 dropout_0\n",
            "dense_1 dropout_1\n",
            "dense_2 dropout_2\n",
            "dense_3 dropout_3\n",
            "1216/2000 [=================>............] - ETA: 22s - loss: 1.1905 - mae: 0.8079dense_0 dropout_0\n",
            "dense_1 dropout_1\n",
            "dense_2 dropout_2\n",
            "dense_3 dropout_3\n",
            "dense_0 dropout_0\n",
            "dense_1 dropout_1\n",
            "dense_2 dropout_2\n",
            "dense_3 dropout_3\n",
            "dense_0 dropout_0\n",
            "dense_1 dropout_1\n",
            "dense_2 dropout_2\n",
            "dense_3 dropout_3\n",
            "1219/2000 [=================>............] - ETA: 22s - loss: 1.1914 - mae: 0.8081dense_0 dropout_0\n",
            "dense_1 dropout_1\n",
            "dense_2 dropout_2\n",
            "dense_3 dropout_3\n",
            "dense_0 dropout_0\n",
            "dense_1 dropout_1\n",
            "dense_2 dropout_2\n",
            "dense_3 dropout_3\n",
            "1221/2000 [=================>............] - ETA: 22s - loss: 1.1914 - mae: 0.8081dense_0 dropout_0\n",
            "dense_1 dropout_1\n",
            "dense_2 dropout_2\n",
            "dense_3 dropout_3\n",
            "dense_0 dropout_0\n",
            "dense_1 dropout_1\n",
            "dense_2 dropout_2\n",
            "dense_3 dropout_3\n",
            "dense_0 dropout_0\n",
            "dense_1 dropout_1\n",
            "dense_2 dropout_2\n",
            "dense_3 dropout_3\n",
            "1224/2000 [=================>............] - ETA: 21s - loss: 1.1908 - mae: 0.8080dense_0 dropout_0\n",
            "dense_1 dropout_1\n",
            "dense_2 dropout_2\n",
            "dense_3 dropout_3\n",
            "dense_0 dropout_0\n",
            "dense_1 dropout_1\n",
            "dense_2 dropout_2\n",
            "dense_3 dropout_3\n",
            "dense_0 dropout_0\n",
            "dense_1 dropout_1\n",
            "dense_2 dropout_2\n",
            "dense_3 dropout_3\n",
            "1227/2000 [=================>............] - ETA: 21s - loss: 1.1906 - mae: 0.8079dense_0 dropout_0\n",
            "dense_1 dropout_1\n",
            "dense_2 dropout_2\n",
            "dense_3 dropout_3\n",
            "dense_0 dropout_0\n",
            "dense_1 dropout_1\n",
            "dense_2 dropout_2\n",
            "dense_3 dropout_3\n",
            "1229/2000 [=================>............] - ETA: 21s - loss: 1.1903 - mae: 0.8079dense_0 dropout_0\n",
            "dense_1 dropout_1\n",
            "dense_2 dropout_2\n",
            "dense_3 dropout_3\n",
            "dense_0 dropout_0\n",
            "dense_1 dropout_1\n",
            "dense_2 dropout_2\n",
            "dense_3 dropout_3\n",
            "1231/2000 [=================>............] - ETA: 21s - loss: 1.1892 - mae: 0.8075dense_0 dropout_0\n",
            "dense_1 dropout_1\n",
            "dense_2 dropout_2\n",
            "dense_3 dropout_3\n",
            "dense_0 dropout_0\n",
            "dense_1 dropout_1\n",
            "dense_2 dropout_2\n",
            "dense_3 dropout_3\n",
            "1233/2000 [=================>............] - ETA: 21s - loss: 1.1896 - mae: 0.8077dense_0 dropout_0\n",
            "dense_1 dropout_1\n",
            "dense_2 dropout_2\n",
            "dense_3 dropout_3\n",
            "dense_0 dropout_0\n",
            "dense_1 dropout_1\n",
            "dense_2 dropout_2\n",
            "dense_3 dropout_3\n",
            "1235/2000 [=================>............] - ETA: 21s - loss: 1.1896 - mae: 0.8077dense_0 dropout_0\n",
            "dense_1 dropout_1\n",
            "dense_2 dropout_2\n",
            "dense_3 dropout_3\n",
            "dense_0 dropout_0\n",
            "dense_1 dropout_1\n",
            "dense_2 dropout_2\n",
            "dense_3 dropout_3\n",
            "1237/2000 [=================>............] - ETA: 21s - loss: 1.1897 - mae: 0.8077dense_0 dropout_0\n",
            "dense_1 dropout_1\n",
            "dense_2 dropout_2\n",
            "dense_3 dropout_3\n",
            "dense_0 dropout_0\n",
            "dense_1 dropout_1\n",
            "dense_2 dropout_2\n",
            "dense_3 dropout_3\n",
            "1239/2000 [=================>............] - ETA: 21s - loss: 1.1901 - mae: 0.8078dense_0 dropout_0\n",
            "dense_1 dropout_1\n",
            "dense_2 dropout_2\n",
            "dense_3 dropout_3\n",
            "dense_0 dropout_0\n",
            "dense_1 dropout_1\n",
            "dense_2 dropout_2\n",
            "dense_3 dropout_3\n",
            "1241/2000 [=================>............] - ETA: 21s - loss: 1.1897 - mae: 0.8077dense_0 dropout_0\n",
            "dense_1 dropout_1\n",
            "dense_2 dropout_2\n",
            "dense_3 dropout_3\n",
            "dense_0 dropout_0\n",
            "dense_1 dropout_1\n",
            "dense_2 dropout_2\n",
            "dense_3 dropout_3\n",
            "1243/2000 [=================>............] - ETA: 21s - loss: 1.1904 - mae: 0.8079dense_0 dropout_0\n",
            "dense_1 dropout_1\n",
            "dense_2 dropout_2\n",
            "dense_3 dropout_3\n",
            "dense_0 dropout_0\n",
            "dense_1 dropout_1\n",
            "dense_2 dropout_2\n",
            "dense_3 dropout_3\n",
            "1245/2000 [=================>............] - ETA: 21s - loss: 1.1904 - mae: 0.8079dense_0 dropout_0\n",
            "dense_1 dropout_1\n",
            "dense_2 dropout_2\n",
            "dense_3 dropout_3\n",
            "dense_0 dropout_0\n",
            "dense_1 dropout_1\n",
            "dense_2 dropout_2\n",
            "dense_3 dropout_3\n",
            "1247/2000 [=================>............] - ETA: 21s - loss: 1.1908 - mae: 0.8080dense_0 dropout_0\n",
            "dense_1 dropout_1\n",
            "dense_2 dropout_2\n",
            "dense_3 dropout_3\n",
            "dense_0 dropout_0\n",
            "dense_1 dropout_1\n",
            "dense_2 dropout_2\n",
            "dense_3 dropout_3\n",
            "1249/2000 [=================>............] - ETA: 21s - loss: 1.1911 - mae: 0.8081dense_0 dropout_0\n",
            "dense_1 dropout_1\n",
            "dense_2 dropout_2\n",
            "dense_3 dropout_3\n",
            "dense_0 dropout_0\n",
            "dense_1 dropout_1\n",
            "dense_2 dropout_2\n",
            "dense_3 dropout_3\n",
            "1251/2000 [=================>............] - ETA: 21s - loss: 1.1921 - mae: 0.8082dense_0 dropout_0\n",
            "dense_1 dropout_1\n",
            "dense_2 dropout_2\n",
            "dense_3 dropout_3\n",
            "dense_0 dropout_0\n",
            "dense_1 dropout_1\n",
            "dense_2 dropout_2\n",
            "dense_3 dropout_3\n",
            "1253/2000 [=================>............] - ETA: 21s - loss: 1.1922 - mae: 0.8083dense_0 dropout_0\n",
            "dense_1 dropout_1\n",
            "dense_2 dropout_2\n",
            "dense_3 dropout_3\n",
            "dense_0 dropout_0\n",
            "dense_1 dropout_1\n",
            "dense_2 dropout_2\n",
            "dense_3 dropout_3\n",
            "1255/2000 [=================>............] - ETA: 21s - loss: 1.1916 - mae: 0.8081dense_0 dropout_0\n",
            "dense_1 dropout_1\n",
            "dense_2 dropout_2\n",
            "dense_3 dropout_3\n",
            "dense_0 dropout_0\n",
            "dense_1 dropout_1\n",
            "dense_2 dropout_2\n",
            "dense_3 dropout_3\n",
            "1257/2000 [=================>............] - ETA: 21s - loss: 1.1915 - mae: 0.8081dense_0 dropout_0\n",
            "dense_1 dropout_1\n",
            "dense_2 dropout_2\n",
            "dense_3 dropout_3\n",
            "dense_0 dropout_0\n",
            "dense_1 dropout_1\n",
            "dense_2 dropout_2\n",
            "dense_3 dropout_3\n",
            "1259/2000 [=================>............] - ETA: 21s - loss: 1.1917 - mae: 0.8082dense_0 dropout_0\n",
            "dense_1 dropout_1\n",
            "dense_2 dropout_2\n",
            "dense_3 dropout_3\n",
            "dense_0 dropout_0\n",
            "dense_1 dropout_1\n",
            "dense_2 dropout_2\n",
            "dense_3 dropout_3\n",
            "1261/2000 [=================>............] - ETA: 20s - loss: 1.1923 - mae: 0.8083dense_0 dropout_0\n",
            "dense_1 dropout_1\n",
            "dense_2 dropout_2\n",
            "dense_3 dropout_3\n",
            "dense_0 dropout_0\n",
            "dense_1 dropout_1\n",
            "dense_2 dropout_2\n",
            "dense_3 dropout_3\n",
            "1263/2000 [=================>............] - ETA: 20s - loss: 1.1923 - mae: 0.8083dense_0 dropout_0\n",
            "dense_1 dropout_1\n",
            "dense_2 dropout_2\n",
            "dense_3 dropout_3\n",
            "dense_0 dropout_0\n",
            "dense_1 dropout_1\n",
            "dense_2 dropout_2\n",
            "dense_3 dropout_3\n",
            "dense_0 dropout_0\n",
            "dense_1 dropout_1\n",
            "dense_2 dropout_2\n",
            "dense_3 dropout_3\n",
            "1266/2000 [=================>............] - ETA: 20s - loss: 1.1922 - mae: 0.8083dense_0 dropout_0\n",
            "dense_1 dropout_1\n",
            "dense_2 dropout_2\n",
            "dense_3 dropout_3\n",
            "dense_0 dropout_0\n",
            "dense_1 dropout_1\n",
            "dense_2 dropout_2\n",
            "dense_3 dropout_3\n",
            "1268/2000 [==================>...........] - ETA: 20s - loss: 1.1932 - mae: 0.8085dense_0 dropout_0\n",
            "dense_1 dropout_1\n",
            "dense_2 dropout_2\n",
            "dense_3 dropout_3\n",
            "dense_0 dropout_0\n",
            "dense_1 dropout_1\n",
            "dense_2 dropout_2\n",
            "dense_3 dropout_3\n",
            "1270/2000 [==================>...........] - ETA: 20s - loss: 1.1923 - mae: 0.8082dense_0 dropout_0\n",
            "dense_1 dropout_1\n",
            "dense_2 dropout_2\n",
            "dense_3 dropout_3\n",
            "dense_0 dropout_0\n",
            "dense_1 dropout_1\n",
            "dense_2 dropout_2\n",
            "dense_3 dropout_3\n",
            "1272/2000 [==================>...........] - ETA: 20s - loss: 1.1913 - mae: 0.8079dense_0 dropout_0\n",
            "dense_1 dropout_1\n",
            "dense_2 dropout_2\n",
            "dense_3 dropout_3\n",
            "dense_0 dropout_0\n",
            "dense_1 dropout_1\n",
            "dense_2 dropout_2\n",
            "dense_3 dropout_3\n",
            "1274/2000 [==================>...........] - ETA: 20s - loss: 1.1909 - mae: 0.8078dense_0 dropout_0\n",
            "dense_1 dropout_1\n",
            "dense_2 dropout_2\n",
            "dense_3 dropout_3\n",
            "dense_0 dropout_0\n",
            "dense_1 dropout_1\n",
            "dense_2 dropout_2\n",
            "dense_3 dropout_3\n",
            "1276/2000 [==================>...........] - ETA: 20s - loss: 1.1915 - mae: 0.8079dense_0 dropout_0\n",
            "dense_1 dropout_1\n",
            "dense_2 dropout_2\n",
            "dense_3 dropout_3\n",
            "dense_0 dropout_0\n",
            "dense_1 dropout_1\n",
            "dense_2 dropout_2\n",
            "dense_3 dropout_3\n",
            "1278/2000 [==================>...........] - ETA: 20s - loss: 1.1920 - mae: 0.8080dense_0 dropout_0\n",
            "dense_1 dropout_1\n",
            "dense_2 dropout_2\n",
            "dense_3 dropout_3\n",
            "dense_0 dropout_0\n",
            "dense_1 dropout_1\n",
            "dense_2 dropout_2\n",
            "dense_3 dropout_3\n",
            "1280/2000 [==================>...........] - ETA: 20s - loss: 1.1914 - mae: 0.8078dense_0 dropout_0\n",
            "dense_1 dropout_1\n",
            "dense_2 dropout_2\n",
            "dense_3 dropout_3\n"
          ],
          "name": "stdout"
        },
        {
          "output_type": "error",
          "ename": "KeyboardInterrupt",
          "evalue": "ignored",
          "traceback": [
            "\u001b[0;31m---------------------------------------------------------------------------\u001b[0m",
            "\u001b[0;31mKeyboardInterrupt\u001b[0m                         Traceback (most recent call last)",
            "\u001b[0;32m<ipython-input-63-91b340b22d48>\u001b[0m in \u001b[0;36m<module>\u001b[0;34m()\u001b[0m\n\u001b[0;32m----> 1\u001b[0;31m \u001b[0mmodel\u001b[0m\u001b[0;34m.\u001b[0m\u001b[0mfit\u001b[0m\u001b[0;34m(\u001b[0m\u001b[0mx_train\u001b[0m\u001b[0;34m,\u001b[0m \u001b[0my_train\u001b[0m\u001b[0;34m,\u001b[0m \u001b[0mbatch_size\u001b[0m\u001b[0;34m=\u001b[0m\u001b[0;36m32\u001b[0m\u001b[0;34m,\u001b[0m \u001b[0mepochs\u001b[0m\u001b[0;34m=\u001b[0m\u001b[0;36m10\u001b[0m\u001b[0;34m,\u001b[0m \u001b[0mvalidation_split\u001b[0m\u001b[0;34m=\u001b[0m\u001b[0;36m0.2\u001b[0m\u001b[0;34m,\u001b[0m \u001b[0mcallbacks\u001b[0m\u001b[0;34m=\u001b[0m\u001b[0mcallbacks\u001b[0m\u001b[0;34m)\u001b[0m\u001b[0;34m\u001b[0m\u001b[0;34m\u001b[0m\u001b[0m\n\u001b[0m",
            "\u001b[0;32m/usr/local/lib/python3.6/dist-packages/tensorflow/python/keras/engine/training.py\u001b[0m in \u001b[0;36m_method_wrapper\u001b[0;34m(self, *args, **kwargs)\u001b[0m\n\u001b[1;32m    106\u001b[0m   \u001b[0;32mdef\u001b[0m \u001b[0m_method_wrapper\u001b[0m\u001b[0;34m(\u001b[0m\u001b[0mself\u001b[0m\u001b[0;34m,\u001b[0m \u001b[0;34m*\u001b[0m\u001b[0margs\u001b[0m\u001b[0;34m,\u001b[0m \u001b[0;34m**\u001b[0m\u001b[0mkwargs\u001b[0m\u001b[0;34m)\u001b[0m\u001b[0;34m:\u001b[0m\u001b[0;34m\u001b[0m\u001b[0;34m\u001b[0m\u001b[0m\n\u001b[1;32m    107\u001b[0m     \u001b[0;32mif\u001b[0m \u001b[0;32mnot\u001b[0m \u001b[0mself\u001b[0m\u001b[0;34m.\u001b[0m\u001b[0m_in_multi_worker_mode\u001b[0m\u001b[0;34m(\u001b[0m\u001b[0;34m)\u001b[0m\u001b[0;34m:\u001b[0m  \u001b[0;31m# pylint: disable=protected-access\u001b[0m\u001b[0;34m\u001b[0m\u001b[0;34m\u001b[0m\u001b[0m\n\u001b[0;32m--> 108\u001b[0;31m       \u001b[0;32mreturn\u001b[0m \u001b[0mmethod\u001b[0m\u001b[0;34m(\u001b[0m\u001b[0mself\u001b[0m\u001b[0;34m,\u001b[0m \u001b[0;34m*\u001b[0m\u001b[0margs\u001b[0m\u001b[0;34m,\u001b[0m \u001b[0;34m**\u001b[0m\u001b[0mkwargs\u001b[0m\u001b[0;34m)\u001b[0m\u001b[0;34m\u001b[0m\u001b[0;34m\u001b[0m\u001b[0m\n\u001b[0m\u001b[1;32m    109\u001b[0m \u001b[0;34m\u001b[0m\u001b[0m\n\u001b[1;32m    110\u001b[0m     \u001b[0;31m# Running inside `run_distribute_coordinator` already.\u001b[0m\u001b[0;34m\u001b[0m\u001b[0;34m\u001b[0m\u001b[0;34m\u001b[0m\u001b[0m\n",
            "\u001b[0;32m/usr/local/lib/python3.6/dist-packages/tensorflow/python/keras/engine/training.py\u001b[0m in \u001b[0;36mfit\u001b[0;34m(self, x, y, batch_size, epochs, verbose, callbacks, validation_split, validation_data, shuffle, class_weight, sample_weight, initial_epoch, steps_per_epoch, validation_steps, validation_batch_size, validation_freq, max_queue_size, workers, use_multiprocessing)\u001b[0m\n\u001b[1;32m   1096\u001b[0m                 batch_size=batch_size):\n\u001b[1;32m   1097\u001b[0m               \u001b[0mcallbacks\u001b[0m\u001b[0;34m.\u001b[0m\u001b[0mon_train_batch_begin\u001b[0m\u001b[0;34m(\u001b[0m\u001b[0mstep\u001b[0m\u001b[0;34m)\u001b[0m\u001b[0;34m\u001b[0m\u001b[0;34m\u001b[0m\u001b[0m\n\u001b[0;32m-> 1098\u001b[0;31m               \u001b[0mtmp_logs\u001b[0m \u001b[0;34m=\u001b[0m \u001b[0mtrain_function\u001b[0m\u001b[0;34m(\u001b[0m\u001b[0miterator\u001b[0m\u001b[0;34m)\u001b[0m\u001b[0;34m\u001b[0m\u001b[0;34m\u001b[0m\u001b[0m\n\u001b[0m\u001b[1;32m   1099\u001b[0m               \u001b[0;32mif\u001b[0m \u001b[0mdata_handler\u001b[0m\u001b[0;34m.\u001b[0m\u001b[0mshould_sync\u001b[0m\u001b[0;34m:\u001b[0m\u001b[0;34m\u001b[0m\u001b[0;34m\u001b[0m\u001b[0m\n\u001b[1;32m   1100\u001b[0m                 \u001b[0mcontext\u001b[0m\u001b[0;34m.\u001b[0m\u001b[0masync_wait\u001b[0m\u001b[0;34m(\u001b[0m\u001b[0;34m)\u001b[0m\u001b[0;34m\u001b[0m\u001b[0;34m\u001b[0m\u001b[0m\n",
            "\u001b[0;32m/usr/local/lib/python3.6/dist-packages/tensorflow/python/keras/engine/training.py\u001b[0m in \u001b[0;36mtrain_function\u001b[0;34m(iterator)\u001b[0m\n\u001b[1;32m    804\u001b[0m       \u001b[0;32mdef\u001b[0m \u001b[0mtrain_function\u001b[0m\u001b[0;34m(\u001b[0m\u001b[0miterator\u001b[0m\u001b[0;34m)\u001b[0m\u001b[0;34m:\u001b[0m\u001b[0;34m\u001b[0m\u001b[0;34m\u001b[0m\u001b[0m\n\u001b[1;32m    805\u001b[0m         \u001b[0;34m\"\"\"Runs a training execution with one step.\"\"\"\u001b[0m\u001b[0;34m\u001b[0m\u001b[0;34m\u001b[0m\u001b[0m\n\u001b[0;32m--> 806\u001b[0;31m         \u001b[0;32mreturn\u001b[0m \u001b[0mstep_function\u001b[0m\u001b[0;34m(\u001b[0m\u001b[0mself\u001b[0m\u001b[0;34m,\u001b[0m \u001b[0miterator\u001b[0m\u001b[0;34m)\u001b[0m\u001b[0;34m\u001b[0m\u001b[0;34m\u001b[0m\u001b[0m\n\u001b[0m\u001b[1;32m    807\u001b[0m \u001b[0;34m\u001b[0m\u001b[0m\n\u001b[1;32m    808\u001b[0m     \u001b[0;32melse\u001b[0m\u001b[0;34m:\u001b[0m\u001b[0;34m\u001b[0m\u001b[0;34m\u001b[0m\u001b[0m\n",
            "\u001b[0;32m/usr/local/lib/python3.6/dist-packages/tensorflow/python/keras/engine/training.py\u001b[0m in \u001b[0;36mstep_function\u001b[0;34m(model, iterator)\u001b[0m\n\u001b[1;32m    794\u001b[0m \u001b[0;34m\u001b[0m\u001b[0m\n\u001b[1;32m    795\u001b[0m       \u001b[0mdata\u001b[0m \u001b[0;34m=\u001b[0m \u001b[0mnext\u001b[0m\u001b[0;34m(\u001b[0m\u001b[0miterator\u001b[0m\u001b[0;34m)\u001b[0m\u001b[0;34m\u001b[0m\u001b[0;34m\u001b[0m\u001b[0m\n\u001b[0;32m--> 796\u001b[0;31m       \u001b[0moutputs\u001b[0m \u001b[0;34m=\u001b[0m \u001b[0mmodel\u001b[0m\u001b[0;34m.\u001b[0m\u001b[0mdistribute_strategy\u001b[0m\u001b[0;34m.\u001b[0m\u001b[0mrun\u001b[0m\u001b[0;34m(\u001b[0m\u001b[0mrun_step\u001b[0m\u001b[0;34m,\u001b[0m \u001b[0margs\u001b[0m\u001b[0;34m=\u001b[0m\u001b[0;34m(\u001b[0m\u001b[0mdata\u001b[0m\u001b[0;34m,\u001b[0m\u001b[0;34m)\u001b[0m\u001b[0;34m)\u001b[0m\u001b[0;34m\u001b[0m\u001b[0;34m\u001b[0m\u001b[0m\n\u001b[0m\u001b[1;32m    797\u001b[0m       outputs = reduce_per_replica(\n\u001b[1;32m    798\u001b[0m           outputs, self.distribute_strategy, reduction='first')\n",
            "\u001b[0;32m/usr/local/lib/python3.6/dist-packages/tensorflow/python/distribute/distribute_lib.py\u001b[0m in \u001b[0;36mrun\u001b[0;34m(***failed resolving arguments***)\u001b[0m\n\u001b[1;32m   1209\u001b[0m       fn = autograph.tf_convert(\n\u001b[1;32m   1210\u001b[0m           fn, autograph_ctx.control_status_ctx(), convert_by_default=False)\n\u001b[0;32m-> 1211\u001b[0;31m       \u001b[0;32mreturn\u001b[0m \u001b[0mself\u001b[0m\u001b[0;34m.\u001b[0m\u001b[0m_extended\u001b[0m\u001b[0;34m.\u001b[0m\u001b[0mcall_for_each_replica\u001b[0m\u001b[0;34m(\u001b[0m\u001b[0mfn\u001b[0m\u001b[0;34m,\u001b[0m \u001b[0margs\u001b[0m\u001b[0;34m=\u001b[0m\u001b[0margs\u001b[0m\u001b[0;34m,\u001b[0m \u001b[0mkwargs\u001b[0m\u001b[0;34m=\u001b[0m\u001b[0mkwargs\u001b[0m\u001b[0;34m)\u001b[0m\u001b[0;34m\u001b[0m\u001b[0;34m\u001b[0m\u001b[0m\n\u001b[0m\u001b[1;32m   1212\u001b[0m \u001b[0;34m\u001b[0m\u001b[0m\n\u001b[1;32m   1213\u001b[0m   \u001b[0;31m# TODO(b/151224785): Remove deprecated alias.\u001b[0m\u001b[0;34m\u001b[0m\u001b[0;34m\u001b[0m\u001b[0;34m\u001b[0m\u001b[0m\n",
            "\u001b[0;32m/usr/local/lib/python3.6/dist-packages/tensorflow/python/distribute/distribute_lib.py\u001b[0m in \u001b[0;36mcall_for_each_replica\u001b[0;34m(self, fn, args, kwargs)\u001b[0m\n\u001b[1;32m   2583\u001b[0m       \u001b[0mkwargs\u001b[0m \u001b[0;34m=\u001b[0m \u001b[0;34m{\u001b[0m\u001b[0;34m}\u001b[0m\u001b[0;34m\u001b[0m\u001b[0;34m\u001b[0m\u001b[0m\n\u001b[1;32m   2584\u001b[0m     \u001b[0;32mwith\u001b[0m \u001b[0mself\u001b[0m\u001b[0;34m.\u001b[0m\u001b[0m_container_strategy\u001b[0m\u001b[0;34m(\u001b[0m\u001b[0;34m)\u001b[0m\u001b[0;34m.\u001b[0m\u001b[0mscope\u001b[0m\u001b[0;34m(\u001b[0m\u001b[0;34m)\u001b[0m\u001b[0;34m:\u001b[0m\u001b[0;34m\u001b[0m\u001b[0;34m\u001b[0m\u001b[0m\n\u001b[0;32m-> 2585\u001b[0;31m       \u001b[0;32mreturn\u001b[0m \u001b[0mself\u001b[0m\u001b[0;34m.\u001b[0m\u001b[0m_call_for_each_replica\u001b[0m\u001b[0;34m(\u001b[0m\u001b[0mfn\u001b[0m\u001b[0;34m,\u001b[0m \u001b[0margs\u001b[0m\u001b[0;34m,\u001b[0m \u001b[0mkwargs\u001b[0m\u001b[0;34m)\u001b[0m\u001b[0;34m\u001b[0m\u001b[0;34m\u001b[0m\u001b[0m\n\u001b[0m\u001b[1;32m   2586\u001b[0m \u001b[0;34m\u001b[0m\u001b[0m\n\u001b[1;32m   2587\u001b[0m   \u001b[0;32mdef\u001b[0m \u001b[0m_call_for_each_replica\u001b[0m\u001b[0;34m(\u001b[0m\u001b[0mself\u001b[0m\u001b[0;34m,\u001b[0m \u001b[0mfn\u001b[0m\u001b[0;34m,\u001b[0m \u001b[0margs\u001b[0m\u001b[0;34m,\u001b[0m \u001b[0mkwargs\u001b[0m\u001b[0;34m)\u001b[0m\u001b[0;34m:\u001b[0m\u001b[0;34m\u001b[0m\u001b[0;34m\u001b[0m\u001b[0m\n",
            "\u001b[0;32m/usr/local/lib/python3.6/dist-packages/tensorflow/python/distribute/distribute_lib.py\u001b[0m in \u001b[0;36m_call_for_each_replica\u001b[0;34m(self, fn, args, kwargs)\u001b[0m\n\u001b[1;32m   2943\u001b[0m         \u001b[0mself\u001b[0m\u001b[0;34m.\u001b[0m\u001b[0m_container_strategy\u001b[0m\u001b[0;34m(\u001b[0m\u001b[0;34m)\u001b[0m\u001b[0;34m,\u001b[0m\u001b[0;34m\u001b[0m\u001b[0;34m\u001b[0m\u001b[0m\n\u001b[1;32m   2944\u001b[0m         replica_id_in_sync_group=constant_op.constant(0, dtypes.int32)):\n\u001b[0;32m-> 2945\u001b[0;31m       \u001b[0;32mreturn\u001b[0m \u001b[0mfn\u001b[0m\u001b[0;34m(\u001b[0m\u001b[0;34m*\u001b[0m\u001b[0margs\u001b[0m\u001b[0;34m,\u001b[0m \u001b[0;34m**\u001b[0m\u001b[0mkwargs\u001b[0m\u001b[0;34m)\u001b[0m\u001b[0;34m\u001b[0m\u001b[0;34m\u001b[0m\u001b[0m\n\u001b[0m\u001b[1;32m   2946\u001b[0m \u001b[0;34m\u001b[0m\u001b[0m\n\u001b[1;32m   2947\u001b[0m   \u001b[0;32mdef\u001b[0m \u001b[0m_reduce_to\u001b[0m\u001b[0;34m(\u001b[0m\u001b[0mself\u001b[0m\u001b[0;34m,\u001b[0m \u001b[0mreduce_op\u001b[0m\u001b[0;34m,\u001b[0m \u001b[0mvalue\u001b[0m\u001b[0;34m,\u001b[0m \u001b[0mdestinations\u001b[0m\u001b[0;34m,\u001b[0m \u001b[0mexperimental_hints\u001b[0m\u001b[0;34m)\u001b[0m\u001b[0;34m:\u001b[0m\u001b[0;34m\u001b[0m\u001b[0;34m\u001b[0m\u001b[0m\n",
            "\u001b[0;32m/usr/local/lib/python3.6/dist-packages/tensorflow/python/autograph/impl/api.py\u001b[0m in \u001b[0;36mwrapper\u001b[0;34m(*args, **kwargs)\u001b[0m\n\u001b[1;32m    273\u001b[0m   \u001b[0;32mdef\u001b[0m \u001b[0mwrapper\u001b[0m\u001b[0;34m(\u001b[0m\u001b[0;34m*\u001b[0m\u001b[0margs\u001b[0m\u001b[0;34m,\u001b[0m \u001b[0;34m**\u001b[0m\u001b[0mkwargs\u001b[0m\u001b[0;34m)\u001b[0m\u001b[0;34m:\u001b[0m\u001b[0;34m\u001b[0m\u001b[0;34m\u001b[0m\u001b[0m\n\u001b[1;32m    274\u001b[0m     \u001b[0;32mwith\u001b[0m \u001b[0mag_ctx\u001b[0m\u001b[0;34m.\u001b[0m\u001b[0mControlStatusCtx\u001b[0m\u001b[0;34m(\u001b[0m\u001b[0mstatus\u001b[0m\u001b[0;34m=\u001b[0m\u001b[0mag_ctx\u001b[0m\u001b[0;34m.\u001b[0m\u001b[0mStatus\u001b[0m\u001b[0;34m.\u001b[0m\u001b[0mUNSPECIFIED\u001b[0m\u001b[0;34m)\u001b[0m\u001b[0;34m:\u001b[0m\u001b[0;34m\u001b[0m\u001b[0;34m\u001b[0m\u001b[0m\n\u001b[0;32m--> 275\u001b[0;31m       \u001b[0;32mreturn\u001b[0m \u001b[0mfunc\u001b[0m\u001b[0;34m(\u001b[0m\u001b[0;34m*\u001b[0m\u001b[0margs\u001b[0m\u001b[0;34m,\u001b[0m \u001b[0;34m**\u001b[0m\u001b[0mkwargs\u001b[0m\u001b[0;34m)\u001b[0m\u001b[0;34m\u001b[0m\u001b[0;34m\u001b[0m\u001b[0m\n\u001b[0m\u001b[1;32m    276\u001b[0m \u001b[0;34m\u001b[0m\u001b[0m\n\u001b[1;32m    277\u001b[0m   \u001b[0;32mif\u001b[0m \u001b[0minspect\u001b[0m\u001b[0;34m.\u001b[0m\u001b[0misfunction\u001b[0m\u001b[0;34m(\u001b[0m\u001b[0mfunc\u001b[0m\u001b[0;34m)\u001b[0m \u001b[0;32mor\u001b[0m \u001b[0minspect\u001b[0m\u001b[0;34m.\u001b[0m\u001b[0mismethod\u001b[0m\u001b[0;34m(\u001b[0m\u001b[0mfunc\u001b[0m\u001b[0;34m)\u001b[0m\u001b[0;34m:\u001b[0m\u001b[0;34m\u001b[0m\u001b[0;34m\u001b[0m\u001b[0m\n",
            "\u001b[0;32m/usr/local/lib/python3.6/dist-packages/tensorflow/python/keras/engine/training.py\u001b[0m in \u001b[0;36mrun_step\u001b[0;34m(data)\u001b[0m\n\u001b[1;32m    787\u001b[0m \u001b[0;34m\u001b[0m\u001b[0m\n\u001b[1;32m    788\u001b[0m       \u001b[0;32mdef\u001b[0m \u001b[0mrun_step\u001b[0m\u001b[0;34m(\u001b[0m\u001b[0mdata\u001b[0m\u001b[0;34m)\u001b[0m\u001b[0;34m:\u001b[0m\u001b[0;34m\u001b[0m\u001b[0;34m\u001b[0m\u001b[0m\n\u001b[0;32m--> 789\u001b[0;31m         \u001b[0moutputs\u001b[0m \u001b[0;34m=\u001b[0m \u001b[0mmodel\u001b[0m\u001b[0;34m.\u001b[0m\u001b[0mtrain_step\u001b[0m\u001b[0;34m(\u001b[0m\u001b[0mdata\u001b[0m\u001b[0;34m)\u001b[0m\u001b[0;34m\u001b[0m\u001b[0;34m\u001b[0m\u001b[0m\n\u001b[0m\u001b[1;32m    790\u001b[0m         \u001b[0;31m# Ensure counter is updated only if `train_step` succeeds.\u001b[0m\u001b[0;34m\u001b[0m\u001b[0;34m\u001b[0m\u001b[0;34m\u001b[0m\u001b[0m\n\u001b[1;32m    791\u001b[0m         \u001b[0;32mwith\u001b[0m \u001b[0mops\u001b[0m\u001b[0;34m.\u001b[0m\u001b[0mcontrol_dependencies\u001b[0m\u001b[0;34m(\u001b[0m\u001b[0m_minimum_control_deps\u001b[0m\u001b[0;34m(\u001b[0m\u001b[0moutputs\u001b[0m\u001b[0;34m)\u001b[0m\u001b[0;34m)\u001b[0m\u001b[0;34m:\u001b[0m\u001b[0;34m\u001b[0m\u001b[0;34m\u001b[0m\u001b[0m\n",
            "\u001b[0;32m/usr/local/lib/python3.6/dist-packages/tensorflow/python/keras/engine/training.py\u001b[0m in \u001b[0;36mtrain_step\u001b[0;34m(self, data)\u001b[0m\n\u001b[1;32m    755\u001b[0m     \u001b[0;31m# such as loss scaling and gradient clipping.\u001b[0m\u001b[0;34m\u001b[0m\u001b[0;34m\u001b[0m\u001b[0;34m\u001b[0m\u001b[0m\n\u001b[1;32m    756\u001b[0m     _minimize(self.distribute_strategy, tape, self.optimizer, loss,\n\u001b[0;32m--> 757\u001b[0;31m               self.trainable_variables)\n\u001b[0m\u001b[1;32m    758\u001b[0m \u001b[0;34m\u001b[0m\u001b[0m\n\u001b[1;32m    759\u001b[0m     \u001b[0mself\u001b[0m\u001b[0;34m.\u001b[0m\u001b[0mcompiled_metrics\u001b[0m\u001b[0;34m.\u001b[0m\u001b[0mupdate_state\u001b[0m\u001b[0;34m(\u001b[0m\u001b[0my\u001b[0m\u001b[0;34m,\u001b[0m \u001b[0my_pred\u001b[0m\u001b[0;34m,\u001b[0m \u001b[0msample_weight\u001b[0m\u001b[0;34m)\u001b[0m\u001b[0;34m\u001b[0m\u001b[0;34m\u001b[0m\u001b[0m\n",
            "\u001b[0;32m/usr/local/lib/python3.6/dist-packages/tensorflow/python/keras/engine/training.py\u001b[0m in \u001b[0;36m_minimize\u001b[0;34m(strategy, tape, optimizer, loss, trainable_variables)\u001b[0m\n\u001b[1;32m   2743\u001b[0m       optimizer.apply_gradients(\n\u001b[1;32m   2744\u001b[0m           \u001b[0mzip\u001b[0m\u001b[0;34m(\u001b[0m\u001b[0mgradients\u001b[0m\u001b[0;34m,\u001b[0m \u001b[0mtrainable_variables\u001b[0m\u001b[0;34m)\u001b[0m\u001b[0;34m,\u001b[0m\u001b[0;34m\u001b[0m\u001b[0;34m\u001b[0m\u001b[0m\n\u001b[0;32m-> 2745\u001b[0;31m           experimental_aggregate_gradients=False)\n\u001b[0m\u001b[1;32m   2746\u001b[0m     \u001b[0;32melse\u001b[0m\u001b[0;34m:\u001b[0m\u001b[0;34m\u001b[0m\u001b[0;34m\u001b[0m\u001b[0m\n\u001b[1;32m   2747\u001b[0m       \u001b[0moptimizer\u001b[0m\u001b[0;34m.\u001b[0m\u001b[0mapply_gradients\u001b[0m\u001b[0;34m(\u001b[0m\u001b[0mzip\u001b[0m\u001b[0;34m(\u001b[0m\u001b[0mgradients\u001b[0m\u001b[0;34m,\u001b[0m \u001b[0mtrainable_variables\u001b[0m\u001b[0;34m)\u001b[0m\u001b[0;34m)\u001b[0m\u001b[0;34m\u001b[0m\u001b[0;34m\u001b[0m\u001b[0m\n",
            "\u001b[0;32m/usr/local/lib/python3.6/dist-packages/tensorflow/python/keras/optimizer_v2/optimizer_v2.py\u001b[0m in \u001b[0;36mapply_gradients\u001b[0;34m(self, grads_and_vars, name, experimental_aggregate_gradients)\u001b[0m\n\u001b[1;32m    547\u001b[0m           \u001b[0margs\u001b[0m\u001b[0;34m=\u001b[0m\u001b[0;34m(\u001b[0m\u001b[0mgrads_and_vars\u001b[0m\u001b[0;34m,\u001b[0m\u001b[0;34m)\u001b[0m\u001b[0;34m,\u001b[0m\u001b[0;34m\u001b[0m\u001b[0;34m\u001b[0m\u001b[0m\n\u001b[1;32m    548\u001b[0m           kwargs={\n\u001b[0;32m--> 549\u001b[0;31m               \u001b[0;34m\"name\"\u001b[0m\u001b[0;34m:\u001b[0m \u001b[0mname\u001b[0m\u001b[0;34m,\u001b[0m\u001b[0;34m\u001b[0m\u001b[0;34m\u001b[0m\u001b[0m\n\u001b[0m\u001b[1;32m    550\u001b[0m           })\n\u001b[1;32m    551\u001b[0m \u001b[0;34m\u001b[0m\u001b[0m\n",
            "\u001b[0;32m/usr/local/lib/python3.6/dist-packages/tensorflow/python/distribute/distribute_lib.py\u001b[0m in \u001b[0;36mmerge_call\u001b[0;34m(self, merge_fn, args, kwargs)\u001b[0m\n\u001b[1;32m   2713\u001b[0m     merge_fn = autograph.tf_convert(\n\u001b[1;32m   2714\u001b[0m         merge_fn, autograph_ctx.control_status_ctx(), convert_by_default=False)\n\u001b[0;32m-> 2715\u001b[0;31m     \u001b[0;32mreturn\u001b[0m \u001b[0mself\u001b[0m\u001b[0;34m.\u001b[0m\u001b[0m_merge_call\u001b[0m\u001b[0;34m(\u001b[0m\u001b[0mmerge_fn\u001b[0m\u001b[0;34m,\u001b[0m \u001b[0margs\u001b[0m\u001b[0;34m,\u001b[0m \u001b[0mkwargs\u001b[0m\u001b[0;34m)\u001b[0m\u001b[0;34m\u001b[0m\u001b[0;34m\u001b[0m\u001b[0m\n\u001b[0m\u001b[1;32m   2716\u001b[0m \u001b[0;34m\u001b[0m\u001b[0m\n\u001b[1;32m   2717\u001b[0m   \u001b[0;32mdef\u001b[0m \u001b[0m_merge_call\u001b[0m\u001b[0;34m(\u001b[0m\u001b[0mself\u001b[0m\u001b[0;34m,\u001b[0m \u001b[0mmerge_fn\u001b[0m\u001b[0;34m,\u001b[0m \u001b[0margs\u001b[0m\u001b[0;34m,\u001b[0m \u001b[0mkwargs\u001b[0m\u001b[0;34m)\u001b[0m\u001b[0;34m:\u001b[0m\u001b[0;34m\u001b[0m\u001b[0;34m\u001b[0m\u001b[0m\n",
            "\u001b[0;32m/usr/local/lib/python3.6/dist-packages/tensorflow/python/distribute/distribute_lib.py\u001b[0m in \u001b[0;36m_merge_call\u001b[0;34m(self, merge_fn, args, kwargs)\u001b[0m\n\u001b[1;32m   2720\u001b[0m         distribution_strategy_context._CrossReplicaThreadMode(self._strategy))  # pylint: disable=protected-access\n\u001b[1;32m   2721\u001b[0m     \u001b[0;32mtry\u001b[0m\u001b[0;34m:\u001b[0m\u001b[0;34m\u001b[0m\u001b[0;34m\u001b[0m\u001b[0m\n\u001b[0;32m-> 2722\u001b[0;31m       \u001b[0;32mreturn\u001b[0m \u001b[0mmerge_fn\u001b[0m\u001b[0;34m(\u001b[0m\u001b[0mself\u001b[0m\u001b[0;34m.\u001b[0m\u001b[0m_strategy\u001b[0m\u001b[0;34m,\u001b[0m \u001b[0;34m*\u001b[0m\u001b[0margs\u001b[0m\u001b[0;34m,\u001b[0m \u001b[0;34m**\u001b[0m\u001b[0mkwargs\u001b[0m\u001b[0;34m)\u001b[0m\u001b[0;34m\u001b[0m\u001b[0;34m\u001b[0m\u001b[0m\n\u001b[0m\u001b[1;32m   2723\u001b[0m     \u001b[0;32mfinally\u001b[0m\u001b[0;34m:\u001b[0m\u001b[0;34m\u001b[0m\u001b[0;34m\u001b[0m\u001b[0m\n\u001b[1;32m   2724\u001b[0m       \u001b[0m_pop_per_thread_mode\u001b[0m\u001b[0;34m(\u001b[0m\u001b[0;34m)\u001b[0m\u001b[0;34m\u001b[0m\u001b[0;34m\u001b[0m\u001b[0m\n",
            "\u001b[0;32m/usr/local/lib/python3.6/dist-packages/tensorflow/python/autograph/impl/api.py\u001b[0m in \u001b[0;36mwrapper\u001b[0;34m(*args, **kwargs)\u001b[0m\n\u001b[1;32m    273\u001b[0m   \u001b[0;32mdef\u001b[0m \u001b[0mwrapper\u001b[0m\u001b[0;34m(\u001b[0m\u001b[0;34m*\u001b[0m\u001b[0margs\u001b[0m\u001b[0;34m,\u001b[0m \u001b[0;34m**\u001b[0m\u001b[0mkwargs\u001b[0m\u001b[0;34m)\u001b[0m\u001b[0;34m:\u001b[0m\u001b[0;34m\u001b[0m\u001b[0;34m\u001b[0m\u001b[0m\n\u001b[1;32m    274\u001b[0m     \u001b[0;32mwith\u001b[0m \u001b[0mag_ctx\u001b[0m\u001b[0;34m.\u001b[0m\u001b[0mControlStatusCtx\u001b[0m\u001b[0;34m(\u001b[0m\u001b[0mstatus\u001b[0m\u001b[0;34m=\u001b[0m\u001b[0mag_ctx\u001b[0m\u001b[0;34m.\u001b[0m\u001b[0mStatus\u001b[0m\u001b[0;34m.\u001b[0m\u001b[0mUNSPECIFIED\u001b[0m\u001b[0;34m)\u001b[0m\u001b[0;34m:\u001b[0m\u001b[0;34m\u001b[0m\u001b[0;34m\u001b[0m\u001b[0m\n\u001b[0;32m--> 275\u001b[0;31m       \u001b[0;32mreturn\u001b[0m \u001b[0mfunc\u001b[0m\u001b[0;34m(\u001b[0m\u001b[0;34m*\u001b[0m\u001b[0margs\u001b[0m\u001b[0;34m,\u001b[0m \u001b[0;34m**\u001b[0m\u001b[0mkwargs\u001b[0m\u001b[0;34m)\u001b[0m\u001b[0;34m\u001b[0m\u001b[0;34m\u001b[0m\u001b[0m\n\u001b[0m\u001b[1;32m    276\u001b[0m \u001b[0;34m\u001b[0m\u001b[0m\n\u001b[1;32m    277\u001b[0m   \u001b[0;32mif\u001b[0m \u001b[0minspect\u001b[0m\u001b[0;34m.\u001b[0m\u001b[0misfunction\u001b[0m\u001b[0;34m(\u001b[0m\u001b[0mfunc\u001b[0m\u001b[0;34m)\u001b[0m \u001b[0;32mor\u001b[0m \u001b[0minspect\u001b[0m\u001b[0;34m.\u001b[0m\u001b[0mismethod\u001b[0m\u001b[0;34m(\u001b[0m\u001b[0mfunc\u001b[0m\u001b[0;34m)\u001b[0m\u001b[0;34m:\u001b[0m\u001b[0;34m\u001b[0m\u001b[0;34m\u001b[0m\u001b[0m\n",
            "\u001b[0;32m/usr/local/lib/python3.6/dist-packages/tensorflow/python/keras/optimizer_v2/optimizer_v2.py\u001b[0m in \u001b[0;36m_distributed_apply\u001b[0;34m(self, distribution, grads_and_vars, name, apply_state)\u001b[0m\n\u001b[1;32m    631\u001b[0m                               \"update_\" + var.op.name, skip_on_eager=True):\n\u001b[1;32m    632\u001b[0m             update_ops.extend(distribution.extended.update(\n\u001b[0;32m--> 633\u001b[0;31m                 var, apply_grad_to_update_var, args=(grad,), group=False))\n\u001b[0m\u001b[1;32m    634\u001b[0m \u001b[0;34m\u001b[0m\u001b[0m\n\u001b[1;32m    635\u001b[0m       any_symbolic = any(isinstance(i, ops.Operation) or\n",
            "\u001b[0;32m/usr/local/lib/python3.6/dist-packages/tensorflow/python/distribute/distribute_lib.py\u001b[0m in \u001b[0;36mupdate\u001b[0;34m(self, var, fn, args, kwargs, group)\u001b[0m\n\u001b[1;32m   2298\u001b[0m         fn, autograph_ctx.control_status_ctx(), convert_by_default=False)\n\u001b[1;32m   2299\u001b[0m     \u001b[0;32mwith\u001b[0m \u001b[0mself\u001b[0m\u001b[0;34m.\u001b[0m\u001b[0m_container_strategy\u001b[0m\u001b[0;34m(\u001b[0m\u001b[0;34m)\u001b[0m\u001b[0;34m.\u001b[0m\u001b[0mscope\u001b[0m\u001b[0;34m(\u001b[0m\u001b[0;34m)\u001b[0m\u001b[0;34m:\u001b[0m\u001b[0;34m\u001b[0m\u001b[0;34m\u001b[0m\u001b[0m\n\u001b[0;32m-> 2300\u001b[0;31m       \u001b[0;32mreturn\u001b[0m \u001b[0mself\u001b[0m\u001b[0;34m.\u001b[0m\u001b[0m_update\u001b[0m\u001b[0;34m(\u001b[0m\u001b[0mvar\u001b[0m\u001b[0;34m,\u001b[0m \u001b[0mfn\u001b[0m\u001b[0;34m,\u001b[0m \u001b[0margs\u001b[0m\u001b[0;34m,\u001b[0m \u001b[0mkwargs\u001b[0m\u001b[0;34m,\u001b[0m \u001b[0mgroup\u001b[0m\u001b[0;34m)\u001b[0m\u001b[0;34m\u001b[0m\u001b[0;34m\u001b[0m\u001b[0m\n\u001b[0m\u001b[1;32m   2301\u001b[0m \u001b[0;34m\u001b[0m\u001b[0m\n\u001b[1;32m   2302\u001b[0m   \u001b[0;32mdef\u001b[0m \u001b[0m_update\u001b[0m\u001b[0;34m(\u001b[0m\u001b[0mself\u001b[0m\u001b[0;34m,\u001b[0m \u001b[0mvar\u001b[0m\u001b[0;34m,\u001b[0m \u001b[0mfn\u001b[0m\u001b[0;34m,\u001b[0m \u001b[0margs\u001b[0m\u001b[0;34m,\u001b[0m \u001b[0mkwargs\u001b[0m\u001b[0;34m,\u001b[0m \u001b[0mgroup\u001b[0m\u001b[0;34m)\u001b[0m\u001b[0;34m:\u001b[0m\u001b[0;34m\u001b[0m\u001b[0;34m\u001b[0m\u001b[0m\n",
            "\u001b[0;32m/usr/local/lib/python3.6/dist-packages/tensorflow/python/distribute/distribute_lib.py\u001b[0m in \u001b[0;36m_update\u001b[0;34m(self, var, fn, args, kwargs, group)\u001b[0m\n\u001b[1;32m   2953\u001b[0m     \u001b[0;31m# The implementations of _update() and _update_non_slot() are identical\u001b[0m\u001b[0;34m\u001b[0m\u001b[0;34m\u001b[0m\u001b[0;34m\u001b[0m\u001b[0m\n\u001b[1;32m   2954\u001b[0m     \u001b[0;31m# except _update() passes `var` as the first argument to `fn()`.\u001b[0m\u001b[0;34m\u001b[0m\u001b[0;34m\u001b[0m\u001b[0;34m\u001b[0m\u001b[0m\n\u001b[0;32m-> 2955\u001b[0;31m     \u001b[0;32mreturn\u001b[0m \u001b[0mself\u001b[0m\u001b[0;34m.\u001b[0m\u001b[0m_update_non_slot\u001b[0m\u001b[0;34m(\u001b[0m\u001b[0mvar\u001b[0m\u001b[0;34m,\u001b[0m \u001b[0mfn\u001b[0m\u001b[0;34m,\u001b[0m \u001b[0;34m(\u001b[0m\u001b[0mvar\u001b[0m\u001b[0;34m,\u001b[0m\u001b[0;34m)\u001b[0m \u001b[0;34m+\u001b[0m \u001b[0mtuple\u001b[0m\u001b[0;34m(\u001b[0m\u001b[0margs\u001b[0m\u001b[0;34m)\u001b[0m\u001b[0;34m,\u001b[0m \u001b[0mkwargs\u001b[0m\u001b[0;34m,\u001b[0m \u001b[0mgroup\u001b[0m\u001b[0;34m)\u001b[0m\u001b[0;34m\u001b[0m\u001b[0;34m\u001b[0m\u001b[0m\n\u001b[0m\u001b[1;32m   2956\u001b[0m \u001b[0;34m\u001b[0m\u001b[0m\n\u001b[1;32m   2957\u001b[0m   \u001b[0;32mdef\u001b[0m \u001b[0m_update_non_slot\u001b[0m\u001b[0;34m(\u001b[0m\u001b[0mself\u001b[0m\u001b[0;34m,\u001b[0m \u001b[0mcolocate_with\u001b[0m\u001b[0;34m,\u001b[0m \u001b[0mfn\u001b[0m\u001b[0;34m,\u001b[0m \u001b[0margs\u001b[0m\u001b[0;34m,\u001b[0m \u001b[0mkwargs\u001b[0m\u001b[0;34m,\u001b[0m \u001b[0mshould_group\u001b[0m\u001b[0;34m)\u001b[0m\u001b[0;34m:\u001b[0m\u001b[0;34m\u001b[0m\u001b[0;34m\u001b[0m\u001b[0m\n",
            "\u001b[0;32m/usr/local/lib/python3.6/dist-packages/tensorflow/python/distribute/distribute_lib.py\u001b[0m in \u001b[0;36m_update_non_slot\u001b[0;34m(self, colocate_with, fn, args, kwargs, should_group)\u001b[0m\n\u001b[1;32m   2959\u001b[0m     \u001b[0;31m# once that value is used for something.\u001b[0m\u001b[0;34m\u001b[0m\u001b[0;34m\u001b[0m\u001b[0;34m\u001b[0m\u001b[0m\n\u001b[1;32m   2960\u001b[0m     \u001b[0;32mwith\u001b[0m \u001b[0mUpdateContext\u001b[0m\u001b[0;34m(\u001b[0m\u001b[0mcolocate_with\u001b[0m\u001b[0;34m)\u001b[0m\u001b[0;34m:\u001b[0m\u001b[0;34m\u001b[0m\u001b[0;34m\u001b[0m\u001b[0m\n\u001b[0;32m-> 2961\u001b[0;31m       \u001b[0mresult\u001b[0m \u001b[0;34m=\u001b[0m \u001b[0mfn\u001b[0m\u001b[0;34m(\u001b[0m\u001b[0;34m*\u001b[0m\u001b[0margs\u001b[0m\u001b[0;34m,\u001b[0m \u001b[0;34m**\u001b[0m\u001b[0mkwargs\u001b[0m\u001b[0;34m)\u001b[0m\u001b[0;34m\u001b[0m\u001b[0;34m\u001b[0m\u001b[0m\n\u001b[0m\u001b[1;32m   2962\u001b[0m       \u001b[0;32mif\u001b[0m \u001b[0mshould_group\u001b[0m\u001b[0;34m:\u001b[0m\u001b[0;34m\u001b[0m\u001b[0;34m\u001b[0m\u001b[0m\n\u001b[1;32m   2963\u001b[0m         \u001b[0;32mreturn\u001b[0m \u001b[0mresult\u001b[0m\u001b[0;34m\u001b[0m\u001b[0;34m\u001b[0m\u001b[0m\n",
            "\u001b[0;32m/usr/local/lib/python3.6/dist-packages/tensorflow/python/autograph/impl/api.py\u001b[0m in \u001b[0;36mwrapper\u001b[0;34m(*args, **kwargs)\u001b[0m\n\u001b[1;32m    273\u001b[0m   \u001b[0;32mdef\u001b[0m \u001b[0mwrapper\u001b[0m\u001b[0;34m(\u001b[0m\u001b[0;34m*\u001b[0m\u001b[0margs\u001b[0m\u001b[0;34m,\u001b[0m \u001b[0;34m**\u001b[0m\u001b[0mkwargs\u001b[0m\u001b[0;34m)\u001b[0m\u001b[0;34m:\u001b[0m\u001b[0;34m\u001b[0m\u001b[0;34m\u001b[0m\u001b[0m\n\u001b[1;32m    274\u001b[0m     \u001b[0;32mwith\u001b[0m \u001b[0mag_ctx\u001b[0m\u001b[0;34m.\u001b[0m\u001b[0mControlStatusCtx\u001b[0m\u001b[0;34m(\u001b[0m\u001b[0mstatus\u001b[0m\u001b[0;34m=\u001b[0m\u001b[0mag_ctx\u001b[0m\u001b[0;34m.\u001b[0m\u001b[0mStatus\u001b[0m\u001b[0;34m.\u001b[0m\u001b[0mUNSPECIFIED\u001b[0m\u001b[0;34m)\u001b[0m\u001b[0;34m:\u001b[0m\u001b[0;34m\u001b[0m\u001b[0;34m\u001b[0m\u001b[0m\n\u001b[0;32m--> 275\u001b[0;31m       \u001b[0;32mreturn\u001b[0m \u001b[0mfunc\u001b[0m\u001b[0;34m(\u001b[0m\u001b[0;34m*\u001b[0m\u001b[0margs\u001b[0m\u001b[0;34m,\u001b[0m \u001b[0;34m**\u001b[0m\u001b[0mkwargs\u001b[0m\u001b[0;34m)\u001b[0m\u001b[0;34m\u001b[0m\u001b[0;34m\u001b[0m\u001b[0m\n\u001b[0m\u001b[1;32m    276\u001b[0m \u001b[0;34m\u001b[0m\u001b[0m\n\u001b[1;32m    277\u001b[0m   \u001b[0;32mif\u001b[0m \u001b[0minspect\u001b[0m\u001b[0;34m.\u001b[0m\u001b[0misfunction\u001b[0m\u001b[0;34m(\u001b[0m\u001b[0mfunc\u001b[0m\u001b[0;34m)\u001b[0m \u001b[0;32mor\u001b[0m \u001b[0minspect\u001b[0m\u001b[0;34m.\u001b[0m\u001b[0mismethod\u001b[0m\u001b[0;34m(\u001b[0m\u001b[0mfunc\u001b[0m\u001b[0;34m)\u001b[0m\u001b[0;34m:\u001b[0m\u001b[0;34m\u001b[0m\u001b[0;34m\u001b[0m\u001b[0m\n",
            "\u001b[0;32m/usr/local/lib/python3.6/dist-packages/tensorflow/python/keras/optimizer_v2/optimizer_v2.py\u001b[0m in \u001b[0;36mapply_grad_to_update_var\u001b[0;34m(var, grad)\u001b[0m\n\u001b[1;32m    604\u001b[0m             grad.values, var, grad.indices, **apply_kwargs)\n\u001b[1;32m    605\u001b[0m \u001b[0;34m\u001b[0m\u001b[0m\n\u001b[0;32m--> 606\u001b[0;31m       \u001b[0;32mif\u001b[0m \u001b[0;34m\"apply_state\"\u001b[0m \u001b[0;32min\u001b[0m \u001b[0mself\u001b[0m\u001b[0;34m.\u001b[0m\u001b[0m_dense_apply_args\u001b[0m\u001b[0;34m:\u001b[0m\u001b[0;34m\u001b[0m\u001b[0;34m\u001b[0m\u001b[0m\n\u001b[0m\u001b[1;32m    607\u001b[0m         \u001b[0mapply_kwargs\u001b[0m\u001b[0;34m[\u001b[0m\u001b[0;34m\"apply_state\"\u001b[0m\u001b[0;34m]\u001b[0m \u001b[0;34m=\u001b[0m \u001b[0mapply_state\u001b[0m\u001b[0;34m\u001b[0m\u001b[0;34m\u001b[0m\u001b[0m\n\u001b[1;32m    608\u001b[0m       \u001b[0mupdate_op\u001b[0m \u001b[0;34m=\u001b[0m \u001b[0mself\u001b[0m\u001b[0;34m.\u001b[0m\u001b[0m_resource_apply_dense\u001b[0m\u001b[0;34m(\u001b[0m\u001b[0mgrad\u001b[0m\u001b[0;34m,\u001b[0m \u001b[0mvar\u001b[0m\u001b[0;34m,\u001b[0m \u001b[0;34m**\u001b[0m\u001b[0mapply_kwargs\u001b[0m\u001b[0;34m)\u001b[0m\u001b[0;34m\u001b[0m\u001b[0;34m\u001b[0m\u001b[0m\n",
            "\u001b[0;32m/usr/local/lib/python3.6/dist-packages/tensorflow/python/keras/optimizer_v2/optimizer_v2.py\u001b[0m in \u001b[0;36m__getattribute__\u001b[0;34m(self, name)\u001b[0m\n\u001b[1;32m    707\u001b[0m     \u001b[0;34m\"\"\"Overridden to support hyperparameter access.\"\"\"\u001b[0m\u001b[0;34m\u001b[0m\u001b[0;34m\u001b[0m\u001b[0m\n\u001b[1;32m    708\u001b[0m     \u001b[0;32mtry\u001b[0m\u001b[0;34m:\u001b[0m\u001b[0;34m\u001b[0m\u001b[0;34m\u001b[0m\u001b[0m\n\u001b[0;32m--> 709\u001b[0;31m       \u001b[0;32mreturn\u001b[0m \u001b[0msuper\u001b[0m\u001b[0;34m(\u001b[0m\u001b[0mOptimizerV2\u001b[0m\u001b[0;34m,\u001b[0m \u001b[0mself\u001b[0m\u001b[0;34m)\u001b[0m\u001b[0;34m.\u001b[0m\u001b[0m__getattribute__\u001b[0m\u001b[0;34m(\u001b[0m\u001b[0mname\u001b[0m\u001b[0;34m)\u001b[0m\u001b[0;34m\u001b[0m\u001b[0;34m\u001b[0m\u001b[0m\n\u001b[0m\u001b[1;32m    710\u001b[0m     \u001b[0;32mexcept\u001b[0m \u001b[0mAttributeError\u001b[0m \u001b[0;32mas\u001b[0m \u001b[0me\u001b[0m\u001b[0;34m:\u001b[0m\u001b[0;34m\u001b[0m\u001b[0;34m\u001b[0m\u001b[0m\n\u001b[1;32m    711\u001b[0m       \u001b[0;31m# Needed to avoid infinite recursion with __setattr__.\u001b[0m\u001b[0;34m\u001b[0m\u001b[0;34m\u001b[0m\u001b[0;34m\u001b[0m\u001b[0m\n",
            "\u001b[0;32m/usr/local/lib/python3.6/dist-packages/tensorflow/python/training/tracking/tracking.py\u001b[0m in \u001b[0;36mwrapped\u001b[0;34m(item)\u001b[0m\n\u001b[1;32m    438\u001b[0m   \u001b[0mcache\u001b[0m \u001b[0;34m=\u001b[0m \u001b[0mweakref\u001b[0m\u001b[0;34m.\u001b[0m\u001b[0mWeakKeyDictionary\u001b[0m\u001b[0;34m(\u001b[0m\u001b[0;34m)\u001b[0m\u001b[0;34m\u001b[0m\u001b[0;34m\u001b[0m\u001b[0m\n\u001b[1;32m    439\u001b[0m \u001b[0;34m\u001b[0m\u001b[0m\n\u001b[0;32m--> 440\u001b[0;31m   \u001b[0;34m@\u001b[0m\u001b[0mfunctools\u001b[0m\u001b[0;34m.\u001b[0m\u001b[0mwraps\u001b[0m\u001b[0;34m(\u001b[0m\u001b[0mf\u001b[0m\u001b[0;34m)\u001b[0m\u001b[0;34m\u001b[0m\u001b[0;34m\u001b[0m\u001b[0m\n\u001b[0m\u001b[1;32m    441\u001b[0m   \u001b[0;32mdef\u001b[0m \u001b[0mwrapped\u001b[0m\u001b[0;34m(\u001b[0m\u001b[0mitem\u001b[0m\u001b[0;34m)\u001b[0m\u001b[0;34m:\u001b[0m\u001b[0;34m\u001b[0m\u001b[0;34m\u001b[0m\u001b[0m\n\u001b[1;32m    442\u001b[0m     \u001b[0moutput\u001b[0m \u001b[0;34m=\u001b[0m \u001b[0mcache\u001b[0m\u001b[0;34m.\u001b[0m\u001b[0mget\u001b[0m\u001b[0;34m(\u001b[0m\u001b[0mitem\u001b[0m\u001b[0;34m)\u001b[0m\u001b[0;34m\u001b[0m\u001b[0;34m\u001b[0m\u001b[0m\n",
            "\u001b[0;31mKeyboardInterrupt\u001b[0m: "
          ]
        }
      ]
    },
    {
      "cell_type": "code",
      "metadata": {
        "id": "KRYCqOtvRjIx",
        "colab_type": "code",
        "colab": {}
      },
      "source": [
        ""
      ],
      "execution_count": null,
      "outputs": []
    }
  ]
}