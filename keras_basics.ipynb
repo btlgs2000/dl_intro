{
  "nbformat": 4,
  "nbformat_minor": 0,
  "metadata": {
    "colab": {
      "name": "keras_basics.ipynb",
      "provenance": [],
      "authorship_tag": "ABX9TyNyPRi8JPVdwyNeeu2bBV0o",
      "include_colab_link": true
    },
    "kernelspec": {
      "name": "python3",
      "display_name": "Python 3"
    }
  },
  "cells": [
    {
      "cell_type": "markdown",
      "metadata": {
        "id": "view-in-github",
        "colab_type": "text"
      },
      "source": [
        "<a href=\"https://colab.research.google.com/github/btlgs2000/dl_intro/blob/master/keras_basics.ipynb\" target=\"_parent\"><img src=\"https://colab.research.google.com/assets/colab-badge.svg\" alt=\"Open In Colab\"/></a>"
      ]
    },
    {
      "cell_type": "markdown",
      "metadata": {
        "id": "Gx0ouQFZqHDk",
        "colab_type": "text"
      },
      "source": [
        "# Layer"
      ]
    },
    {
      "cell_type": "code",
      "metadata": {
        "id": "wp4TyXbBqIcA",
        "colab_type": "code",
        "colab": {}
      },
      "source": [
        ""
      ],
      "execution_count": null,
      "outputs": []
    }
  ]
}