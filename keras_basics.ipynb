{
  "nbformat": 4,
  "nbformat_minor": 0,
  "metadata": {
    "colab": {
      "name": "keras_basics.ipynb",
      "provenance": [],
      "collapsed_sections": [],
      "authorship_tag": "ABX9TyMb30YMRK+l+I6FIS2fLJxC",
      "include_colab_link": true
    },
    "kernelspec": {
      "name": "python3",
      "display_name": "Python 3"
    }
  },
  "cells": [
    {
      "cell_type": "markdown",
      "metadata": {
        "id": "view-in-github",
        "colab_type": "text"
      },
      "source": [
        "<a href=\"https://colab.research.google.com/github/btlgs2000/dl_intro/blob/master/keras_basics.ipynb\" target=\"_parent\"><img src=\"https://colab.research.google.com/assets/colab-badge.svg\" alt=\"Open In Colab\"/></a>"
      ]
    },
    {
      "cell_type": "markdown",
      "metadata": {
        "id": "Gx0ouQFZqHDk",
        "colab_type": "text"
      },
      "source": [
        "# Layer"
      ]
    },
    {
      "cell_type": "code",
      "metadata": {
        "id": "wp4TyXbBqIcA",
        "colab_type": "code",
        "colab": {}
      },
      "source": [
        "from tensorflow.keras.layers import Dense, Layer, BatchNormalization, Dropout\n",
        "from keras import Sequential, Model, Input\n",
        "import tensorflow.keras as keras\n",
        "\n",
        "import numpy as np"
      ],
      "execution_count": 54,
      "outputs": []
    },
    {
      "cell_type": "code",
      "metadata": {
        "id": "rCVYpuiXqVwE",
        "colab_type": "code",
        "colab": {}
      },
      "source": [
        "dense = Dense(10)"
      ],
      "execution_count": null,
      "outputs": []
    },
    {
      "cell_type": "code",
      "metadata": {
        "id": "0gJokHCIq1Yc",
        "colab_type": "code",
        "colab": {}
      },
      "source": [
        "bn = BatchNormalization()"
      ],
      "execution_count": null,
      "outputs": []
    },
    {
      "cell_type": "code",
      "metadata": {
        "id": "WmmZ3s12qcTq",
        "colab_type": "code",
        "colab": {}
      },
      "source": [
        "isinstance(dense, Layer)"
      ],
      "execution_count": null,
      "outputs": []
    },
    {
      "cell_type": "code",
      "metadata": {
        "id": "pR2JRsKzq8J7",
        "colab_type": "code",
        "colab": {}
      },
      "source": [
        "# importante! settando questo attributo a False i suoi pesi non vengono aggiornati col gradient descent\n",
        "dense.trainable"
      ],
      "execution_count": null,
      "outputs": []
    },
    {
      "cell_type": "code",
      "metadata": {
        "id": "kTK88gKDsZNM",
        "colab_type": "code",
        "colab": {}
      },
      "source": [
        "dense.variables"
      ],
      "execution_count": null,
      "outputs": []
    },
    {
      "cell_type": "code",
      "metadata": {
        "id": "EhBhTQfxsnky",
        "colab_type": "code",
        "colab": {}
      },
      "source": [
        "dense.name"
      ],
      "execution_count": null,
      "outputs": []
    },
    {
      "cell_type": "code",
      "metadata": {
        "id": "QKo91aE_sqFh",
        "colab_type": "code",
        "colab": {}
      },
      "source": [
        "dense.input"
      ],
      "execution_count": null,
      "outputs": []
    },
    {
      "cell_type": "code",
      "metadata": {
        "id": "lvrfWb5isyVl",
        "colab_type": "code",
        "colab": {}
      },
      "source": [
        "dense.output"
      ],
      "execution_count": null,
      "outputs": []
    },
    {
      "cell_type": "code",
      "metadata": {
        "id": "Iu4uOp_5tAeF",
        "colab_type": "code",
        "colab": {}
      },
      "source": [
        "# inizializzazione dei pesi tramite build"
      ],
      "execution_count": 34,
      "outputs": []
    },
    {
      "cell_type": "code",
      "metadata": {
        "id": "G9cman8gtDJJ",
        "colab_type": "code",
        "colab": {}
      },
      "source": [
        "dense = Dense(10)"
      ],
      "execution_count": null,
      "outputs": []
    },
    {
      "cell_type": "code",
      "metadata": {
        "id": "GswKCc_ztKCs",
        "colab_type": "code",
        "colab": {}
      },
      "source": [
        "dense.build((100,))"
      ],
      "execution_count": null,
      "outputs": []
    },
    {
      "cell_type": "code",
      "metadata": {
        "id": "EePVCFl-tL4a",
        "colab_type": "code",
        "colab": {}
      },
      "source": [
        "dense.trainable_variables"
      ],
      "execution_count": null,
      "outputs": []
    },
    {
      "cell_type": "code",
      "metadata": {
        "id": "JXPlsEMMu0fM",
        "colab_type": "code",
        "colab": {}
      },
      "source": [
        "# settare l'inizializzazione"
      ],
      "execution_count": null,
      "outputs": []
    },
    {
      "cell_type": "code",
      "metadata": {
        "id": "exFq5ld-uBTL",
        "colab_type": "code",
        "colab": {}
      },
      "source": [
        "dense = Dense(10, kernel_initializer='glorot_normal')"
      ],
      "execution_count": null,
      "outputs": []
    },
    {
      "cell_type": "code",
      "metadata": {
        "id": "UkhivpHguULe",
        "colab_type": "code",
        "colab": {}
      },
      "source": [
        "dense = Dense(10, kernel_initializer=keras.initializers.GlorotNormal(seed=1))"
      ],
      "execution_count": null,
      "outputs": []
    },
    {
      "cell_type": "code",
      "metadata": {
        "id": "LYkmfo8buep7",
        "colab_type": "code",
        "colab": {}
      },
      "source": [
        "# inizializzazione mediante call"
      ],
      "execution_count": null,
      "outputs": []
    },
    {
      "cell_type": "code",
      "metadata": {
        "id": "GT37LuZ9vOb-",
        "colab_type": "code",
        "colab": {}
      },
      "source": [
        "dense = Dense(10)"
      ],
      "execution_count": 35,
      "outputs": []
    },
    {
      "cell_type": "code",
      "metadata": {
        "id": "BvUeqYswvQAf",
        "colab_type": "code",
        "colab": {
          "base_uri": "https://localhost:8080/",
          "height": 507
        },
        "outputId": "6c8d82c1-40c9-496a-c4fa-d11ba1d9b942"
      },
      "source": [
        "dense(np.random.rand(10, 45))"
      ],
      "execution_count": 37,
      "outputs": [
        {
          "output_type": "stream",
          "text": [
            "WARNING:tensorflow:Layer dense_6 is casting an input tensor from dtype float64 to the layer's dtype of float32, which is new behavior in TensorFlow 2.  The layer has dtype float32 because its dtype defaults to floatx.\n",
            "\n",
            "If you intended to run this layer in float32, you can safely ignore this warning. If in doubt, this warning is likely only an issue if you are porting a TensorFlow 1.X model to TensorFlow 2.\n",
            "\n",
            "To change all layers to have dtype float64 by default, call `tf.keras.backend.set_floatx('float64')`. To change just this layer, pass dtype='float64' to the layer constructor. If you are the author of this layer, you can disable autocasting by passing autocast=False to the base Layer constructor.\n",
            "\n"
          ],
          "name": "stdout"
        },
        {
          "output_type": "execute_result",
          "data": {
            "text/plain": [
              "<tf.Tensor: shape=(10, 10), dtype=float32, numpy=\n",
              "array([[-1.645185  , -0.5009559 , -0.06317981, -0.24400616,  0.90393156,\n",
              "        -0.7972266 , -0.43785754, -0.28250152,  0.24006838, -0.12910067],\n",
              "       [-1.1033454 , -0.3457085 ,  0.1081899 , -0.23529917,  0.88349146,\n",
              "        -0.23539732, -0.31866154, -0.01469169,  0.781118  , -0.33985212],\n",
              "       [-1.7388703 ,  0.18508257, -0.49982676, -0.26958054,  0.9675404 ,\n",
              "         0.04701215, -0.33706328,  0.04611036,  0.8343475 , -0.26132834],\n",
              "       [-0.20337819, -0.51118785,  0.09158083, -0.6669274 ,  0.87088275,\n",
              "        -0.52905905, -0.3351609 , -0.32340953,  0.33571944,  0.33990195],\n",
              "       [-0.85445565, -0.37427318, -0.33322722, -0.45912945,  0.78990537,\n",
              "        -0.56181264, -0.17230752, -0.4619158 ,  0.467419  , -0.3378776 ],\n",
              "       [-1.0231018 ,  0.5769717 ,  0.65387005, -0.89226294,  0.91819227,\n",
              "        -0.38955444,  0.37490755,  0.2800182 ,  0.5983208 ,  0.5582921 ],\n",
              "       [-1.3789853 , -0.569414  , -0.7651389 , -0.93493587,  0.55517846,\n",
              "         0.39718622, -0.8492298 ,  0.11547782,  0.69753355, -0.7372586 ],\n",
              "       [-1.0031941 , -0.07458486, -0.29274353, -0.801238  ,  0.9681419 ,\n",
              "        -0.28372777, -0.47745234, -0.85880136,  0.6898899 , -0.15565968],\n",
              "       [-0.7877967 , -0.5929231 , -0.47420636,  0.11957882,  0.85924935,\n",
              "        -0.0938095 , -0.39186093,  0.42968878,  0.72656816, -0.5366281 ],\n",
              "       [-1.5011911 , -0.43633977, -0.33191222,  0.5035677 ,  0.5033884 ,\n",
              "         0.1348163 , -0.38368508, -0.9085972 ,  0.60152656,  0.3755927 ]],\n",
              "      dtype=float32)>"
            ]
          },
          "metadata": {
            "tags": []
          },
          "execution_count": 37
        }
      ]
    },
    {
      "cell_type": "code",
      "metadata": {
        "id": "H8sNnrMjvaqu",
        "colab_type": "code",
        "colab": {
          "base_uri": "https://localhost:8080/",
          "height": 1000
        },
        "outputId": "10ff3f71-99d5-4bee-e15f-45013ea455c6"
      },
      "source": [
        "bn(np.random.rand(10, 45))"
      ],
      "execution_count": 39,
      "outputs": [
        {
          "output_type": "stream",
          "text": [
            "WARNING:tensorflow:Layer batch_normalization is casting an input tensor from dtype float64 to the layer's dtype of float32, which is new behavior in TensorFlow 2.  The layer has dtype float32 because its dtype defaults to floatx.\n",
            "\n",
            "If you intended to run this layer in float32, you can safely ignore this warning. If in doubt, this warning is likely only an issue if you are porting a TensorFlow 1.X model to TensorFlow 2.\n",
            "\n",
            "To change all layers to have dtype float64 by default, call `tf.keras.backend.set_floatx('float64')`. To change just this layer, pass dtype='float64' to the layer constructor. If you are the author of this layer, you can disable autocasting by passing autocast=False to the base Layer constructor.\n",
            "\n"
          ],
          "name": "stdout"
        },
        {
          "output_type": "execute_result",
          "data": {
            "text/plain": [
              "<tf.Tensor: shape=(10, 45), dtype=float32, numpy=\n",
              "array([[0.9320059 , 0.2213134 , 0.9398596 , 0.53163075, 0.3842721 ,\n",
              "        0.43567276, 0.34435776, 0.12215943, 0.7674264 , 0.46095878,\n",
              "        0.05627105, 0.8063271 , 0.23450154, 0.630563  , 0.73475903,\n",
              "        0.7268912 , 0.5857646 , 0.90726024, 0.37331387, 0.849407  ,\n",
              "        0.50986904, 0.46782112, 0.8935989 , 0.3637813 , 0.0469293 ,\n",
              "        0.00513168, 0.28755817, 0.13052168, 0.5855152 , 0.51339406,\n",
              "        0.44864509, 0.8085172 , 0.12698852, 0.7746525 , 0.5337084 ,\n",
              "        0.7368198 , 0.7277293 , 0.3352553 , 0.5867963 , 0.30069917,\n",
              "        0.06538653, 0.4265731 , 0.13861664, 0.32494926, 0.9331802 ],\n",
              "       [0.40246242, 0.8197028 , 0.14479612, 0.05436074, 0.47777355,\n",
              "        0.69922864, 0.05961046, 0.6452895 , 0.325733  , 0.29601735,\n",
              "        0.23512594, 0.60767275, 0.621465  , 0.91566473, 0.7824096 ,\n",
              "        0.649083  , 0.54672277, 0.71189845, 0.38720196, 0.23863122,\n",
              "        0.90426046, 0.61492175, 0.01066813, 0.8198625 , 0.15143862,\n",
              "        0.19975862, 0.63025165, 0.21241595, 0.94300437, 0.94072515,\n",
              "        0.96133894, 0.4475795 , 0.3426061 , 0.35543016, 0.36005723,\n",
              "        0.39024696, 0.14719957, 0.08127174, 0.77581584, 0.3526234 ,\n",
              "        0.2588274 , 0.4873532 , 0.68481255, 0.9406415 , 0.27663577],\n",
              "       [0.49493   , 0.9558267 , 0.8919062 , 0.53747135, 0.4844903 ,\n",
              "        0.20367502, 0.5191072 , 0.06827358, 0.03754192, 0.79508877,\n",
              "        0.12319324, 0.39641112, 0.7782177 , 0.37171876, 0.2075784 ,\n",
              "        0.22134583, 0.14835091, 0.9787272 , 0.551765  , 0.38373882,\n",
              "        0.2035383 , 0.37578833, 0.0410349 , 0.66864437, 0.5753848 ,\n",
              "        0.09510537, 0.5093567 , 0.61328685, 0.2043717 , 0.8741558 ,\n",
              "        0.9243811 , 0.02770069, 0.5570935 , 0.97554785, 0.34140337,\n",
              "        0.5614945 , 0.7844354 , 0.954118  , 0.54391754, 0.24997768,\n",
              "        0.32473147, 0.4820218 , 0.4058121 , 0.29757994, 0.40669006],\n",
              "       [0.82365024, 0.8167287 , 0.6206167 , 0.92639995, 0.17251384,\n",
              "        0.97396487, 0.8497837 , 0.42228222, 0.40024766, 0.9215692 ,\n",
              "        0.64013016, 0.9653638 , 0.98600346, 0.34039766, 0.7807426 ,\n",
              "        0.26168787, 0.9724015 , 0.76799595, 0.3655427 , 0.43879068,\n",
              "        0.7266701 , 0.04905399, 0.5363276 , 0.10980748, 0.0408183 ,\n",
              "        0.4128334 , 0.13708769, 0.16377276, 0.79604256, 0.65217745,\n",
              "        0.6895905 , 0.93675375, 0.77306503, 0.40602502, 0.6304512 ,\n",
              "        0.00451263, 0.57077616, 0.57392395, 0.55120647, 0.33720556,\n",
              "        0.60839933, 0.38415334, 0.8878082 , 0.23320675, 0.76531535],\n",
              "       [0.28507686, 0.3064539 , 0.55422914, 0.23567297, 0.63462245,\n",
              "        0.6491396 , 0.03480271, 0.9302817 , 0.31308526, 0.04235787,\n",
              "        0.8246277 , 0.2953546 , 0.2025594 , 0.20731062, 0.11896725,\n",
              "        0.45797673, 0.9431675 , 0.62058675, 0.71058625, 0.5152367 ,\n",
              "        0.48821467, 0.71900636, 0.6100519 , 0.7934402 , 0.20771539,\n",
              "        0.1997865 , 0.21046902, 0.55748844, 0.87041175, 0.15758261,\n",
              "        0.23990935, 0.44465208, 0.23805062, 0.6727427 , 0.08002178,\n",
              "        0.7269117 , 0.8668332 , 0.05670475, 0.65022814, 0.4301183 ,\n",
              "        0.3316397 , 0.9007301 , 0.45606586, 0.39398718, 0.09570216],\n",
              "       [0.84363407, 0.26691788, 0.09180853, 0.9764212 , 0.93943805,\n",
              "        0.26591095, 0.17036381, 0.22613846, 0.20859656, 0.84157586,\n",
              "        0.16008116, 0.65766406, 0.12155336, 0.61015886, 0.9599065 ,\n",
              "        0.32342252, 0.2787469 , 0.52822125, 0.70266247, 0.15314917,\n",
              "        0.01903862, 0.5344865 , 0.90206534, 0.56978667, 0.7313688 ,\n",
              "        0.91379094, 0.80021405, 0.36641368, 0.7633283 , 0.1764591 ,\n",
              "        0.6046007 , 0.93636936, 0.8466536 , 0.6176678 , 0.22038345,\n",
              "        0.1766644 , 0.6173688 , 0.9525104 , 0.9112089 , 0.10288464,\n",
              "        0.01852394, 0.18296973, 0.9765535 , 0.73945254, 0.92023104],\n",
              "       [0.7601938 , 0.89223266, 0.82671547, 0.9982895 , 0.94897515,\n",
              "        0.03056349, 0.9872285 , 0.64102167, 0.7456592 , 0.9761027 ,\n",
              "        0.6587874 , 0.61804897, 0.7806034 , 0.09204652, 0.27531445,\n",
              "        0.18868025, 0.61557615, 0.808648  , 0.77903616, 0.8790466 ,\n",
              "        0.77087575, 0.1129079 , 0.8047779 , 0.7930278 , 0.51793665,\n",
              "        0.4331763 , 0.08559635, 0.01863092, 0.5863775 , 0.59806335,\n",
              "        0.13048491, 0.94782674, 0.34879386, 0.31822792, 0.57212204,\n",
              "        0.12303132, 0.08271897, 0.61333025, 0.6084017 , 0.26650596,\n",
              "        0.54913276, 0.81443346, 0.40888482, 0.04567269, 0.6015851 ],\n",
              "       [0.09294557, 0.2526356 , 0.08786726, 0.44600692, 0.74191624,\n",
              "        0.09272814, 0.83592045, 0.7171215 , 0.8752148 , 0.7569972 ,\n",
              "        0.45121697, 0.35443395, 0.9912818 , 0.80715376, 0.8589759 ,\n",
              "        0.59563404, 0.6890379 , 0.6235532 , 0.5878391 , 0.5839886 ,\n",
              "        0.915661  , 0.96105105, 0.190764  , 0.5877303 , 0.8073501 ,\n",
              "        0.56520754, 0.96550286, 0.14705077, 0.6996192 , 0.5322109 ,\n",
              "        0.48408994, 0.831867  , 0.24954729, 0.06187427, 0.5984315 ,\n",
              "        0.3029486 , 0.3426518 , 0.5017989 , 0.3951449 , 0.18267362,\n",
              "        0.79090714, 0.16642104, 0.65295583, 0.5616829 , 0.4211792 ],\n",
              "       [0.02704408, 0.59465927, 0.6108354 , 0.45860398, 0.28245616,\n",
              "        0.44462836, 0.8354283 , 0.71412945, 0.7631049 , 0.36428908,\n",
              "        0.5287134 , 0.8072371 , 0.8074653 , 0.28376958, 0.3126247 ,\n",
              "        0.6426945 , 0.73088205, 0.5015869 , 0.13570708, 0.23692589,\n",
              "        0.83642334, 0.9629707 , 0.04638115, 0.3125073 , 0.76269764,\n",
              "        0.08768414, 0.19705586, 0.36007455, 0.9340086 , 0.26447603,\n",
              "        0.8139615 , 0.39387307, 0.4430741 , 0.02388519, 0.36572433,\n",
              "        0.3499124 , 0.84347314, 0.30279246, 0.547839  , 0.56323713,\n",
              "        0.55949163, 0.2647042 , 0.1707547 , 0.2757735 , 0.9820501 ],\n",
              "       [0.15588258, 0.6970196 , 0.07988732, 0.64500606, 0.9823836 ,\n",
              "        0.57336414, 0.04182462, 0.9670614 , 0.30119672, 0.7507231 ,\n",
              "        0.5838079 , 0.9365167 , 0.97692823, 0.0798874 , 0.25345513,\n",
              "        0.7013681 , 0.6846511 , 0.64850366, 0.25643262, 0.927163  ,\n",
              "        0.4886743 , 0.40660658, 0.36325416, 0.4085836 , 0.16326533,\n",
              "        0.0485375 , 0.35601288, 0.7393128 , 0.39633742, 0.7029364 ,\n",
              "        0.91219395, 0.45182693, 0.89297354, 0.5474303 , 0.753647  ,\n",
              "        0.16696784, 0.7359692 , 0.4379306 , 0.28149903, 0.17875262,\n",
              "        0.54283243, 0.4588826 , 0.7988031 , 0.63925636, 0.11032075]],\n",
              "      dtype=float32)>"
            ]
          },
          "metadata": {
            "tags": []
          },
          "execution_count": 39
        }
      ]
    },
    {
      "cell_type": "code",
      "metadata": {
        "id": "LKD2Y2Hbvp4O",
        "colab_type": "code",
        "colab": {
          "base_uri": "https://localhost:8080/",
          "height": 286
        },
        "outputId": "a1af8ecb-a852-46ed-b030-9d7e736f92ce"
      },
      "source": [
        "bn.weights"
      ],
      "execution_count": 42,
      "outputs": [
        {
          "output_type": "execute_result",
          "data": {
            "text/plain": [
              "[<tf.Variable 'batch_normalization/gamma:0' shape=(45,) dtype=float32, numpy=\n",
              " array([1., 1., 1., 1., 1., 1., 1., 1., 1., 1., 1., 1., 1., 1., 1., 1., 1.,\n",
              "        1., 1., 1., 1., 1., 1., 1., 1., 1., 1., 1., 1., 1., 1., 1., 1., 1.,\n",
              "        1., 1., 1., 1., 1., 1., 1., 1., 1., 1., 1.], dtype=float32)>,\n",
              " <tf.Variable 'batch_normalization/beta:0' shape=(45,) dtype=float32, numpy=\n",
              " array([0., 0., 0., 0., 0., 0., 0., 0., 0., 0., 0., 0., 0., 0., 0., 0., 0.,\n",
              "        0., 0., 0., 0., 0., 0., 0., 0., 0., 0., 0., 0., 0., 0., 0., 0., 0.,\n",
              "        0., 0., 0., 0., 0., 0., 0., 0., 0., 0., 0.], dtype=float32)>,\n",
              " <tf.Variable 'batch_normalization/moving_mean:0' shape=(45,) dtype=float32, numpy=\n",
              " array([0., 0., 0., 0., 0., 0., 0., 0., 0., 0., 0., 0., 0., 0., 0., 0., 0.,\n",
              "        0., 0., 0., 0., 0., 0., 0., 0., 0., 0., 0., 0., 0., 0., 0., 0., 0.,\n",
              "        0., 0., 0., 0., 0., 0., 0., 0., 0., 0., 0.], dtype=float32)>,\n",
              " <tf.Variable 'batch_normalization/moving_variance:0' shape=(45,) dtype=float32, numpy=\n",
              " array([1., 1., 1., 1., 1., 1., 1., 1., 1., 1., 1., 1., 1., 1., 1., 1., 1.,\n",
              "        1., 1., 1., 1., 1., 1., 1., 1., 1., 1., 1., 1., 1., 1., 1., 1., 1.,\n",
              "        1., 1., 1., 1., 1., 1., 1., 1., 1., 1., 1.], dtype=float32)>]"
            ]
          },
          "metadata": {
            "tags": []
          },
          "execution_count": 42
        }
      ]
    },
    {
      "cell_type": "code",
      "metadata": {
        "id": "gf7ZxmAxvvqz",
        "colab_type": "code",
        "colab": {
          "base_uri": "https://localhost:8080/",
          "height": 151
        },
        "outputId": "fa6e7d56-5fd6-4a2e-eb23-7968eac28148"
      },
      "source": [
        "bn.trainable_weights"
      ],
      "execution_count": 43,
      "outputs": [
        {
          "output_type": "execute_result",
          "data": {
            "text/plain": [
              "[<tf.Variable 'batch_normalization/gamma:0' shape=(45,) dtype=float32, numpy=\n",
              " array([1., 1., 1., 1., 1., 1., 1., 1., 1., 1., 1., 1., 1., 1., 1., 1., 1.,\n",
              "        1., 1., 1., 1., 1., 1., 1., 1., 1., 1., 1., 1., 1., 1., 1., 1., 1.,\n",
              "        1., 1., 1., 1., 1., 1., 1., 1., 1., 1., 1.], dtype=float32)>,\n",
              " <tf.Variable 'batch_normalization/beta:0' shape=(45,) dtype=float32, numpy=\n",
              " array([0., 0., 0., 0., 0., 0., 0., 0., 0., 0., 0., 0., 0., 0., 0., 0., 0.,\n",
              "        0., 0., 0., 0., 0., 0., 0., 0., 0., 0., 0., 0., 0., 0., 0., 0., 0.,\n",
              "        0., 0., 0., 0., 0., 0., 0., 0., 0., 0., 0.], dtype=float32)>]"
            ]
          },
          "metadata": {
            "tags": []
          },
          "execution_count": 43
        }
      ]
    },
    {
      "cell_type": "markdown",
      "metadata": {
        "id": "boE85My9wIfy",
        "colab_type": "text"
      },
      "source": [
        ""
      ]
    },
    {
      "cell_type": "code",
      "metadata": {
        "id": "iLTXeqQNv3Bs",
        "colab_type": "code",
        "colab": {
          "base_uri": "https://localhost:8080/",
          "height": 151
        },
        "outputId": "adda225f-fa44-4ad8-d2c5-d4e5f1e8184c"
      },
      "source": [
        "bn.non_trainable_weights"
      ],
      "execution_count": 44,
      "outputs": [
        {
          "output_type": "execute_result",
          "data": {
            "text/plain": [
              "[<tf.Variable 'batch_normalization/moving_mean:0' shape=(45,) dtype=float32, numpy=\n",
              " array([0., 0., 0., 0., 0., 0., 0., 0., 0., 0., 0., 0., 0., 0., 0., 0., 0.,\n",
              "        0., 0., 0., 0., 0., 0., 0., 0., 0., 0., 0., 0., 0., 0., 0., 0., 0.,\n",
              "        0., 0., 0., 0., 0., 0., 0., 0., 0., 0., 0.], dtype=float32)>,\n",
              " <tf.Variable 'batch_normalization/moving_variance:0' shape=(45,) dtype=float32, numpy=\n",
              " array([1., 1., 1., 1., 1., 1., 1., 1., 1., 1., 1., 1., 1., 1., 1., 1., 1.,\n",
              "        1., 1., 1., 1., 1., 1., 1., 1., 1., 1., 1., 1., 1., 1., 1., 1., 1.,\n",
              "        1., 1., 1., 1., 1., 1., 1., 1., 1., 1., 1.], dtype=float32)>]"
            ]
          },
          "metadata": {
            "tags": []
          },
          "execution_count": 44
        }
      ]
    },
    {
      "cell_type": "markdown",
      "metadata": {
        "id": "SnCMCtbRwUAu",
        "colab_type": "text"
      },
      "source": [
        "# Modelli"
      ]
    },
    {
      "cell_type": "markdown",
      "metadata": {
        "id": "W0JPsRDawXEV",
        "colab_type": "text"
      },
      "source": [
        "## Sequenziale"
      ]
    },
    {
      "cell_type": "code",
      "metadata": {
        "id": "waP4EayhwVel",
        "colab_type": "code",
        "colab": {}
      },
      "source": [
        "# Posso specificare un input con il parametro input_shape del primo layer\n",
        "# oppure includendo all'inizio un oggetto di tipo Input\n",
        "\n",
        "model = Sequential(\n",
        "    [\n",
        "     Input(10),\n",
        "     Dense(10, activation='relu', name='dense_1'),\n",
        "     Dropout(0.1, name='dropout_1'),\n",
        "     Dense(10, activation='relu', name='dense_2'),\n",
        "     Dropout(0.1, name='dropout_2'),\n",
        "     Dense(1, name='output')\n",
        "    ]\n",
        ")"
      ],
      "execution_count": 76,
      "outputs": []
    },
    {
      "cell_type": "code",
      "metadata": {
        "id": "iG1s_VV5w4bD",
        "colab_type": "code",
        "colab": {
          "base_uri": "https://localhost:8080/",
          "height": 34
        },
        "outputId": "61403b1a-7502-48d9-fcdd-90e70b7bb278"
      },
      "source": [
        "isinstance(model, Model)"
      ],
      "execution_count": 77,
      "outputs": [
        {
          "output_type": "execute_result",
          "data": {
            "text/plain": [
              "True"
            ]
          },
          "metadata": {
            "tags": []
          },
          "execution_count": 77
        }
      ]
    },
    {
      "cell_type": "code",
      "metadata": {
        "id": "UiV3my1VxfGM",
        "colab_type": "code",
        "colab": {
          "base_uri": "https://localhost:8080/",
          "height": 34
        },
        "outputId": "f582b520-797e-4adb-9fe9-53f46c8ac740"
      },
      "source": [
        "isinstance(model, Layer)"
      ],
      "execution_count": 78,
      "outputs": [
        {
          "output_type": "execute_result",
          "data": {
            "text/plain": [
              "True"
            ]
          },
          "metadata": {
            "tags": []
          },
          "execution_count": 78
        }
      ]
    },
    {
      "cell_type": "code",
      "metadata": {
        "id": "wzyeaPPHxqyc",
        "colab_type": "code",
        "colab": {
          "base_uri": "https://localhost:8080/",
          "height": 101
        },
        "outputId": "09d8fb60-a41c-4394-ae9c-94bb7646308a"
      },
      "source": [
        "model.layers"
      ],
      "execution_count": 79,
      "outputs": [
        {
          "output_type": "execute_result",
          "data": {
            "text/plain": [
              "[<tensorflow.python.keras.layers.core.Dense at 0x7fb8a0bfb748>,\n",
              " <tensorflow.python.keras.layers.core.Dropout at 0x7fb8a0bb26a0>,\n",
              " <tensorflow.python.keras.layers.core.Dense at 0x7fb8a0b884e0>,\n",
              " <tensorflow.python.keras.layers.core.Dropout at 0x7fb8a0b88320>,\n",
              " <tensorflow.python.keras.layers.core.Dense at 0x7fb8a0bfbe80>]"
            ]
          },
          "metadata": {
            "tags": []
          },
          "execution_count": 79
        }
      ]
    },
    {
      "cell_type": "code",
      "metadata": {
        "id": "UzxqohsEy__n",
        "colab_type": "code",
        "colab": {}
      },
      "source": [
        "dense_1 = model.get_layer(name='dense_1')"
      ],
      "execution_count": 80,
      "outputs": []
    },
    {
      "cell_type": "code",
      "metadata": {
        "id": "EcFaJMc4zJun",
        "colab_type": "code",
        "colab": {
          "base_uri": "https://localhost:8080/",
          "height": 34
        },
        "outputId": "6c9e4e98-50e1-4739-aae6-7c652f5000ee"
      },
      "source": [
        "dense_1.output"
      ],
      "execution_count": 81,
      "outputs": [
        {
          "output_type": "execute_result",
          "data": {
            "text/plain": [
              "<tf.Tensor 'dense_1/Relu_2:0' shape=(None, 10) dtype=float32>"
            ]
          },
          "metadata": {
            "tags": []
          },
          "execution_count": 81
        }
      ]
    },
    {
      "cell_type": "code",
      "metadata": {
        "id": "zw68eVSKzcr2",
        "colab_type": "code",
        "colab": {
          "base_uri": "https://localhost:8080/",
          "height": 34
        },
        "outputId": "58eeec2c-ea07-42e7-c564-2f264bb92696"
      },
      "source": [
        "dense_1.input"
      ],
      "execution_count": 82,
      "outputs": [
        {
          "output_type": "execute_result",
          "data": {
            "text/plain": [
              "<tf.Tensor 'input_2:0' shape=(None, 10) dtype=float32>"
            ]
          },
          "metadata": {
            "tags": []
          },
          "execution_count": 82
        }
      ]
    },
    {
      "cell_type": "code",
      "metadata": {
        "id": "WQ5o1Vyvz-2W",
        "colab_type": "code",
        "colab": {
          "base_uri": "https://localhost:8080/",
          "height": 319
        },
        "outputId": "d58a12eb-d60f-47d0-abc2-f85865a38dfb"
      },
      "source": [
        "model.summary()"
      ],
      "execution_count": 83,
      "outputs": [
        {
          "output_type": "stream",
          "text": [
            "Model: \"sequential_6\"\n",
            "_________________________________________________________________\n",
            "Layer (type)                 Output Shape              Param #   \n",
            "=================================================================\n",
            "dense_1 (Dense)              (None, 10)                110       \n",
            "_________________________________________________________________\n",
            "dropout_1 (Dropout)          (None, 10)                0         \n",
            "_________________________________________________________________\n",
            "dense_2 (Dense)              (None, 10)                110       \n",
            "_________________________________________________________________\n",
            "dropout_2 (Dropout)          (None, 10)                0         \n",
            "_________________________________________________________________\n",
            "output (Dense)               (None, 1)                 11        \n",
            "=================================================================\n",
            "Total params: 231\n",
            "Trainable params: 231\n",
            "Non-trainable params: 0\n",
            "_________________________________________________________________\n"
          ],
          "name": "stdout"
        }
      ]
    },
    {
      "cell_type": "code",
      "metadata": {
        "id": "zFrEOVlq0kU0",
        "colab_type": "code",
        "colab": {
          "base_uri": "https://localhost:8080/",
          "height": 644
        },
        "outputId": "b7dc430e-afe6-4bf5-9b0a-3991ca7dd689"
      },
      "source": [
        "keras.utils.plot_model(model=model, show_shapes=True)"
      ],
      "execution_count": 85,
      "outputs": [
        {
          "output_type": "execute_result",
          "data": {
            "image/png": "[encoded data removed]",
            "text/plain": [
              "<IPython.core.display.Image object>"
            ]
          },
          "metadata": {
            "tags": []
          },
          "execution_count": 85
        }
      ]
    },
    {
      "cell_type": "code",
      "metadata": {
        "id": "3kT7rfXt1Zt-",
        "colab_type": "code",
        "colab": {}
      },
      "source": [
        ""
      ],
      "execution_count": null,
      "outputs": []
    }
  ]
}