{
  "nbformat": 4,
  "nbformat_minor": 0,
  "metadata": {
    "colab": {
      "name": "keras_basics.ipynb",
      "provenance": [],
      "collapsed_sections": [],
      "authorship_tag": "ABX9TyO9hjs7qWaRGCYH5yuUlC4o",
      "include_colab_link": true
    },
    "kernelspec": {
      "name": "python3",
      "display_name": "Python 3"
    }
  },
  "cells": [
    {
      "cell_type": "markdown",
      "metadata": {
        "id": "view-in-github",
        "colab_type": "text"
      },
      "source": [
        "<a href=\"https://colab.research.google.com/github/btlgs2000/dl_intro/blob/master/keras_basics.ipynb\" target=\"_parent\"><img src=\"https://colab.research.google.com/assets/colab-badge.svg\" alt=\"Open In Colab\"/></a>"
      ]
    },
    {
      "cell_type": "markdown",
      "metadata": {
        "id": "Gx0ouQFZqHDk",
        "colab_type": "text"
      },
      "source": [
        "# Layer"
      ]
    },
    {
      "cell_type": "code",
      "metadata": {
        "id": "wp4TyXbBqIcA",
        "colab_type": "code",
        "colab": {}
      },
      "source": [
        "from tensorflow.keras.layers import Dense, Layer, BatchNormalization, Dropout, concatenate\n",
        "from tensorflow.keras import Sequential, Model, Input\n",
        "from tensorflow.keras.utils import plot_model\n",
        "from tensorflow.keras.optimizers import Adam\n",
        "from tensorflow.keras.callbacks import EarlyStopping, ModelCheckpoint, CSVLogger\n",
        "import tensorflow.keras as keras\n",
        "\n",
        "from sklearn.model_selection import train_test_split\n",
        "\n",
        "import numpy as np"
      ],
      "execution_count": null,
      "outputs": []
    },
    {
      "cell_type": "code",
      "metadata": {
        "id": "rCVYpuiXqVwE",
        "colab_type": "code",
        "colab": {}
      },
      "source": [
        "dense = Dense(10)"
      ],
      "execution_count": null,
      "outputs": []
    },
    {
      "cell_type": "code",
      "metadata": {
        "id": "0gJokHCIq1Yc",
        "colab_type": "code",
        "colab": {}
      },
      "source": [
        "bn = BatchNormalization()"
      ],
      "execution_count": null,
      "outputs": []
    },
    {
      "cell_type": "code",
      "metadata": {
        "id": "WmmZ3s12qcTq",
        "colab_type": "code",
        "colab": {}
      },
      "source": [
        "isinstance(dense, Layer)"
      ],
      "execution_count": null,
      "outputs": []
    },
    {
      "cell_type": "code",
      "metadata": {
        "id": "pR2JRsKzq8J7",
        "colab_type": "code",
        "colab": {}
      },
      "source": [
        "# importante! settando questo attributo a False i suoi pesi non vengono aggiornati col gradient descent\n",
        "dense.trainable"
      ],
      "execution_count": null,
      "outputs": []
    },
    {
      "cell_type": "code",
      "metadata": {
        "id": "kTK88gKDsZNM",
        "colab_type": "code",
        "colab": {}
      },
      "source": [
        "dense.variables"
      ],
      "execution_count": null,
      "outputs": []
    },
    {
      "cell_type": "code",
      "metadata": {
        "id": "EhBhTQfxsnky",
        "colab_type": "code",
        "colab": {}
      },
      "source": [
        "dense.name"
      ],
      "execution_count": null,
      "outputs": []
    },
    {
      "cell_type": "code",
      "metadata": {
        "id": "QKo91aE_sqFh",
        "colab_type": "code",
        "colab": {}
      },
      "source": [
        "dense.input"
      ],
      "execution_count": null,
      "outputs": []
    },
    {
      "cell_type": "code",
      "metadata": {
        "id": "lvrfWb5isyVl",
        "colab_type": "code",
        "colab": {}
      },
      "source": [
        "dense.output"
      ],
      "execution_count": null,
      "outputs": []
    },
    {
      "cell_type": "code",
      "metadata": {
        "id": "Iu4uOp_5tAeF",
        "colab_type": "code",
        "colab": {}
      },
      "source": [
        "# inizializzazione dei pesi tramite build"
      ],
      "execution_count": null,
      "outputs": []
    },
    {
      "cell_type": "code",
      "metadata": {
        "id": "G9cman8gtDJJ",
        "colab_type": "code",
        "colab": {}
      },
      "source": [
        "dense = Dense(10)"
      ],
      "execution_count": null,
      "outputs": []
    },
    {
      "cell_type": "code",
      "metadata": {
        "id": "GswKCc_ztKCs",
        "colab_type": "code",
        "colab": {}
      },
      "source": [
        "dense.build((100,))"
      ],
      "execution_count": null,
      "outputs": []
    },
    {
      "cell_type": "code",
      "metadata": {
        "id": "EePVCFl-tL4a",
        "colab_type": "code",
        "colab": {}
      },
      "source": [
        "dense.trainable_variables"
      ],
      "execution_count": null,
      "outputs": []
    },
    {
      "cell_type": "code",
      "metadata": {
        "id": "JXPlsEMMu0fM",
        "colab_type": "code",
        "colab": {}
      },
      "source": [
        "# settare l'inizializzazione"
      ],
      "execution_count": null,
      "outputs": []
    },
    {
      "cell_type": "code",
      "metadata": {
        "id": "exFq5ld-uBTL",
        "colab_type": "code",
        "colab": {}
      },
      "source": [
        "dense = Dense(10, kernel_initializer='glorot_normal')"
      ],
      "execution_count": null,
      "outputs": []
    },
    {
      "cell_type": "code",
      "metadata": {
        "id": "UkhivpHguULe",
        "colab_type": "code",
        "colab": {}
      },
      "source": [
        "dense = Dense(10, kernel_initializer=keras.initializers.GlorotNormal(seed=1))"
      ],
      "execution_count": null,
      "outputs": []
    },
    {
      "cell_type": "code",
      "metadata": {
        "id": "LYkmfo8buep7",
        "colab_type": "code",
        "colab": {}
      },
      "source": [
        "# inizializzazione mediante call"
      ],
      "execution_count": null,
      "outputs": []
    },
    {
      "cell_type": "code",
      "metadata": {
        "id": "GT37LuZ9vOb-",
        "colab_type": "code",
        "colab": {}
      },
      "source": [
        "dense = Dense(10)"
      ],
      "execution_count": null,
      "outputs": []
    },
    {
      "cell_type": "code",
      "metadata": {
        "id": "BvUeqYswvQAf",
        "colab_type": "code",
        "colab": {}
      },
      "source": [
        "dense(np.random.rand(10, 45))"
      ],
      "execution_count": null,
      "outputs": []
    },
    {
      "cell_type": "code",
      "metadata": {
        "id": "H8sNnrMjvaqu",
        "colab_type": "code",
        "colab": {}
      },
      "source": [
        "bn(np.random.rand(10, 45))"
      ],
      "execution_count": null,
      "outputs": []
    },
    {
      "cell_type": "code",
      "metadata": {
        "id": "LKD2Y2Hbvp4O",
        "colab_type": "code",
        "colab": {}
      },
      "source": [
        "bn.weights"
      ],
      "execution_count": null,
      "outputs": []
    },
    {
      "cell_type": "code",
      "metadata": {
        "id": "gf7ZxmAxvvqz",
        "colab_type": "code",
        "colab": {}
      },
      "source": [
        "bn.trainable_weights"
      ],
      "execution_count": null,
      "outputs": []
    },
    {
      "cell_type": "markdown",
      "metadata": {
        "id": "boE85My9wIfy",
        "colab_type": "text"
      },
      "source": [
        ""
      ]
    },
    {
      "cell_type": "code",
      "metadata": {
        "id": "iLTXeqQNv3Bs",
        "colab_type": "code",
        "colab": {}
      },
      "source": [
        "bn.non_trainable_weights"
      ],
      "execution_count": null,
      "outputs": []
    },
    {
      "cell_type": "markdown",
      "metadata": {
        "id": "SnCMCtbRwUAu",
        "colab_type": "text"
      },
      "source": [
        "# Modelli"
      ]
    },
    {
      "cell_type": "markdown",
      "metadata": {
        "id": "W0JPsRDawXEV",
        "colab_type": "text"
      },
      "source": [
        "## Sequenziale"
      ]
    },
    {
      "cell_type": "code",
      "metadata": {
        "id": "waP4EayhwVel",
        "colab_type": "code",
        "colab": {}
      },
      "source": [
        "# Posso specificare un input con il parametro input_shape del primo layer\n",
        "# oppure includendo all'inizio un oggetto di tipo Input\n",
        "\n",
        "model = Sequential(\n",
        "    [\n",
        "     Input(10),\n",
        "     Dense(10, activation='relu', name='dense_1'),\n",
        "     Dropout(0.1, name='dropout_1'),\n",
        "     Dense(10, activation='relu', name='dense_2'),\n",
        "     Dropout(0.1, name='dropout_2'),\n",
        "     Dense(1, name='output')\n",
        "    ]\n",
        ")"
      ],
      "execution_count": null,
      "outputs": []
    },
    {
      "cell_type": "code",
      "metadata": {
        "id": "iG1s_VV5w4bD",
        "colab_type": "code",
        "colab": {}
      },
      "source": [
        "isinstance(model, Model)"
      ],
      "execution_count": null,
      "outputs": []
    },
    {
      "cell_type": "code",
      "metadata": {
        "id": "UiV3my1VxfGM",
        "colab_type": "code",
        "colab": {}
      },
      "source": [
        "isinstance(model, Layer)"
      ],
      "execution_count": null,
      "outputs": []
    },
    {
      "cell_type": "code",
      "metadata": {
        "id": "wzyeaPPHxqyc",
        "colab_type": "code",
        "colab": {}
      },
      "source": [
        "model.layers"
      ],
      "execution_count": null,
      "outputs": []
    },
    {
      "cell_type": "code",
      "metadata": {
        "id": "UzxqohsEy__n",
        "colab_type": "code",
        "colab": {}
      },
      "source": [
        "dense_1 = model.get_layer(name='dense_1')"
      ],
      "execution_count": null,
      "outputs": []
    },
    {
      "cell_type": "code",
      "metadata": {
        "id": "EcFaJMc4zJun",
        "colab_type": "code",
        "colab": {}
      },
      "source": [
        "dense_1.output"
      ],
      "execution_count": null,
      "outputs": []
    },
    {
      "cell_type": "code",
      "metadata": {
        "id": "zw68eVSKzcr2",
        "colab_type": "code",
        "colab": {}
      },
      "source": [
        "dense_1.input"
      ],
      "execution_count": null,
      "outputs": []
    },
    {
      "cell_type": "code",
      "metadata": {
        "id": "WQ5o1Vyvz-2W",
        "colab_type": "code",
        "colab": {}
      },
      "source": [
        "model.summary()"
      ],
      "execution_count": null,
      "outputs": []
    },
    {
      "cell_type": "code",
      "metadata": {
        "id": "zFrEOVlq0kU0",
        "colab_type": "code",
        "colab": {}
      },
      "source": [
        "plot_model(model=model, show_shapes=True)"
      ],
      "execution_count": null,
      "outputs": []
    },
    {
      "cell_type": "markdown",
      "metadata": {
        "id": "p6PLZqpd2AM4",
        "colab_type": "text"
      },
      "source": [
        "## Funzionale\n",
        "\n"
      ]
    },
    {
      "cell_type": "code",
      "metadata": {
        "id": "ygwMqcdy3OAC",
        "colab_type": "code",
        "colab": {}
      },
      "source": [
        "input_1 = Input(shape=(10,))\n",
        "input_2 = Input(shape=(20,))\n",
        "\n",
        "# prima sottorete\n",
        "x = Dense(100, activation='relu')(input_1)\n",
        "x = Dense(100, activation='relu')(x)\n",
        "x = Dense(100, activation='relu')(x)\n",
        "# seconda sottorete\n",
        "y = Dense(100, activation='relu')(input_2)\n",
        "y = Dense(100, activation='relu')(y)\n",
        "y = Dense(100, activation='relu')(y)\n",
        "\n",
        "conc = concatenate([x, y])\n",
        "out = Dense(1)(conc)\n",
        "\n",
        "model = Model(inputs=[input_1, input_2], outputs=out)"
      ],
      "execution_count": null,
      "outputs": []
    },
    {
      "cell_type": "code",
      "metadata": {
        "id": "d2EResbf4WwB",
        "colab_type": "code",
        "colab": {}
      },
      "source": [
        "model.summary()"
      ],
      "execution_count": null,
      "outputs": []
    },
    {
      "cell_type": "code",
      "metadata": {
        "id": "LByDqcwu4yTr",
        "colab_type": "code",
        "colab": {}
      },
      "source": [
        "plot_model(model)"
      ],
      "execution_count": null,
      "outputs": []
    },
    {
      "cell_type": "markdown",
      "metadata": {
        "id": "xQ_bfwxa2faO",
        "colab_type": "text"
      },
      "source": [
        "## Subclassing"
      ]
    },
    {
      "cell_type": "code",
      "metadata": {
        "id": "9mj9UFqg5Zcb",
        "colab_type": "code",
        "colab": {}
      },
      "source": [
        "class RegressorMLP(Model):\n",
        "    def __init__(self, num_hidden_layers, activation, units_x_layer, dropout_rate):\n",
        "        super().__init__(name='RegressorMLP')\n",
        "        self.hidden_layers = []\n",
        "        self.dropouts = []\n",
        "        for i in range(num_hidden_layers):\n",
        "            self.hidden_layers.append(Dense(units=units_x_layer, activation=activation, name=f'dense_{i}'))\n",
        "            self.dropouts.append(Dropout(dropout_rate, name=f'dropout_{i}'))\n",
        "        self.last_layer = Dense(1, name=f'dense_{num_hidden_layers}')\n",
        "\n",
        "    def call(self, inputs, training=False):\n",
        "        x = inputs\n",
        "        for dense, dropout in zip(self.hidden_layers, self.dropouts):\n",
        "            print(dense.name, dropout.name)\n",
        "            x = dense(x)\n",
        "            x = dropout(x) if training else x\n",
        "\n",
        "        x = self.last_layer(x)\n",
        "        \n",
        "        return x"
      ],
      "execution_count": null,
      "outputs": []
    },
    {
      "cell_type": "code",
      "metadata": {
        "id": "SDF8WCiroXoA",
        "colab_type": "code",
        "colab": {}
      },
      "source": [
        "model = RegressorMLP(num_hidden_layers=4, activation='relu', units_x_layer=50, dropout_rate=0.3)"
      ],
      "execution_count": null,
      "outputs": []
    },
    {
      "cell_type": "code",
      "metadata": {
        "id": "9zPi_1iDosy-",
        "colab_type": "code",
        "colab": {}
      },
      "source": [
        "model(np.random.rand(32, 10).astype(np.float32), training=True)"
      ],
      "execution_count": null,
      "outputs": []
    },
    {
      "cell_type": "markdown",
      "metadata": {
        "id": "nQXBzgmD-zM9",
        "colab_type": "text"
      },
      "source": [
        "# Addestramento"
      ]
    },
    {
      "cell_type": "code",
      "metadata": {
        "id": "doUFHhGK-0iX",
        "colab_type": "code",
        "colab": {}
      },
      "source": [
        "# come si addestra un modello"
      ],
      "execution_count": null,
      "outputs": []
    },
    {
      "cell_type": "code",
      "metadata": {
        "id": "_-qTFo-btZB_",
        "colab_type": "code",
        "colab": {}
      },
      "source": [
        "N = 100_000 # num of samples\n",
        "x = np.random.rand(N, 10)\n",
        "y = x @ np.array([1, 4, 2, 3, 5, 1, 6, 1, 1, 2]).reshape(-1, 1)\n",
        "\n",
        "x_train, x_test, y_train, y_test = train_test_split(x, y, test_size=0.2)"
      ],
      "execution_count": null,
      "outputs": []
    },
    {
      "cell_type": "code",
      "metadata": {
        "id": "aolLtJXat3HP",
        "colab_type": "code",
        "colab": {}
      },
      "source": [
        "model = Sequential(\n",
        "    [\n",
        "     Input(10),\n",
        "     Dense(10, activation='relu', name='dense_1'),\n",
        "     Dropout(0.1, name='dropout_1'),\n",
        "     Dense(10, activation='relu', name='dense_2'),\n",
        "     Dropout(0.1, name='dropout_2'),\n",
        "     Dense(1, name='output')\n",
        "    ]\n",
        ")"
      ],
      "execution_count": null,
      "outputs": []
    },
    {
      "cell_type": "code",
      "metadata": {
        "id": "dRaRnkExt-Vj",
        "colab_type": "code",
        "colab": {}
      },
      "source": [
        "model.compile(optimizer=Adam(learning_rate=1e-3), loss='mse', metrics=['mae'])"
      ],
      "execution_count": null,
      "outputs": []
    },
    {
      "cell_type": "code",
      "metadata": {
        "id": "OHzrF6_4uaZh",
        "colab_type": "code",
        "colab": {}
      },
      "source": [
        "model.fit(x_train, y_train, batch_size=32, epochs=10, validation_split=0.2)"
      ],
      "execution_count": null,
      "outputs": []
    },
    {
      "cell_type": "code",
      "metadata": {
        "id": "x_dtgRhDwBpJ",
        "colab_type": "code",
        "colab": {}
      },
      "source": [
        "model.history.history"
      ],
      "execution_count": null,
      "outputs": []
    },
    {
      "cell_type": "code",
      "metadata": {
        "id": "TuGn9iBMwL1k",
        "colab_type": "code",
        "colab": {}
      },
      "source": [
        "model.metrics_names"
      ],
      "execution_count": null,
      "outputs": []
    },
    {
      "cell_type": "code",
      "metadata": {
        "id": "gJclIUwWuiM4",
        "colab_type": "code",
        "colab": {}
      },
      "source": [
        "loss, mae = model.evaluate(x_test, y_test)\n",
        "print(f'loss={loss}, mae={mae}')"
      ],
      "execution_count": null,
      "outputs": []
    },
    {
      "cell_type": "code",
      "metadata": {
        "id": "lPX4nijuwQQA",
        "colab_type": "code",
        "colab": {}
      },
      "source": [
        "y_hat = model.predict(x_test[:100])\n",
        "print(y_hat.shape)"
      ],
      "execution_count": null,
      "outputs": []
    },
    {
      "cell_type": "markdown",
      "metadata": {
        "id": "fkKLj3UjxCqc",
        "colab_type": "text"
      },
      "source": [
        "# Salvataggio di un modello"
      ]
    },
    {
      "cell_type": "code",
      "metadata": {
        "id": "BCMxcIGAxIQF",
        "colab_type": "code",
        "colab": {}
      },
      "source": [
        "# salvataggio del modello (anche lo stato dell'optimizer)\n",
        "model.save('checkpoint')"
      ],
      "execution_count": null,
      "outputs": []
    },
    {
      "cell_type": "code",
      "metadata": {
        "id": "SN7xYClOHH_H",
        "colab_type": "code",
        "colab": {}
      },
      "source": [
        "model = keras.models.load_model('/content/checkpoint')"
      ],
      "execution_count": null,
      "outputs": []
    },
    {
      "cell_type": "code",
      "metadata": {
        "id": "VJjA1Jg8Ho8w",
        "colab_type": "code",
        "colab": {}
      },
      "source": [
        "# salvataggio dei pesi\n",
        "model.save_weights('weights/w', save_format='tf')"
      ],
      "execution_count": null,
      "outputs": []
    },
    {
      "cell_type": "code",
      "metadata": {
        "id": "rg3dGUvpJvhr",
        "colab_type": "code",
        "colab": {}
      },
      "source": [
        "model.load_weights('weights/w', by_name=False)"
      ],
      "execution_count": null,
      "outputs": []
    },
    {
      "cell_type": "markdown",
      "metadata": {
        "id": "UjmJ4kJlQ-8l",
        "colab_type": "text"
      },
      "source": [
        "# Callbacks"
      ]
    },
    {
      "cell_type": "code",
      "metadata": {
        "id": "TstXX6-hRAYx",
        "colab_type": "code",
        "colab": {}
      },
      "source": [
        "model = RegressorMLP(num_hidden_layers=4, activation='relu', units_x_layer=50, dropout_rate=0.3)"
      ],
      "execution_count": null,
      "outputs": []
    },
    {
      "cell_type": "code",
      "metadata": {
        "id": "uq4mKZs3RZ9A",
        "colab_type": "code",
        "colab": {}
      },
      "source": [
        "model.compile(optimizer=Adam(learning_rate=1e-3), loss='mse', metrics=['mae'])"
      ],
      "execution_count": null,
      "outputs": []
    },
    {
      "cell_type": "code",
      "metadata": {
        "id": "mHnnLJ68SUY9",
        "colab_type": "code",
        "colab": {}
      },
      "source": [
        "callbacks = [\n",
        "    CSVLogger('logger.csv'),\n",
        "    EarlyStopping(monitor='val_loss', patience=5, mode='min', restore_best_weights=True),\n",
        "    ModelCheckpoint('train/checkpoint{epoch:02d}-{val_loss:.2f}')\n",
        "]"
      ],
      "execution_count": null,
      "outputs": []
    },
    {
      "cell_type": "code",
      "metadata": {
        "id": "acfHhuGIRfG-",
        "colab_type": "code",
        "colab": {}
      },
      "source": [
        "model.fit(x_train, y_train, batch_size=32, epochs=10, validation_split=0.2, callbacks=callbacks)"
      ],
      "execution_count": null,
      "outputs": []
    }
  ]
}