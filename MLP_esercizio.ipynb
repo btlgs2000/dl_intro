{
  "nbformat": 4,
  "nbformat_minor": 0,
  "metadata": {
    "colab": {
      "name": "MLP_esercizio.ipynb",
      "provenance": [],
      "authorship_tag": "ABX9TyN9K/lSVaPugkyfEiQ5bOQH",
      "include_colab_link": true
    },
    "kernelspec": {
      "name": "python3",
      "display_name": "Python 3"
    }
  },
  "cells": [
    {
      "cell_type": "markdown",
      "metadata": {
        "id": "view-in-github",
        "colab_type": "text"
      },
      "source": [
        "<a href=\"https://colab.research.google.com/github/btlgs2000/dl_intro/blob/master/MLP_esercizio.ipynb\" target=\"_parent\"><img src=\"https://colab.research.google.com/assets/colab-badge.svg\" alt=\"Open In Colab\"/></a>"
      ]
    },
    {
      "cell_type": "code",
      "metadata": {
        "id": "Ac_KIpaAp3Ry"
      },
      "source": [
        "import tensorflow as tf\n",
        "import numpy as np\n",
        "import tensorflow.keras.datasets.mnist as mnist\n",
        "import matplotlib.pyplot as plt"
      ],
      "execution_count": 24,
      "outputs": []
    },
    {
      "cell_type": "code",
      "metadata": {
        "colab": {
          "base_uri": "https://localhost:8080/"
        },
        "id": "ajddlJ_vp-JX",
        "outputId": "7f36b461-b4b6-4de1-d0fc-b43a8e09a537"
      },
      "source": [
        "(x_train, y_train), (x_test, y_test) = mnist.load_data()"
      ],
      "execution_count": 3,
      "outputs": [
        {
          "output_type": "stream",
          "text": [
            "Downloading data from https://storage.googleapis.com/tensorflow/tf-keras-datasets/mnist.npz\n",
            "11493376/11490434 [==============================] - 0s 0us/step\n"
          ],
          "name": "stdout"
        }
      ]
    },
    {
      "cell_type": "code",
      "metadata": {
        "colab": {
          "base_uri": "https://localhost:8080/"
        },
        "id": "ujPRt1idqjhN",
        "outputId": "220bc47a-9970-4221-b3c6-ca06d928d7b2"
      },
      "source": [
        "y_train[:10]"
      ],
      "execution_count": 7,
      "outputs": [
        {
          "output_type": "execute_result",
          "data": {
            "text/plain": [
              "array([5, 0, 4, 1, 9, 2, 1, 3, 1, 4], dtype=uint8)"
            ]
          },
          "metadata": {
            "tags": []
          },
          "execution_count": 7
        }
      ]
    },
    {
      "cell_type": "code",
      "metadata": {
        "colab": {
          "base_uri": "https://localhost:8080/",
          "height": 281
        },
        "id": "AEhZdMWJrOiJ",
        "outputId": "1678861f-5483-4eb5-c460-181bc0c8f8aa"
      },
      "source": [
        "plt.imshow(x_train[1], cmap='gray')"
      ],
      "execution_count": 10,
      "outputs": [
        {
          "output_type": "execute_result",
          "data": {
            "text/plain": [
              "<matplotlib.image.AxesImage at 0x7f17c7537470>"
            ]
          },
          "metadata": {
            "tags": []
          },
          "execution_count": 10
        },
        {
          "output_type": "display_data",
          "data": {
            "image/png": "[encoded data removed]",
            "text/plain": [
              "<Figure size 432x288 with 1 Axes>"
            ]
          },
          "metadata": {
            "tags": [],
            "needs_background": "light"
          }
        }
      ]
    },
    {
      "cell_type": "code",
      "metadata": {
        "id": "7sn5CQ1hthGp"
      },
      "source": [
        "# normalizzare le immagini"
      ],
      "execution_count": 20,
      "outputs": []
    },
    {
      "cell_type": "code",
      "metadata": {
        "id": "9xjsY-yftmhc"
      },
      "source": [
        "x_train = x_train / 255.\n",
        "x_test = x_test / 255."
      ],
      "execution_count": 22,
      "outputs": []
    },
    {
      "cell_type": "code",
      "metadata": {
        "id": "e7GkrgWztp4-"
      },
      "source": [
        "y_train = tf.one_hot(y_train, 10)\n",
        "y_test = tf.one_hot(y_test, 10)"
      ],
      "execution_count": 25,
      "outputs": []
    },
    {
      "cell_type": "code",
      "metadata": {
        "id": "c-29d6ouupDu"
      },
      "source": [
        "class MlpClassifier:\n",
        "    def __init__(self, layers):\n",
        "        '''\n",
        "\n",
        "        args\n",
        "        ----\n",
        "        layers (list) - [784, 100, 100, 10]\n",
        "        '''\n",
        "        self.layers = layers\n",
        "        self.Ws = []\n",
        "        self.bs = []\n",
        "\n",
        "        # creazione dei pesi\n",
        "        # per ogni strato creare W (matrice dei pesi) e b (bias)\n",
        "        # ES. W = tf.Variable(initial_value=np.random.normal(size=(in_units, out_units)), shape=[in_units, out_units], dtype=tf.float32)\n",
        "        # b = tf.Variable(initial_value=np.zeros(shape=(out_units,)), shape=[out_units], dtype=tf.float32)\n",
        "        <SRIVI QUI IL TUO CODICE>\n",
        "\n",
        "    def __call__(self, x):\n",
        "        ''' Processa il batch x ritornando le \n",
        "        probabilità delle 10 classi.\n",
        "        Tutti gli strati sono seguiti da funzione di \n",
        "        attivazione sigmoide. L'ultimo è seguiti da una softmax\n",
        "\n",
        "        args\n",
        "        ----\n",
        "        x (tensore): x.shape = (n_batch, n_features)\n",
        "\n",
        "        ret\n",
        "        ---\n",
        "        y (tensore): y.shape = (n_batch, 10)\n",
        "        '''\n",
        "        return y"
      ],
      "execution_count": null,
      "outputs": []
    }
  ]
}