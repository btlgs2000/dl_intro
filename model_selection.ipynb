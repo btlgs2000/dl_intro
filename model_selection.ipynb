{
  "nbformat": 4,
  "nbformat_minor": 0,
  "metadata": {
    "colab": {
      "name": "model_selection.ipynb",
      "provenance": [],
      "collapsed_sections": [],
      "authorship_tag": "ABX9TyNwqHXT0Gf+YnoOlMFHyuva",
      "include_colab_link": true
    },
    "kernelspec": {
      "name": "python3",
      "display_name": "Python 3"
    }
  },
  "cells": [
    {
      "cell_type": "markdown",
      "metadata": {
        "id": "view-in-github",
        "colab_type": "text"
      },
      "source": [
        "<a href=\"https://colab.research.google.com/github/btlgs2000/dl_intro/blob/master/model_selection.ipynb\" target=\"_parent\"><img src=\"https://colab.research.google.com/assets/colab-badge.svg\" alt=\"Open In Colab\"/></a>"
      ]
    },
    {
      "cell_type": "code",
      "metadata": {
        "id": "x4hJaOY5W7QO",
        "colab_type": "code",
        "colab": {}
      },
      "source": [
        "! pip install optuna"
      ],
      "execution_count": null,
      "outputs": []
    },
    {
      "cell_type": "code",
      "metadata": {
        "id": "hxhIRa_HXH0t",
        "colab_type": "code",
        "colab": {}
      },
      "source": [
        "import optuna\n",
        "from sklearn.model_selection import RandomizedSearchCV\n",
        "\n",
        "import matplotlib.pyplot as plt"
      ],
      "execution_count": 30,
      "outputs": []
    },
    {
      "cell_type": "code",
      "metadata": {
        "id": "PBJ1UvBFXPTo",
        "colab_type": "code",
        "colab": {
          "base_uri": "https://localhost:8080/",
          "height": 34
        },
        "outputId": "59d63391-f9b6-4e12-ad8f-772a17e9c48b"
      },
      "source": [
        "study = optuna.create_study(storage='sqlite:///model_selection.db', study_name='model_selection', direction='minimize', load_if_exists=False)"
      ],
      "execution_count": 18,
      "outputs": [
        {
          "output_type": "stream",
          "text": [
            "[I 2020-09-02 19:56:10,451] A new study created with name: model_selection\n"
          ],
          "name": "stderr"
        }
      ]
    },
    {
      "cell_type": "code",
      "metadata": {
        "id": "mbR8UaFKXqy_",
        "colab_type": "code",
        "colab": {}
      },
      "source": [
        "def f(x, y):\n",
        "    return x**2 + y**2"
      ],
      "execution_count": 19,
      "outputs": []
    },
    {
      "cell_type": "code",
      "metadata": {
        "id": "ybs2Y3K1YGEO",
        "colab_type": "code",
        "colab": {}
      },
      "source": [
        "def objective(trial):\n",
        "    x = trial.suggest_uniform('x', -10, 10)\n",
        "    y = trial.suggest_uniform('y', -10, 10)\n",
        "    return f(x, y)"
      ],
      "execution_count": 20,
      "outputs": []
    },
    {
      "cell_type": "code",
      "metadata": {
        "id": "EJG4sTUHYrN4",
        "colab_type": "code",
        "colab": {
          "base_uri": "https://localhost:8080/",
          "height": 1000
        },
        "outputId": "7a660764-3e53-4f25-c40f-03f663d8d419"
      },
      "source": [
        "study.optimize(objective, n_trials=100)"
      ],
      "execution_count": 21,
      "outputs": [
        {
          "output_type": "stream",
          "text": [
            "[I 2020-09-02 19:56:11,908] Trial 0 finished with value: 82.31475667888684 and parameters: {'x': 8.554851685938736, 'y': 3.021468072060003}. Best is trial 0 with value: 82.31475667888684.\n",
            "[I 2020-09-02 19:56:11,956] Trial 1 finished with value: 60.660373979295684 and parameters: {'x': 6.640194518341627, 'y': 4.070404247477331}. Best is trial 1 with value: 60.660373979295684.\n",
            "[I 2020-09-02 19:56:12,003] Trial 2 finished with value: 76.38721696972314 and parameters: {'x': 7.091264137002774, 'y': 5.108932364886174}. Best is trial 1 with value: 60.660373979295684.\n",
            "[I 2020-09-02 19:56:12,048] Trial 3 finished with value: 89.27768197063548 and parameters: {'x': -6.4969171338823895, 'y': 6.860593977645152}. Best is trial 1 with value: 60.660373979295684.\n",
            "[I 2020-09-02 19:56:12,095] Trial 4 finished with value: 25.148198465755602 and parameters: {'x': 2.4942205168067133, 'y': -4.350524391299979}. Best is trial 4 with value: 25.148198465755602.\n",
            "[I 2020-09-02 19:56:12,141] Trial 5 finished with value: 49.85558146704666 and parameters: {'x': 4.180512743108036, 'y': 5.690245572183857}. Best is trial 4 with value: 25.148198465755602.\n",
            "[I 2020-09-02 19:56:12,190] Trial 6 finished with value: 2.959174765581186 and parameters: {'x': 1.5792961600471358, 'y': -0.6819079149280771}. Best is trial 6 with value: 2.959174765581186.\n",
            "[I 2020-09-02 19:56:12,238] Trial 7 finished with value: 104.26887808343864 and parameters: {'x': -9.869887701113038, 'y': -2.6180517280711264}. Best is trial 6 with value: 2.959174765581186.\n",
            "[I 2020-09-02 19:56:12,287] Trial 8 finished with value: 62.96470760580222 and parameters: {'x': -6.110667574281781, 'y': -5.062059798384788}. Best is trial 6 with value: 2.959174765581186.\n",
            "[I 2020-09-02 19:56:12,333] Trial 9 finished with value: 20.578723205245762 and parameters: {'x': 3.5750137877353083, 'y': 2.792489860813859}. Best is trial 6 with value: 2.959174765581186.\n",
            "[I 2020-09-02 19:56:12,381] Trial 10 finished with value: 68.4632470608692 and parameters: {'x': -1.7624820088418034, 'y': -8.084361708222744}. Best is trial 6 with value: 2.959174765581186.\n",
            "[I 2020-09-02 19:56:12,433] Trial 11 finished with value: 1.4475114805551277 and parameters: {'x': -0.6055270082404687, 'y': 1.0396386501311285}. Best is trial 11 with value: 1.4475114805551277.\n",
            "[I 2020-09-02 19:56:12,482] Trial 12 finished with value: 1.8456201367174847 and parameters: {'x': -1.3578397251862093, 'y': 0.04349042910485457}. Best is trial 11 with value: 1.4475114805551277.\n",
            "[I 2020-09-02 19:56:12,529] Trial 13 finished with value: 2.3139043335194116 and parameters: {'x': -1.492529504050761, 'y': 0.2937005499780364}. Best is trial 11 with value: 1.4475114805551277.\n",
            "[I 2020-09-02 19:56:12,578] Trial 14 finished with value: 8.130690979095037 and parameters: {'x': -2.789401831761442, 'y': 0.5915474622217122}. Best is trial 11 with value: 1.4475114805551277.\n",
            "[I 2020-09-02 19:56:12,627] Trial 15 finished with value: 98.84480422197895 and parameters: {'x': -4.557267696307257, 'y': 8.836068999627226}. Best is trial 11 with value: 1.4475114805551277.\n",
            "[I 2020-09-02 19:56:12,675] Trial 16 finished with value: 5.640873948844027 and parameters: {'x': 0.25580696158561017, 'y': -2.3612362751847527}. Best is trial 11 with value: 1.4475114805551277.\n",
            "[I 2020-09-02 19:56:12,722] Trial 17 finished with value: 196.78936558119932 and parameters: {'x': -9.902438623279902, 'y': -9.9363511860931}. Best is trial 11 with value: 1.4475114805551277.\n",
            "[I 2020-09-02 19:56:12,776] Trial 18 finished with value: 18.545457343146147 and parameters: {'x': -3.982712331412313, 'y': 1.6381269268168583}. Best is trial 11 with value: 1.4475114805551277.\n",
            "[I 2020-09-02 19:56:12,831] Trial 19 finished with value: 38.9128054405984 and parameters: {'x': -0.650492558006782, 'y': -6.204003938794381}. Best is trial 11 with value: 1.4475114805551277.\n",
            "[I 2020-09-02 19:56:12,883] Trial 20 finished with value: 62.03212352815019 and parameters: {'x': -7.703049099702521, 'y': -1.6416936668338487}. Best is trial 11 with value: 1.4475114805551277.\n",
            "[I 2020-09-02 19:56:12,934] Trial 21 finished with value: 0.8134211684175894 and parameters: {'x': 0.2309265564808345, 'y': 0.8718337536075862}. Best is trial 21 with value: 0.8134211684175894.\n",
            "[I 2020-09-02 19:56:12,986] Trial 22 finished with value: 1.6948929155296988 and parameters: {'x': 0.733983111690377, 'y': 1.0752496023170668}. Best is trial 21 with value: 0.8134211684175894.\n",
            "[I 2020-09-02 19:56:13,033] Trial 23 finished with value: 4.043460108867863 and parameters: {'x': 0.8812692818500589, 'y': 1.8074359080574183}. Best is trial 21 with value: 0.8134211684175894.\n",
            "[I 2020-09-02 19:56:13,080] Trial 24 finished with value: 82.16741961960776 and parameters: {'x': 4.890447923405706, 'y': 7.632230259109363}. Best is trial 21 with value: 0.8134211684175894.\n",
            "[I 2020-09-02 19:56:13,128] Trial 25 finished with value: 18.350107308631507 and parameters: {'x': 2.560841924558771, 'y': -3.433976695618891}. Best is trial 21 with value: 0.8134211684175894.\n",
            "[I 2020-09-02 19:56:13,180] Trial 26 finished with value: 11.186921480705967 and parameters: {'x': -3.1535485831191785, 'y': -1.114474232368335}. Best is trial 21 with value: 0.8134211684175894.\n",
            "[I 2020-09-02 19:56:13,231] Trial 27 finished with value: 13.444949408994956 and parameters: {'x': -0.01525852581916301, 'y': 3.666703776743464}. Best is trial 21 with value: 0.8134211684175894.\n",
            "[I 2020-09-02 19:56:13,280] Trial 28 finished with value: 6.059666724082572 and parameters: {'x': 1.8337414198924713, 'y': 1.642272550173483}. Best is trial 21 with value: 0.8134211684175894.\n",
            "[I 2020-09-02 19:56:13,331] Trial 29 finished with value: 37.57177656580783 and parameters: {'x': 5.442110381485627, 'y': 2.820498388855097}. Best is trial 21 with value: 0.8134211684175894.\n",
            "[I 2020-09-02 19:56:13,379] Trial 30 finished with value: 120.01370077507099 and parameters: {'x': 9.598476555094852, 'y': 5.2804307207239685}. Best is trial 21 with value: 0.8134211684175894.\n",
            "[I 2020-09-02 19:56:13,429] Trial 31 finished with value: 3.2483695183874186 and parameters: {'x': -1.7789226834943648, 'y': 0.2894885222882364}. Best is trial 21 with value: 0.8134211684175894.\n",
            "[I 2020-09-02 19:56:13,478] Trial 32 finished with value: 1.0106516717315797 and parameters: {'x': -0.7166424833711572, 'y': -0.7050356180784063}. Best is trial 21 with value: 0.8134211684175894.\n",
            "[I 2020-09-02 19:56:13,528] Trial 33 finished with value: 1.8937084912572069 and parameters: {'x': -0.14074929770974065, 'y': 1.3689039873020392}. Best is trial 21 with value: 0.8134211684175894.\n",
            "[I 2020-09-02 19:56:13,584] Trial 34 finished with value: 18.49423923593983 and parameters: {'x': 0.9803386851604018, 'y': 4.1872634617752205}. Best is trial 21 with value: 0.8134211684175894.\n",
            "[I 2020-09-02 19:56:13,637] Trial 35 finished with value: 9.548689275754477 and parameters: {'x': -2.719842963844919, 'y': -1.4666777177613914}. Best is trial 21 with value: 0.8134211684175894.\n",
            "[I 2020-09-02 19:56:13,686] Trial 36 finished with value: 15.281488160677611 and parameters: {'x': 2.7016555836065868, 'y': 2.8253398500437013}. Best is trial 21 with value: 0.8134211684175894.\n",
            "[I 2020-09-02 19:56:13,736] Trial 37 finished with value: 63.52008216913701 and parameters: {'x': 7.073973761221117, 'y': -3.6713726853442945}. Best is trial 21 with value: 0.8134211684175894.\n",
            "[I 2020-09-02 19:56:13,786] Trial 38 finished with value: 32.01314089074768 and parameters: {'x': -5.598474187039358, 'y': -0.8186743356192877}. Best is trial 21 with value: 0.8134211684175894.\n",
            "[I 2020-09-02 19:56:13,842] Trial 39 finished with value: 56.921593388550775 and parameters: {'x': 3.7562284928244525, 'y': 6.543114006208704}. Best is trial 21 with value: 0.8134211684175894.\n",
            "[I 2020-09-02 19:56:13,894] Trial 40 finished with value: 19.617538554891006 and parameters: {'x': -0.6308679960979345, 'y': 4.38401005089979}. Best is trial 21 with value: 0.8134211684175894.\n",
            "[I 2020-09-02 19:56:13,946] Trial 41 finished with value: 0.8442118765932386 and parameters: {'x': -0.889124697835288, 'y': 0.23166602748902643}. Best is trial 21 with value: 0.8134211684175894.\n",
            "[I 2020-09-02 19:56:13,995] Trial 42 finished with value: 3.438285272241262 and parameters: {'x': 1.4751717405656704, 'y': 1.1234560997554432}. Best is trial 21 with value: 0.8134211684175894.\n",
            "[I 2020-09-02 19:56:14,046] Trial 43 finished with value: 5.957278172124597 and parameters: {'x': -0.9416086596160176, 'y': -2.2518106723836095}. Best is trial 21 with value: 0.8134211684175894.\n",
            "[I 2020-09-02 19:56:14,099] Trial 44 finished with value: 0.34965828606743365 and parameters: {'x': 0.4525163537479917, 'y': -0.38064055965970844}. Best is trial 44 with value: 0.34965828606743365.\n",
            "[I 2020-09-02 19:56:14,148] Trial 45 finished with value: 5.717913780557431 and parameters: {'x': -2.289792401382487, 'y': -0.6890315951597972}. Best is trial 44 with value: 0.34965828606743365.\n",
            "[I 2020-09-02 19:56:14,203] Trial 46 finished with value: 14.730077857162884 and parameters: {'x': -3.830788405229563, 'y': -0.23481493036352713}. Best is trial 44 with value: 0.34965828606743365.\n",
            "[I 2020-09-02 19:56:14,260] Trial 47 finished with value: 28.92154422177566 and parameters: {'x': 2.155088739410098, 'y': -4.927183449704654}. Best is trial 44 with value: 0.34965828606743365.\n",
            "[I 2020-09-02 19:56:14,319] Trial 48 finished with value: 16.13811819278276 and parameters: {'x': 3.2657846603375833, 'y': 2.339394952778708}. Best is trial 44 with value: 0.34965828606743365.\n",
            "[I 2020-09-02 19:56:14,369] Trial 49 finished with value: 15.953455392064175 and parameters: {'x': -1.9532863048553208, 'y': -3.483981630739293}. Best is trial 44 with value: 0.34965828606743365.\n",
            "[I 2020-09-02 19:56:14,425] Trial 50 finished with value: 5.047998254499745 and parameters: {'x': 0.25224565274374344, 'y': -2.2325703539130917}. Best is trial 44 with value: 0.34965828606743365.\n",
            "[I 2020-09-02 19:56:14,474] Trial 51 finished with value: 1.4720741495109535 and parameters: {'x': 0.993129251013709, 'y': 0.6969709034758216}. Best is trial 44 with value: 0.34965828606743365.\n",
            "[I 2020-09-02 19:56:14,523] Trial 52 finished with value: 1.2583897889397642 and parameters: {'x': -1.0410184916746101, 'y': 0.41793574737187034}. Best is trial 44 with value: 0.34965828606743365.\n",
            "[I 2020-09-02 19:56:14,572] Trial 53 finished with value: 1.181112275558532 and parameters: {'x': -1.0524617049953644, 'y': -0.27099194651646485}. Best is trial 44 with value: 0.34965828606743365.\n",
            "[I 2020-09-02 19:56:14,622] Trial 54 finished with value: 0.9404747683455785 and parameters: {'x': -0.9695006111515342, 'y': -0.023309511414446704}. Best is trial 44 with value: 0.34965828606743365.\n",
            "[I 2020-09-02 19:56:14,672] Trial 55 finished with value: 15.370277684299808 and parameters: {'x': -3.5060443780108432, 'y': -1.7544031759314525}. Best is trial 44 with value: 0.34965828606743365.\n",
            "[I 2020-09-02 19:56:14,721] Trial 56 finished with value: 26.660304283260864 and parameters: {'x': -5.147812448809668, 'y': -0.4004138798057279}. Best is trial 44 with value: 0.34965828606743365.\n",
            "[I 2020-09-02 19:56:14,771] Trial 57 finished with value: 10.52577777865876 and parameters: {'x': -1.5285809011321367, 'y': -2.8616810107614765}. Best is trial 44 with value: 0.34965828606743365.\n",
            "[I 2020-09-02 19:56:14,823] Trial 58 finished with value: 5.630932643429194 and parameters: {'x': -2.368125611736942, 'y': -0.1513728194383902}. Best is trial 44 with value: 0.34965828606743365.\n",
            "[I 2020-09-02 19:56:14,873] Trial 59 finished with value: 5.07619710588299 and parameters: {'x': -0.15002258995284107, 'y': 2.2480414427645306}. Best is trial 44 with value: 0.34965828606743365.\n",
            "[I 2020-09-02 19:56:14,927] Trial 60 finished with value: 1.8866019585525873 and parameters: {'x': 0.4855998707548258, 'y': -1.2848325665531224}. Best is trial 44 with value: 0.34965828606743365.\n",
            "[I 2020-09-02 19:56:14,978] Trial 61 finished with value: 1.47697892457757 and parameters: {'x': -1.1345219031786207, 'y': 0.4357051477611095}. Best is trial 44 with value: 0.34965828606743365.\n",
            "[I 2020-09-02 19:56:15,030] Trial 62 finished with value: 6.394434385979423 and parameters: {'x': 1.4505939243324977, 'y': 2.071282610526402}. Best is trial 44 with value: 0.34965828606743365.\n",
            "[I 2020-09-02 19:56:15,079] Trial 63 finished with value: 12.419305886577368 and parameters: {'x': -0.44086233574301537, 'y': 3.496419066344963}. Best is trial 44 with value: 0.34965828606743365.\n",
            "[I 2020-09-02 19:56:15,130] Trial 64 finished with value: 1.6315114406715836 and parameters: {'x': -1.131271405309187, 'y': 0.5930737291444974}. Best is trial 44 with value: 0.34965828606743365.\n",
            "[I 2020-09-02 19:56:15,180] Trial 65 finished with value: 20.60553509739277 and parameters: {'x': -4.402139469183851, 'y': -1.1075663371764657}. Best is trial 44 with value: 0.34965828606743365.\n",
            "[I 2020-09-02 19:56:15,234] Trial 66 finished with value: 9.498184208427643 and parameters: {'x': -3.080554189677383, 'y': -0.09148821174755928}. Best is trial 44 with value: 0.34965828606743365.\n",
            "[I 2020-09-02 19:56:15,284] Trial 67 finished with value: 8.254067767036535 and parameters: {'x': 0.45478373944115424, 'y': -2.836765678969001}. Best is trial 44 with value: 0.34965828606743365.\n",
            "[I 2020-09-02 19:56:15,336] Trial 68 finished with value: 8.397821035530734 and parameters: {'x': -2.5357509270831926, 'y': 1.4027787677775363}. Best is trial 44 with value: 0.34965828606743365.\n",
            "[I 2020-09-02 19:56:15,387] Trial 69 finished with value: 5.240097259046876 and parameters: {'x': -1.491647777308723, 'y': -1.7363997717970427}. Best is trial 44 with value: 0.34965828606743365.\n",
            "[I 2020-09-02 19:56:15,436] Trial 70 finished with value: 1.1221506284926233 and parameters: {'x': -0.6080083993226293, 'y': 0.8674539842814474}. Best is trial 44 with value: 0.34965828606743365.\n",
            "[I 2020-09-02 19:56:15,487] Trial 71 finished with value: 1.1697747626008488 and parameters: {'x': -0.6155170879367469, 'y': 0.8893331642633798}. Best is trial 44 with value: 0.34965828606743365.\n",
            "[I 2020-09-02 19:56:15,534] Trial 72 finished with value: 0.4264837901121134 and parameters: {'x': -0.29349030204725934, 'y': -0.5833928631002627}. Best is trial 44 with value: 0.34965828606743365.\n",
            "[I 2020-09-02 19:56:15,586] Trial 73 finished with value: 1.4163586312741387 and parameters: {'x': -0.3062843121809906, 'y': 1.1500211091045052}. Best is trial 44 with value: 0.34965828606743365.\n",
            "[I 2020-09-02 19:56:15,639] Trial 74 finished with value: 2.052778360764367 and parameters: {'x': 1.204696912104175, 'y': -0.7755538090493995}. Best is trial 44 with value: 0.34965828606743365.\n",
            "[I 2020-09-02 19:56:15,694] Trial 75 finished with value: 13.768524917178205 and parameters: {'x': -1.8852581909321844, 'y': 3.195985993508312}. Best is trial 44 with value: 0.34965828606743365.\n",
            "[I 2020-09-02 19:56:15,747] Trial 76 finished with value: 3.5311922454602787 and parameters: {'x': 0.1644022681694186, 'y': 1.8719412757031213}. Best is trial 44 with value: 0.34965828606743365.\n",
            "[I 2020-09-02 19:56:15,807] Trial 77 finished with value: 5.472187351544816 and parameters: {'x': 2.2168683802865274, 'y': 0.7467810495925863}. Best is trial 44 with value: 0.34965828606743365.\n",
            "[I 2020-09-02 19:56:15,862] Trial 78 finished with value: 4.375394676054281 and parameters: {'x': -0.5884381782166982, 'y': -2.007270581279787}. Best is trial 44 with value: 0.34965828606743365.\n",
            "[I 2020-09-02 19:56:15,911] Trial 79 finished with value: 15.402899260885519 and parameters: {'x': 3.0134975967034547, 'y': 2.5143053703852325}. Best is trial 44 with value: 0.34965828606743365.\n",
            "[I 2020-09-02 19:56:15,962] Trial 80 finished with value: 5.016459764263809 and parameters: {'x': 1.9785171990637573, 'y': -1.0497282778284642}. Best is trial 44 with value: 0.34965828606743365.\n",
            "[I 2020-09-02 19:56:16,010] Trial 81 finished with value: 0.6382938721087844 and parameters: {'x': 0.7984386212810488, 'y': 0.0281005365714303}. Best is trial 44 with value: 0.34965828606743365.\n",
            "[I 2020-09-02 19:56:16,063] Trial 82 finished with value: 0.5431460430741841 and parameters: {'x': 0.7280530827361977, 'y': 0.11438859992369607}. Best is trial 44 with value: 0.34965828606743365.\n",
            "[I 2020-09-02 19:56:16,113] Trial 83 finished with value: 0.453787329335923 and parameters: {'x': 0.671675479091289, 'y': 0.05137489779464627}. Best is trial 44 with value: 0.34965828606743365.\n",
            "[I 2020-09-02 19:56:16,161] Trial 84 finished with value: 0.9679181882216972 and parameters: {'x': 0.9837828454389038, 'y': -0.00946050959679362}. Best is trial 44 with value: 0.34965828606743365.\n",
            "[I 2020-09-02 19:56:16,210] Trial 85 finished with value: 0.7433832797242241 and parameters: {'x': 0.8621638872573534, 'y': -0.007530686125033048}. Best is trial 44 with value: 0.34965828606743365.\n",
            "[I 2020-09-02 19:56:16,261] Trial 86 finished with value: 2.9750047882532082 and parameters: {'x': 1.7177104770162213, 'y': 0.1564464937348037}. Best is trial 44 with value: 0.34965828606743365.\n",
            "[I 2020-09-02 19:56:16,317] Trial 87 finished with value: 2.248753108237404 and parameters: {'x': 0.39345359821655834, 'y': 1.4470478134076452}. Best is trial 44 with value: 0.34965828606743365.\n",
            "[I 2020-09-02 19:56:16,370] Trial 88 finished with value: 7.323779661459662 and parameters: {'x': 2.642813687311932, 'y': -0.5825079189301815}. Best is trial 44 with value: 0.34965828606743365.\n",
            "[I 2020-09-02 19:56:16,420] Trial 89 finished with value: 7.097511929226897 and parameters: {'x': 0.7119227165314385, 'y': -2.5672315779674793}. Best is trial 44 with value: 0.34965828606743365.\n",
            "[I 2020-09-02 19:56:16,470] Trial 90 finished with value: 23.398398523686776 and parameters: {'x': 4.6019011005200525, 'y': -1.490270037516391}. Best is trial 44 with value: 0.34965828606743365.\n",
            "[I 2020-09-02 19:56:16,521] Trial 91 finished with value: 1.4644467868097624 and parameters: {'x': 1.2063749644165662, 'y': 0.09542657930938787}. Best is trial 44 with value: 0.34965828606743365.\n",
            "[I 2020-09-02 19:56:16,571] Trial 92 finished with value: 0.8191114694338979 and parameters: {'x': 0.7432721121795798, 'y': -0.5163894234877435}. Best is trial 44 with value: 0.34965828606743365.\n",
            "[I 2020-09-02 19:56:16,622] Trial 93 finished with value: 0.5567773202159487 and parameters: {'x': -0.03384134640562453, 'y': -0.7454073272308257}. Best is trial 44 with value: 0.34965828606743365.\n",
            "[I 2020-09-02 19:56:16,673] Trial 94 finished with value: 0.28500948705064805 and parameters: {'x': 0.004662335783910843, 'y': -0.5338424389983304}. Best is trial 94 with value: 0.28500948705064805.\n",
            "[I 2020-09-02 19:56:16,723] Trial 95 finished with value: 1.4918260105160155 and parameters: {'x': 0.00653243520406438, 'y': -1.2213858267584081}. Best is trial 94 with value: 0.28500948705064805.\n",
            "[I 2020-09-02 19:56:16,773] Trial 96 finished with value: 0.8092043576019141 and parameters: {'x': 0.7061701807349473, 'y': -0.5572504225594503}. Best is trial 94 with value: 0.28500948705064805.\n",
            "[I 2020-09-02 19:56:16,825] Trial 97 finished with value: 6.02140180195113 and parameters: {'x': 1.6084677958467903, 'y': -1.8531684088810974}. Best is trial 94 with value: 0.28500948705064805.\n",
            "[I 2020-09-02 19:56:16,882] Trial 98 finished with value: 5.0208717904056845 and parameters: {'x': 2.048418642780815, 'y': -0.9082141015827094}. Best is trial 94 with value: 0.28500948705064805.\n",
            "[I 2020-09-02 19:56:16,932] Trial 99 finished with value: 0.32947796122143136 and parameters: {'x': -0.13631932172848604, 'y': -0.557579594089415}. Best is trial 94 with value: 0.28500948705064805.\n"
          ],
          "name": "stderr"
        }
      ]
    },
    {
      "cell_type": "code",
      "metadata": {
        "id": "9AP08PCcYyCG",
        "colab_type": "code",
        "colab": {
          "base_uri": "https://localhost:8080/",
          "height": 34
        },
        "outputId": "3aeed719-db8f-4f56-c099-dcf3b6b1d997"
      },
      "source": [
        "study.best_params"
      ],
      "execution_count": 22,
      "outputs": [
        {
          "output_type": "execute_result",
          "data": {
            "text/plain": [
              "{'x': 0.004662335783910843, 'y': -0.5338424389983304}"
            ]
          },
          "metadata": {
            "tags": []
          },
          "execution_count": 22
        }
      ]
    },
    {
      "cell_type": "code",
      "metadata": {
        "id": "M2NYe7EKY4bo",
        "colab_type": "code",
        "colab": {
          "base_uri": "https://localhost:8080/",
          "height": 54
        },
        "outputId": "59daa7b0-e7fb-465d-dcd7-06f6c593de36"
      },
      "source": [
        "study.best_trial"
      ],
      "execution_count": 23,
      "outputs": [
        {
          "output_type": "execute_result",
          "data": {
            "text/plain": [
              "FrozenTrial(number=94, value=0.28500948705064805, datetime_start=datetime.datetime(2020, 9, 2, 19, 56, 16, 635088), datetime_complete=datetime.datetime(2020, 9, 2, 19, 56, 16, 649280), params={'x': 0.004662335783910843, 'y': -0.5338424389983304}, distributions={'x': UniformDistribution(high=10, low=-10), 'y': UniformDistribution(high=10, low=-10)}, user_attrs={}, system_attrs={}, intermediate_values={}, trial_id=95, state=TrialState.COMPLETE)"
            ]
          },
          "metadata": {
            "tags": []
          },
          "execution_count": 23
        }
      ]
    },
    {
      "cell_type": "code",
      "metadata": {
        "id": "vKzU-A1GZIIM",
        "colab_type": "code",
        "colab": {
          "base_uri": "https://localhost:8080/",
          "height": 1000
        },
        "outputId": "13116bb3-e213-4e43-afd5-e42de06b2bf7"
      },
      "source": [
        "[(trial.params['x'], trial.params['y']) for trial in study.get_trials()]"
      ],
      "execution_count": 29,
      "outputs": [
        {
          "output_type": "execute_result",
          "data": {
            "text/plain": [
              "[(8.554851685938736, 3.021468072060003),\n",
              " (6.640194518341627, 4.070404247477331),\n",
              " (7.091264137002774, 5.108932364886174),\n",
              " (-6.4969171338823895, 6.860593977645152),\n",
              " (2.4942205168067133, -4.350524391299979),\n",
              " (4.180512743108036, 5.690245572183857),\n",
              " (1.5792961600471358, -0.6819079149280771),\n",
              " (-9.869887701113038, -2.6180517280711264),\n",
              " (-6.110667574281781, -5.062059798384788),\n",
              " (3.5750137877353083, 2.792489860813859),\n",
              " (-1.7624820088418034, -8.084361708222744),\n",
              " (-0.6055270082404687, 1.0396386501311285),\n",
              " (-1.3578397251862093, 0.04349042910485457),\n",
              " (-1.492529504050761, 0.2937005499780364),\n",
              " (-2.789401831761442, 0.5915474622217122),\n",
              " (-4.557267696307257, 8.836068999627226),\n",
              " (0.25580696158561017, -2.3612362751847527),\n",
              " (-9.902438623279902, -9.9363511860931),\n",
              " (-3.982712331412313, 1.6381269268168583),\n",
              " (-0.650492558006782, -6.204003938794381),\n",
              " (-7.703049099702521, -1.6416936668338487),\n",
              " (0.2309265564808345, 0.8718337536075862),\n",
              " (0.733983111690377, 1.0752496023170668),\n",
              " (0.8812692818500589, 1.8074359080574183),\n",
              " (4.890447923405706, 7.632230259109363),\n",
              " (2.560841924558771, -3.433976695618891),\n",
              " (-3.1535485831191785, -1.114474232368335),\n",
              " (-0.01525852581916301, 3.666703776743464),\n",
              " (1.8337414198924713, 1.642272550173483),\n",
              " (5.442110381485627, 2.820498388855097),\n",
              " (9.598476555094852, 5.2804307207239685),\n",
              " (-1.7789226834943648, 0.2894885222882364),\n",
              " (-0.7166424833711572, -0.7050356180784063),\n",
              " (-0.14074929770974065, 1.3689039873020392),\n",
              " (0.9803386851604018, 4.1872634617752205),\n",
              " (-2.719842963844919, -1.4666777177613914),\n",
              " (2.7016555836065868, 2.8253398500437013),\n",
              " (7.073973761221117, -3.6713726853442945),\n",
              " (-5.598474187039358, -0.8186743356192877),\n",
              " (3.7562284928244525, 6.543114006208704),\n",
              " (-0.6308679960979345, 4.38401005089979),\n",
              " (-0.889124697835288, 0.23166602748902643),\n",
              " (1.4751717405656704, 1.1234560997554432),\n",
              " (-0.9416086596160176, -2.2518106723836095),\n",
              " (0.4525163537479917, -0.38064055965970844),\n",
              " (-2.289792401382487, -0.6890315951597972),\n",
              " (-3.830788405229563, -0.23481493036352713),\n",
              " (2.155088739410098, -4.927183449704654),\n",
              " (3.2657846603375833, 2.339394952778708),\n",
              " (-1.9532863048553208, -3.483981630739293),\n",
              " (0.25224565274374344, -2.2325703539130917),\n",
              " (0.993129251013709, 0.6969709034758216),\n",
              " (-1.0410184916746101, 0.41793574737187034),\n",
              " (-1.0524617049953644, -0.27099194651646485),\n",
              " (-0.9695006111515342, -0.023309511414446704),\n",
              " (-3.5060443780108432, -1.7544031759314525),\n",
              " (-5.147812448809668, -0.4004138798057279),\n",
              " (-1.5285809011321367, -2.8616810107614765),\n",
              " (-2.368125611736942, -0.1513728194383902),\n",
              " (-0.15002258995284107, 2.2480414427645306),\n",
              " (0.4855998707548258, -1.2848325665531224),\n",
              " (-1.1345219031786207, 0.4357051477611095),\n",
              " (1.4505939243324977, 2.071282610526402),\n",
              " (-0.44086233574301537, 3.496419066344963),\n",
              " (-1.131271405309187, 0.5930737291444974),\n",
              " (-4.402139469183851, -1.1075663371764657),\n",
              " (-3.080554189677383, -0.09148821174755928),\n",
              " (0.45478373944115424, -2.836765678969001),\n",
              " (-2.5357509270831926, 1.4027787677775363),\n",
              " (-1.491647777308723, -1.7363997717970427),\n",
              " (-0.6080083993226293, 0.8674539842814474),\n",
              " (-0.6155170879367469, 0.8893331642633798),\n",
              " (-0.29349030204725934, -0.5833928631002627),\n",
              " (-0.3062843121809906, 1.1500211091045052),\n",
              " (1.204696912104175, -0.7755538090493995),\n",
              " (-1.8852581909321844, 3.195985993508312),\n",
              " (0.1644022681694186, 1.8719412757031213),\n",
              " (2.2168683802865274, 0.7467810495925863),\n",
              " (-0.5884381782166982, -2.007270581279787),\n",
              " (3.0134975967034547, 2.5143053703852325),\n",
              " (1.9785171990637573, -1.0497282778284642),\n",
              " (0.7984386212810488, 0.0281005365714303),\n",
              " (0.7280530827361977, 0.11438859992369607),\n",
              " (0.671675479091289, 0.05137489779464627),\n",
              " (0.9837828454389038, -0.00946050959679362),\n",
              " (0.8621638872573534, -0.007530686125033048),\n",
              " (1.7177104770162213, 0.1564464937348037),\n",
              " (0.39345359821655834, 1.4470478134076452),\n",
              " (2.642813687311932, -0.5825079189301815),\n",
              " (0.7119227165314385, -2.5672315779674793),\n",
              " (4.6019011005200525, -1.490270037516391),\n",
              " (1.2063749644165662, 0.09542657930938787),\n",
              " (0.7432721121795798, -0.5163894234877435),\n",
              " (-0.03384134640562453, -0.7454073272308257),\n",
              " (0.004662335783910843, -0.5338424389983304),\n",
              " (0.00653243520406438, -1.2213858267584081),\n",
              " (0.7061701807349473, -0.5572504225594503),\n",
              " (1.6084677958467903, -1.8531684088810974),\n",
              " (2.048418642780815, -0.9082141015827094),\n",
              " (-0.13631932172848604, -0.557579594089415)]"
            ]
          },
          "metadata": {
            "tags": []
          },
          "execution_count": 29
        }
      ]
    },
    {
      "cell_type": "code",
      "metadata": {
        "id": "Bbv4UMx0ZL93",
        "colab_type": "code",
        "colab": {}
      },
      "source": [
        ""
      ],
      "execution_count": null,
      "outputs": []
    }
  ]
}