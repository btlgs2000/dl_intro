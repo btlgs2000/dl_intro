{
  "nbformat": 4,
  "nbformat_minor": 0,
  "metadata": {
    "colab": {
      "name": "model_selection.ipynb",
      "provenance": [],
      "collapsed_sections": [],
      "toc_visible": true,
      "authorship_tag": "ABX9TyN5DPqwGfNxJqqXogzQtVcj",
      "include_colab_link": true
    },
    "kernelspec": {
      "name": "python3",
      "display_name": "Python 3"
    }
  },
  "cells": [
    {
      "cell_type": "markdown",
      "metadata": {
        "id": "view-in-github",
        "colab_type": "text"
      },
      "source": [
        "<a href=\"https://colab.research.google.com/github/btlgs2000/dl_intro/blob/master/model_selection.ipynb\" target=\"_parent\"><img src=\"https://colab.research.google.com/assets/colab-badge.svg\" alt=\"Open In Colab\"/></a>"
      ]
    },
    {
      "cell_type": "code",
      "metadata": {
        "id": "x4hJaOY5W7QO",
        "colab_type": "code",
        "colab": {}
      },
      "source": [
        "! pip install optuna"
      ],
      "execution_count": null,
      "outputs": []
    },
    {
      "cell_type": "code",
      "metadata": {
        "id": "hxhIRa_HXH0t",
        "colab_type": "code",
        "colab": {}
      },
      "source": [
        "import optuna\n",
        "import matplotlib.pyplot as plt\n",
        "import numpy as np\n",
        "\n",
        "import random"
      ],
      "execution_count": null,
      "outputs": []
    },
    {
      "cell_type": "code",
      "metadata": {
        "id": "PBJ1UvBFXPTo",
        "colab_type": "code",
        "colab": {}
      },
      "source": [
        "study = optuna.create_study(storage='sqlite:///model_selection.db', study_name='model_selection', direction='minimize', load_if_exists=True)"
      ],
      "execution_count": null,
      "outputs": []
    },
    {
      "cell_type": "code",
      "metadata": {
        "id": "mbR8UaFKXqy_",
        "colab_type": "code",
        "colab": {}
      },
      "source": [
        "def f(x, y, z):\n",
        "    return x**2 + y**2 + z**2"
      ],
      "execution_count": null,
      "outputs": []
    },
    {
      "cell_type": "code",
      "metadata": {
        "id": "ybs2Y3K1YGEO",
        "colab_type": "code",
        "colab": {}
      },
      "source": [
        "class MyException(Exception):\n",
        "    pass\n",
        "\n",
        "def objective(trial):\n",
        "    x = trial.suggest_uniform('x', -10, 10)\n",
        "    y = trial.suggest_uniform('y', -10, 10)\n",
        "    z = trial.suggest_uniform('z', -10, 10)\n",
        "    # if random.random() < 0.1:\n",
        "    #     raise MyException()\n",
        "    return f(x, y, z)"
      ],
      "execution_count": null,
      "outputs": []
    },
    {
      "cell_type": "code",
      "metadata": {
        "id": "EJG4sTUHYrN4",
        "colab_type": "code",
        "colab": {}
      },
      "source": [
        "study.optimize(objective, n_trials=100, catch=(MyException,))"
      ],
      "execution_count": null,
      "outputs": []
    },
    {
      "cell_type": "code",
      "metadata": {
        "id": "9AP08PCcYyCG",
        "colab_type": "code",
        "colab": {}
      },
      "source": [
        "study.best_params"
      ],
      "execution_count": null,
      "outputs": []
    },
    {
      "cell_type": "code",
      "metadata": {
        "id": "M2NYe7EKY4bo",
        "colab_type": "code",
        "colab": {}
      },
      "source": [
        "study.best_trial"
      ],
      "execution_count": null,
      "outputs": []
    },
    {
      "cell_type": "markdown",
      "metadata": {
        "id": "0tanJQLAsSgC",
        "colab_type": "text"
      },
      "source": [
        "# Visualizzazione"
      ]
    },
    {
      "cell_type": "code",
      "metadata": {
        "id": "YCYCw4C9sOSg",
        "colab_type": "code",
        "colab": {}
      },
      "source": [
        "study = optuna.load_study(study_name='model_selection', storage='sqlite:///model_selection.db' )"
      ],
      "execution_count": null,
      "outputs": []
    },
    {
      "cell_type": "code",
      "metadata": {
        "id": "o9TqZQeYsqgi",
        "colab_type": "code",
        "colab": {}
      },
      "source": [
        "optuna.visualization.plot_contour(study)"
      ],
      "execution_count": null,
      "outputs": []
    },
    {
      "cell_type": "code",
      "metadata": {
        "id": "wUXyKlvCtTmK",
        "colab_type": "code",
        "colab": {}
      },
      "source": [
        "optuna.visualization.plot_optimization_history(study)"
      ],
      "execution_count": null,
      "outputs": []
    },
    {
      "cell_type": "code",
      "metadata": {
        "id": "ApUfUSJowozi",
        "colab_type": "code",
        "colab": {}
      },
      "source": [
        "optuna.visualization.plot_param_importances(study)"
      ],
      "execution_count": null,
      "outputs": []
    },
    {
      "cell_type": "code",
      "metadata": {
        "id": "aOuUwB8fxXGC",
        "colab_type": "code",
        "colab": {}
      },
      "source": [
        "optuna.visualization.plot_parallel_coordinate(study)"
      ],
      "execution_count": null,
      "outputs": []
    },
    {
      "cell_type": "code",
      "metadata": {
        "id": "ksxZw7UfxhIa",
        "colab_type": "code",
        "colab": {}
      },
      "source": [
        "optuna.visualization.plot_slice(study)"
      ],
      "execution_count": null,
      "outputs": []
    },
    {
      "cell_type": "code",
      "metadata": {
        "id": "EZrMN0QEx9o2",
        "colab_type": "code",
        "colab": {}
      },
      "source": [
        "optuna.visualization.plot_edf(study)"
      ],
      "execution_count": null,
      "outputs": []
    },
    {
      "cell_type": "markdown",
      "metadata": {
        "id": "tnEtpUEUzfwL",
        "colab_type": "text"
      },
      "source": [
        "# pruning"
      ]
    },
    {
      "cell_type": "code",
      "metadata": {
        "id": "rpKqYUp56EPZ",
        "colab_type": "code",
        "colab": {}
      },
      "source": [
        "def random_walk(prob_left=0.5, step=1, start_value=100, steps=100):\n",
        "    prob_right = 1 - prob_left\n",
        "    value = start_value\n",
        "    for _ in range(steps):\n",
        "        delta = random.choices(population=[-step, step], weights=[prob_left, prob_right], k=1)[0]\n",
        "        value += delta\n",
        "        yield value"
      ],
      "execution_count": null,
      "outputs": []
    },
    {
      "cell_type": "code",
      "metadata": {
        "id": "X5aGA0wFziYl",
        "colab_type": "code",
        "colab": {}
      },
      "source": [
        "def objective(trial):\n",
        "        prob_left = trial.suggest_uniform('prob_left', 0, 1)\n",
        "        step = trial.suggest_uniform('step', 0, 1)\n",
        "        generator = random_walk(prob_left=prob_left, step=step)\n",
        "        for step, intermediate_value in enumerate(generator):\n",
        "            trial.report(intermediate_value, step)\n",
        "            if trial.should_prune():\n",
        "                raise optuna.TrialPruned()\n",
        "\n",
        "        final_value = intermediate_value\n",
        "        return final_value"
      ],
      "execution_count": null,
      "outputs": []
    },
    {
      "cell_type": "code",
      "metadata": {
        "id": "FmH3luy68pWC",
        "colab_type": "code",
        "colab": {}
      },
      "source": [
        "study = optuna.create_study(storage='sqlite:///pruner.db', pruner=optuna.pruners.MedianPruner())\n",
        "study.optimize(objective, n_trials=100, n_jobs=-1)"
      ],
      "execution_count": null,
      "outputs": []
    },
    {
      "cell_type": "code",
      "metadata": {
        "id": "UZ-5b33Z9ZK7",
        "colab_type": "code",
        "colab": {}
      },
      "source": [
        ""
      ],
      "execution_count": null,
      "outputs": []
    }
  ]
}