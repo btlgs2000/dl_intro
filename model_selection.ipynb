{
  "nbformat": 4,
  "nbformat_minor": 0,
  "metadata": {
    "colab": {
      "name": "model_selection.ipynb",
      "provenance": [],
      "authorship_tag": "ABX9TyOK1ixAQgK3/Y0IYtc0ptp7",
      "include_colab_link": true
    },
    "kernelspec": {
      "name": "python3",
      "display_name": "Python 3"
    }
  },
  "cells": [
    {
      "cell_type": "markdown",
      "metadata": {
        "id": "view-in-github",
        "colab_type": "text"
      },
      "source": [
        "<a href=\"https://colab.research.google.com/github/btlgs2000/dl_intro/blob/master/model_selection.ipynb\" target=\"_parent\"><img src=\"https://colab.research.google.com/assets/colab-badge.svg\" alt=\"Open In Colab\"/></a>"
      ]
    },
    {
      "cell_type": "code",
      "metadata": {
        "id": "x4hJaOY5W7QO",
        "colab_type": "code",
        "colab": {}
      },
      "source": [
        "# pr0ova"
      ],
      "execution_count": null,
      "outputs": []
    }
  ]
}